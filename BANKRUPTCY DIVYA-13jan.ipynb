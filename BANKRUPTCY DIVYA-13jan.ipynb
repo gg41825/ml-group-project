{
 "cells": [
  {
   "cell_type": "code",
   "execution_count": 1,
   "id": "16065c13",
   "metadata": {},
   "outputs": [],
   "source": [
    "import pandas as pd\n",
    "import matplotlib.pyplot as plt\n",
    "import seaborn as sns\n",
    "from sklearn.model_selection import train_test_split \n",
    "from imblearn.over_sampling import SMOTE\n",
    "from scipy import stats\n",
    "from sklearn import linear_model\n",
    "from sklearn.metrics import confusion_matrix\n",
    "from sklearn import tree\n",
    "from sklearn import ensemble\n",
    "from sklearn import neural_network\n",
    "from sklearn.neighbors import KNeighborsClassifier\n",
    "from sklearn import metrics\n",
    "import scikitplot as skplt\n",
    "from sklearn.metrics import roc_curve, roc_auc_score, accuracy_score, recall_score, precision_score, f1_score, confusion_matrix, ConfusionMatrixDisplay, classification_report"
   ]
  },
  {
   "cell_type": "code",
   "execution_count": 2,
   "id": "dc5d0ede",
   "metadata": {},
   "outputs": [],
   "source": [
    "df = pd.read_csv('bankruptdata.csv')"
   ]
  },
  {
   "cell_type": "code",
   "execution_count": 3,
   "id": "aad58852",
   "metadata": {},
   "outputs": [
    {
     "data": {
      "text/html": [
       "<div>\n",
       "<style scoped>\n",
       "    .dataframe tbody tr th:only-of-type {\n",
       "        vertical-align: middle;\n",
       "    }\n",
       "\n",
       "    .dataframe tbody tr th {\n",
       "        vertical-align: top;\n",
       "    }\n",
       "\n",
       "    .dataframe thead th {\n",
       "        text-align: right;\n",
       "    }\n",
       "</style>\n",
       "<table border=\"1\" class=\"dataframe\">\n",
       "  <thead>\n",
       "    <tr style=\"text-align: right;\">\n",
       "      <th></th>\n",
       "      <th>Bankrupt</th>\n",
       "      <th>ROA(C) before interest and depreciation before interest</th>\n",
       "      <th>ROA(A) before interest and % after tax</th>\n",
       "      <th>ROA(B) before interest and depreciation after tax</th>\n",
       "      <th>Operating Gross Margin</th>\n",
       "      <th>Realized Sales Gross Margin</th>\n",
       "      <th>Operating Profit Rate</th>\n",
       "      <th>Pre-tax net Interest Rate</th>\n",
       "      <th>After-tax net Interest Rate</th>\n",
       "      <th>Non-industry income and expenditure/revenue</th>\n",
       "      <th>...</th>\n",
       "      <th>Net Income to Total Assets</th>\n",
       "      <th>Total assets to GNP price</th>\n",
       "      <th>No-credit Interval</th>\n",
       "      <th>Gross Profit to Sales</th>\n",
       "      <th>Net Income to Stockholder's Equity</th>\n",
       "      <th>Liability to Equity</th>\n",
       "      <th>Degree of Financial Leverage (DFL)</th>\n",
       "      <th>Interest Coverage Ratio (Interest expense to EBIT)</th>\n",
       "      <th>Net Income Flag</th>\n",
       "      <th>Equity to Liability</th>\n",
       "    </tr>\n",
       "  </thead>\n",
       "  <tbody>\n",
       "    <tr>\n",
       "      <th>0</th>\n",
       "      <td>1</td>\n",
       "      <td>0.370594</td>\n",
       "      <td>0.424389</td>\n",
       "      <td>0.405750</td>\n",
       "      <td>0.601457</td>\n",
       "      <td>0.601457</td>\n",
       "      <td>0.998969</td>\n",
       "      <td>0.796887</td>\n",
       "      <td>0.808809</td>\n",
       "      <td>0.302646</td>\n",
       "      <td>...</td>\n",
       "      <td>0.716845</td>\n",
       "      <td>0.009219</td>\n",
       "      <td>0.622879</td>\n",
       "      <td>0.601453</td>\n",
       "      <td>0.827890</td>\n",
       "      <td>0.290202</td>\n",
       "      <td>0.026601</td>\n",
       "      <td>0.564050</td>\n",
       "      <td>1</td>\n",
       "      <td>0.016469</td>\n",
       "    </tr>\n",
       "    <tr>\n",
       "      <th>1</th>\n",
       "      <td>1</td>\n",
       "      <td>0.464291</td>\n",
       "      <td>0.538214</td>\n",
       "      <td>0.516730</td>\n",
       "      <td>0.610235</td>\n",
       "      <td>0.610235</td>\n",
       "      <td>0.998946</td>\n",
       "      <td>0.797380</td>\n",
       "      <td>0.809301</td>\n",
       "      <td>0.303556</td>\n",
       "      <td>...</td>\n",
       "      <td>0.795297</td>\n",
       "      <td>0.008323</td>\n",
       "      <td>0.623652</td>\n",
       "      <td>0.610237</td>\n",
       "      <td>0.839969</td>\n",
       "      <td>0.283846</td>\n",
       "      <td>0.264577</td>\n",
       "      <td>0.570175</td>\n",
       "      <td>1</td>\n",
       "      <td>0.020794</td>\n",
       "    </tr>\n",
       "    <tr>\n",
       "      <th>2</th>\n",
       "      <td>1</td>\n",
       "      <td>0.426071</td>\n",
       "      <td>0.499019</td>\n",
       "      <td>0.472295</td>\n",
       "      <td>0.601450</td>\n",
       "      <td>0.601364</td>\n",
       "      <td>0.998857</td>\n",
       "      <td>0.796403</td>\n",
       "      <td>0.808388</td>\n",
       "      <td>0.302035</td>\n",
       "      <td>...</td>\n",
       "      <td>0.774670</td>\n",
       "      <td>0.040003</td>\n",
       "      <td>0.623841</td>\n",
       "      <td>0.601449</td>\n",
       "      <td>0.836774</td>\n",
       "      <td>0.290189</td>\n",
       "      <td>0.026555</td>\n",
       "      <td>0.563706</td>\n",
       "      <td>1</td>\n",
       "      <td>0.016474</td>\n",
       "    </tr>\n",
       "    <tr>\n",
       "      <th>3</th>\n",
       "      <td>1</td>\n",
       "      <td>0.399844</td>\n",
       "      <td>0.451265</td>\n",
       "      <td>0.457733</td>\n",
       "      <td>0.583541</td>\n",
       "      <td>0.583541</td>\n",
       "      <td>0.998700</td>\n",
       "      <td>0.796967</td>\n",
       "      <td>0.808966</td>\n",
       "      <td>0.303350</td>\n",
       "      <td>...</td>\n",
       "      <td>0.739555</td>\n",
       "      <td>0.003252</td>\n",
       "      <td>0.622929</td>\n",
       "      <td>0.583538</td>\n",
       "      <td>0.834697</td>\n",
       "      <td>0.281721</td>\n",
       "      <td>0.026697</td>\n",
       "      <td>0.564663</td>\n",
       "      <td>1</td>\n",
       "      <td>0.023982</td>\n",
       "    </tr>\n",
       "    <tr>\n",
       "      <th>4</th>\n",
       "      <td>1</td>\n",
       "      <td>0.465022</td>\n",
       "      <td>0.538432</td>\n",
       "      <td>0.522298</td>\n",
       "      <td>0.598783</td>\n",
       "      <td>0.598783</td>\n",
       "      <td>0.998973</td>\n",
       "      <td>0.797366</td>\n",
       "      <td>0.809304</td>\n",
       "      <td>0.303475</td>\n",
       "      <td>...</td>\n",
       "      <td>0.795016</td>\n",
       "      <td>0.003878</td>\n",
       "      <td>0.623521</td>\n",
       "      <td>0.598782</td>\n",
       "      <td>0.839973</td>\n",
       "      <td>0.278514</td>\n",
       "      <td>0.024752</td>\n",
       "      <td>0.575617</td>\n",
       "      <td>1</td>\n",
       "      <td>0.035490</td>\n",
       "    </tr>\n",
       "    <tr>\n",
       "      <th>...</th>\n",
       "      <td>...</td>\n",
       "      <td>...</td>\n",
       "      <td>...</td>\n",
       "      <td>...</td>\n",
       "      <td>...</td>\n",
       "      <td>...</td>\n",
       "      <td>...</td>\n",
       "      <td>...</td>\n",
       "      <td>...</td>\n",
       "      <td>...</td>\n",
       "      <td>...</td>\n",
       "      <td>...</td>\n",
       "      <td>...</td>\n",
       "      <td>...</td>\n",
       "      <td>...</td>\n",
       "      <td>...</td>\n",
       "      <td>...</td>\n",
       "      <td>...</td>\n",
       "      <td>...</td>\n",
       "      <td>...</td>\n",
       "      <td>...</td>\n",
       "    </tr>\n",
       "    <tr>\n",
       "      <th>6814</th>\n",
       "      <td>0</td>\n",
       "      <td>0.493687</td>\n",
       "      <td>0.539468</td>\n",
       "      <td>0.543230</td>\n",
       "      <td>0.604455</td>\n",
       "      <td>0.604462</td>\n",
       "      <td>0.998992</td>\n",
       "      <td>0.797409</td>\n",
       "      <td>0.809331</td>\n",
       "      <td>0.303510</td>\n",
       "      <td>...</td>\n",
       "      <td>0.799927</td>\n",
       "      <td>0.000466</td>\n",
       "      <td>0.623620</td>\n",
       "      <td>0.604455</td>\n",
       "      <td>0.840359</td>\n",
       "      <td>0.279606</td>\n",
       "      <td>0.027064</td>\n",
       "      <td>0.566193</td>\n",
       "      <td>1</td>\n",
       "      <td>0.029890</td>\n",
       "    </tr>\n",
       "    <tr>\n",
       "      <th>6815</th>\n",
       "      <td>0</td>\n",
       "      <td>0.475162</td>\n",
       "      <td>0.538269</td>\n",
       "      <td>0.524172</td>\n",
       "      <td>0.598308</td>\n",
       "      <td>0.598308</td>\n",
       "      <td>0.998992</td>\n",
       "      <td>0.797414</td>\n",
       "      <td>0.809327</td>\n",
       "      <td>0.303520</td>\n",
       "      <td>...</td>\n",
       "      <td>0.799748</td>\n",
       "      <td>0.001959</td>\n",
       "      <td>0.623931</td>\n",
       "      <td>0.598306</td>\n",
       "      <td>0.840306</td>\n",
       "      <td>0.278132</td>\n",
       "      <td>0.027009</td>\n",
       "      <td>0.566018</td>\n",
       "      <td>1</td>\n",
       "      <td>0.038284</td>\n",
       "    </tr>\n",
       "    <tr>\n",
       "      <th>6816</th>\n",
       "      <td>0</td>\n",
       "      <td>0.472725</td>\n",
       "      <td>0.533744</td>\n",
       "      <td>0.520638</td>\n",
       "      <td>0.610444</td>\n",
       "      <td>0.610213</td>\n",
       "      <td>0.998984</td>\n",
       "      <td>0.797401</td>\n",
       "      <td>0.809317</td>\n",
       "      <td>0.303512</td>\n",
       "      <td>...</td>\n",
       "      <td>0.797778</td>\n",
       "      <td>0.002840</td>\n",
       "      <td>0.624156</td>\n",
       "      <td>0.610441</td>\n",
       "      <td>0.840138</td>\n",
       "      <td>0.275789</td>\n",
       "      <td>0.026791</td>\n",
       "      <td>0.565158</td>\n",
       "      <td>1</td>\n",
       "      <td>0.097649</td>\n",
       "    </tr>\n",
       "    <tr>\n",
       "      <th>6817</th>\n",
       "      <td>0</td>\n",
       "      <td>0.506264</td>\n",
       "      <td>0.559911</td>\n",
       "      <td>0.554045</td>\n",
       "      <td>0.607850</td>\n",
       "      <td>0.607850</td>\n",
       "      <td>0.999074</td>\n",
       "      <td>0.797500</td>\n",
       "      <td>0.809399</td>\n",
       "      <td>0.303498</td>\n",
       "      <td>...</td>\n",
       "      <td>0.811808</td>\n",
       "      <td>0.002837</td>\n",
       "      <td>0.623957</td>\n",
       "      <td>0.607846</td>\n",
       "      <td>0.841084</td>\n",
       "      <td>0.277547</td>\n",
       "      <td>0.026822</td>\n",
       "      <td>0.565302</td>\n",
       "      <td>1</td>\n",
       "      <td>0.044009</td>\n",
       "    </tr>\n",
       "    <tr>\n",
       "      <th>6818</th>\n",
       "      <td>0</td>\n",
       "      <td>0.493053</td>\n",
       "      <td>0.570105</td>\n",
       "      <td>0.549548</td>\n",
       "      <td>0.627409</td>\n",
       "      <td>0.627409</td>\n",
       "      <td>0.998080</td>\n",
       "      <td>0.801987</td>\n",
       "      <td>0.813800</td>\n",
       "      <td>0.313415</td>\n",
       "      <td>...</td>\n",
       "      <td>0.815956</td>\n",
       "      <td>0.000707</td>\n",
       "      <td>0.626680</td>\n",
       "      <td>0.627408</td>\n",
       "      <td>0.841019</td>\n",
       "      <td>0.275114</td>\n",
       "      <td>0.026793</td>\n",
       "      <td>0.565167</td>\n",
       "      <td>1</td>\n",
       "      <td>0.233902</td>\n",
       "    </tr>\n",
       "  </tbody>\n",
       "</table>\n",
       "<p>6819 rows × 96 columns</p>\n",
       "</div>"
      ],
      "text/plain": [
       "      Bankrupt   ROA(C) before interest and depreciation before interest  \\\n",
       "0            1                                           0.370594          \n",
       "1            1                                           0.464291          \n",
       "2            1                                           0.426071          \n",
       "3            1                                           0.399844          \n",
       "4            1                                           0.465022          \n",
       "...        ...                                                ...          \n",
       "6814         0                                           0.493687          \n",
       "6815         0                                           0.475162          \n",
       "6816         0                                           0.472725          \n",
       "6817         0                                           0.506264          \n",
       "6818         0                                           0.493053          \n",
       "\n",
       "       ROA(A) before interest and % after tax  \\\n",
       "0                                    0.424389   \n",
       "1                                    0.538214   \n",
       "2                                    0.499019   \n",
       "3                                    0.451265   \n",
       "4                                    0.538432   \n",
       "...                                       ...   \n",
       "6814                                 0.539468   \n",
       "6815                                 0.538269   \n",
       "6816                                 0.533744   \n",
       "6817                                 0.559911   \n",
       "6818                                 0.570105   \n",
       "\n",
       "       ROA(B) before interest and depreciation after tax  \\\n",
       "0                                              0.405750    \n",
       "1                                              0.516730    \n",
       "2                                              0.472295    \n",
       "3                                              0.457733    \n",
       "4                                              0.522298    \n",
       "...                                                 ...    \n",
       "6814                                           0.543230    \n",
       "6815                                           0.524172    \n",
       "6816                                           0.520638    \n",
       "6817                                           0.554045    \n",
       "6818                                           0.549548    \n",
       "\n",
       "       Operating Gross Margin   Realized Sales Gross Margin  \\\n",
       "0                    0.601457                      0.601457   \n",
       "1                    0.610235                      0.610235   \n",
       "2                    0.601450                      0.601364   \n",
       "3                    0.583541                      0.583541   \n",
       "4                    0.598783                      0.598783   \n",
       "...                       ...                           ...   \n",
       "6814                 0.604455                      0.604462   \n",
       "6815                 0.598308                      0.598308   \n",
       "6816                 0.610444                      0.610213   \n",
       "6817                 0.607850                      0.607850   \n",
       "6818                 0.627409                      0.627409   \n",
       "\n",
       "       Operating Profit Rate   Pre-tax net Interest Rate  \\\n",
       "0                   0.998969                    0.796887   \n",
       "1                   0.998946                    0.797380   \n",
       "2                   0.998857                    0.796403   \n",
       "3                   0.998700                    0.796967   \n",
       "4                   0.998973                    0.797366   \n",
       "...                      ...                         ...   \n",
       "6814                0.998992                    0.797409   \n",
       "6815                0.998992                    0.797414   \n",
       "6816                0.998984                    0.797401   \n",
       "6817                0.999074                    0.797500   \n",
       "6818                0.998080                    0.801987   \n",
       "\n",
       "       After-tax net Interest Rate  \\\n",
       "0                         0.808809   \n",
       "1                         0.809301   \n",
       "2                         0.808388   \n",
       "3                         0.808966   \n",
       "4                         0.809304   \n",
       "...                            ...   \n",
       "6814                      0.809331   \n",
       "6815                      0.809327   \n",
       "6816                      0.809317   \n",
       "6817                      0.809399   \n",
       "6818                      0.813800   \n",
       "\n",
       "       Non-industry income and expenditure/revenue  ...  \\\n",
       "0                                         0.302646  ...   \n",
       "1                                         0.303556  ...   \n",
       "2                                         0.302035  ...   \n",
       "3                                         0.303350  ...   \n",
       "4                                         0.303475  ...   \n",
       "...                                            ...  ...   \n",
       "6814                                      0.303510  ...   \n",
       "6815                                      0.303520  ...   \n",
       "6816                                      0.303512  ...   \n",
       "6817                                      0.303498  ...   \n",
       "6818                                      0.313415  ...   \n",
       "\n",
       "       Net Income to Total Assets   Total assets to GNP price  \\\n",
       "0                        0.716845                    0.009219   \n",
       "1                        0.795297                    0.008323   \n",
       "2                        0.774670                    0.040003   \n",
       "3                        0.739555                    0.003252   \n",
       "4                        0.795016                    0.003878   \n",
       "...                           ...                         ...   \n",
       "6814                     0.799927                    0.000466   \n",
       "6815                     0.799748                    0.001959   \n",
       "6816                     0.797778                    0.002840   \n",
       "6817                     0.811808                    0.002837   \n",
       "6818                     0.815956                    0.000707   \n",
       "\n",
       "       No-credit Interval   Gross Profit to Sales  \\\n",
       "0                0.622879                0.601453   \n",
       "1                0.623652                0.610237   \n",
       "2                0.623841                0.601449   \n",
       "3                0.622929                0.583538   \n",
       "4                0.623521                0.598782   \n",
       "...                   ...                     ...   \n",
       "6814             0.623620                0.604455   \n",
       "6815             0.623931                0.598306   \n",
       "6816             0.624156                0.610441   \n",
       "6817             0.623957                0.607846   \n",
       "6818             0.626680                0.627408   \n",
       "\n",
       "       Net Income to Stockholder's Equity   Liability to Equity  \\\n",
       "0                                0.827890              0.290202   \n",
       "1                                0.839969              0.283846   \n",
       "2                                0.836774              0.290189   \n",
       "3                                0.834697              0.281721   \n",
       "4                                0.839973              0.278514   \n",
       "...                                   ...                   ...   \n",
       "6814                             0.840359              0.279606   \n",
       "6815                             0.840306              0.278132   \n",
       "6816                             0.840138              0.275789   \n",
       "6817                             0.841084              0.277547   \n",
       "6818                             0.841019              0.275114   \n",
       "\n",
       "       Degree of Financial Leverage (DFL)  \\\n",
       "0                                0.026601   \n",
       "1                                0.264577   \n",
       "2                                0.026555   \n",
       "3                                0.026697   \n",
       "4                                0.024752   \n",
       "...                                   ...   \n",
       "6814                             0.027064   \n",
       "6815                             0.027009   \n",
       "6816                             0.026791   \n",
       "6817                             0.026822   \n",
       "6818                             0.026793   \n",
       "\n",
       "       Interest Coverage Ratio (Interest expense to EBIT)   Net Income Flag  \\\n",
       "0                                              0.564050                   1   \n",
       "1                                              0.570175                   1   \n",
       "2                                              0.563706                   1   \n",
       "3                                              0.564663                   1   \n",
       "4                                              0.575617                   1   \n",
       "...                                                 ...                 ...   \n",
       "6814                                           0.566193                   1   \n",
       "6815                                           0.566018                   1   \n",
       "6816                                           0.565158                   1   \n",
       "6817                                           0.565302                   1   \n",
       "6818                                           0.565167                   1   \n",
       "\n",
       "       Equity to Liability  \n",
       "0                 0.016469  \n",
       "1                 0.020794  \n",
       "2                 0.016474  \n",
       "3                 0.023982  \n",
       "4                 0.035490  \n",
       "...                    ...  \n",
       "6814              0.029890  \n",
       "6815              0.038284  \n",
       "6816              0.097649  \n",
       "6817              0.044009  \n",
       "6818              0.233902  \n",
       "\n",
       "[6819 rows x 96 columns]"
      ]
     },
     "execution_count": 3,
     "metadata": {},
     "output_type": "execute_result"
    }
   ],
   "source": [
    "df"
   ]
  },
  {
   "cell_type": "code",
   "execution_count": 4,
   "id": "bcf27beb",
   "metadata": {},
   "outputs": [
    {
     "ename": "TypeError",
     "evalue": "'tuple' object is not callable",
     "output_type": "error",
     "traceback": [
      "\u001b[1;31m---------------------------------------------------------------------------\u001b[0m",
      "\u001b[1;31mTypeError\u001b[0m                                 Traceback (most recent call last)",
      "Input \u001b[1;32mIn [4]\u001b[0m, in \u001b[0;36m<cell line: 1>\u001b[1;34m()\u001b[0m\n\u001b[1;32m----> 1\u001b[0m shape\u001b[38;5;241m=\u001b[39m \u001b[43mdf\u001b[49m\u001b[38;5;241;43m.\u001b[39;49m\u001b[43mshape\u001b[49m\u001b[43m(\u001b[49m\u001b[43m)\u001b[49m\n\u001b[0;32m      2\u001b[0m \u001b[38;5;28mprint\u001b[39m(shape)\n",
      "\u001b[1;31mTypeError\u001b[0m: 'tuple' object is not callable"
     ]
    }
   ],
   "source": [
    "shape= df.shape()\n",
    "print(shape)"
   ]
  },
  {
   "cell_type": "code",
   "execution_count": null,
   "id": "f32adbd3",
   "metadata": {},
   "outputs": [],
   "source": [
    "_, axes = plt.subplots(6,5, figsize=(15, 15))\n",
    "not_bankrupt = [df.Bankrupt== 0]\n",
    "is_bankrupt = [df.Bankrupt== 1]\n",
    "ax = axes.ravel()                     # flatten the 2D array\n",
    "for i in range(95):                   # for each of the 30 features\n",
    "    bins = 20\n",
    "    #---plot histogram for each feature---\n",
    "    ax[i].hist(not_bankrupt[:i], bins=bins, color='r', alpha=.5)\n",
    "    ax[i].hist(is_bankrupt[:i], bins=bins, color='b', alpha=0.3)\n",
    "    #---set the title---\n",
    "    #---display the legend---\n",
    "    ax[i].legend(['not_bankrupt','is_bankrupt'], loc='best', fontsize=8)\n",
    "    \n",
    "plt.tight_layout()\n",
    "plt.show()"
   ]
  },
  {
   "cell_type": "code",
   "execution_count": 5,
   "id": "d82e946c",
   "metadata": {},
   "outputs": [
    {
     "name": "stdout",
     "output_type": "stream",
     "text": [
      "<class 'pandas.core.frame.DataFrame'>\n",
      "RangeIndex: 6819 entries, 0 to 6818\n",
      "Data columns (total 96 columns):\n",
      " #   Column                                                    Non-Null Count  Dtype  \n",
      "---  ------                                                    --------------  -----  \n",
      " 0   Bankrupt                                                  6819 non-null   int64  \n",
      " 1    ROA(C) before interest and depreciation before interest  6819 non-null   float64\n",
      " 2    ROA(A) before interest and % after tax                   6819 non-null   float64\n",
      " 3    ROA(B) before interest and depreciation after tax        6819 non-null   float64\n",
      " 4    Operating Gross Margin                                   6819 non-null   float64\n",
      " 5    Realized Sales Gross Margin                              6819 non-null   float64\n",
      " 6    Operating Profit Rate                                    6819 non-null   float64\n",
      " 7    Pre-tax net Interest Rate                                6819 non-null   float64\n",
      " 8    After-tax net Interest Rate                              6819 non-null   float64\n",
      " 9    Non-industry income and expenditure/revenue              6819 non-null   float64\n",
      " 10   Continuous interest rate (after tax)                     6819 non-null   float64\n",
      " 11   Operating Expense Rate                                   6819 non-null   float64\n",
      " 12   Research and development expense rate                    6819 non-null   float64\n",
      " 13   Cash flow rate                                           6819 non-null   float64\n",
      " 14   Interest-bearing debt interest rate                      6819 non-null   float64\n",
      " 15   Tax rate (A)                                             6819 non-null   float64\n",
      " 16   Net Value Per Share (B)                                  6819 non-null   float64\n",
      " 17   Net Value Per Share (A)                                  6819 non-null   float64\n",
      " 18   Net Value Per Share (C)                                  6819 non-null   float64\n",
      " 19   Persistent EPS in the Last Four Seasons                  6819 non-null   float64\n",
      " 20   Cash Flow Per Share                                      6819 non-null   float64\n",
      " 21   Revenue Per Share (Yuan ¥)                               6819 non-null   float64\n",
      " 22   Operating Profit Per Share (Yuan ¥)                      6819 non-null   float64\n",
      " 23   Per Share Net profit before tax (Yuan ¥)                 6819 non-null   float64\n",
      " 24   Realized Sales Gross Profit Growth Rate                  6819 non-null   float64\n",
      " 25   Operating Profit Growth Rate                             6819 non-null   float64\n",
      " 26   After-tax Net Profit Growth Rate                         6819 non-null   float64\n",
      " 27   Regular Net Profit Growth Rate                           6819 non-null   float64\n",
      " 28   Continuous Net Profit Growth Rate                        6819 non-null   float64\n",
      " 29   Total Asset Growth Rate                                  6819 non-null   float64\n",
      " 30   Net Value Growth Rate                                    6819 non-null   float64\n",
      " 31   Total Asset Return Growth Rate Ratio                     6819 non-null   float64\n",
      " 32   Cash Reinvestment %                                      6819 non-null   float64\n",
      " 33   Current Ratio                                            6819 non-null   float64\n",
      " 34   Quick Ratio                                              6819 non-null   float64\n",
      " 35   Interest Expense Ratio                                   6819 non-null   float64\n",
      " 36   Total debt/Total net worth                               6819 non-null   float64\n",
      " 37   Debt ratio %                                             6819 non-null   float64\n",
      " 38   Net worth/Assets                                         6819 non-null   float64\n",
      " 39   Long-term fund suitability ratio (A)                     6819 non-null   float64\n",
      " 40   Borrowing dependency                                     6819 non-null   float64\n",
      " 41   Contingent liabilities/Net worth                         6819 non-null   float64\n",
      " 42   Operating profit/Paid-in capital                         6819 non-null   float64\n",
      " 43   Net profit before tax/Paid-in capital                    6819 non-null   float64\n",
      " 44   Inventory and accounts receivable/Net value              6819 non-null   float64\n",
      " 45   Total Asset Turnover                                     6819 non-null   float64\n",
      " 46   Accounts Receivable Turnover                             6819 non-null   float64\n",
      " 47   Average Collection Days                                  6819 non-null   float64\n",
      " 48   Inventory Turnover Rate (times)                          6819 non-null   float64\n",
      " 49   Fixed Assets Turnover Frequency                          6819 non-null   float64\n",
      " 50   Net Worth Turnover Rate (times)                          6819 non-null   float64\n",
      " 51   Revenue per person                                       6819 non-null   float64\n",
      " 52   Operating profit per person                              6819 non-null   float64\n",
      " 53   Allocation rate per person                               6819 non-null   float64\n",
      " 54   Working Capital to Total Assets                          6819 non-null   float64\n",
      " 55   Quick Assets/Total Assets                                6819 non-null   float64\n",
      " 56   Current Assets/Total Assets                              6819 non-null   float64\n",
      " 57   Cash/Total Assets                                        6819 non-null   float64\n",
      " 58   Quick Assets/Current Liability                           6819 non-null   float64\n",
      " 59   Cash/Current Liability                                   6819 non-null   float64\n",
      " 60   Current Liability to Assets                              6819 non-null   float64\n",
      " 61   Operating Funds to Liability                             6819 non-null   float64\n",
      " 62   Inventory/Working Capital                                6819 non-null   float64\n",
      " 63   Inventory/Current Liability                              6819 non-null   float64\n",
      " 64   Current Liabilities/Liability                            6819 non-null   float64\n",
      " 65   Working Capital/Equity                                   6819 non-null   float64\n",
      " 66   Current Liabilities/Equity                               6819 non-null   float64\n",
      " 67   Long-term Liability to Current Assets                    6819 non-null   float64\n",
      " 68   Retained Earnings to Total Assets                        6819 non-null   float64\n",
      " 69   Total income/Total expense                               6819 non-null   float64\n",
      " 70   Total expense/Assets                                     6819 non-null   float64\n",
      " 71   Current Asset Turnover Rate                              6819 non-null   float64\n",
      " 72   Quick Asset Turnover Rate                                6819 non-null   float64\n",
      " 73   Working capitcal Turnover Rate                           6819 non-null   float64\n",
      " 74   Cash Turnover Rate                                       6819 non-null   float64\n",
      " 75   Cash Flow to Sales                                       6819 non-null   float64\n",
      " 76   Fixed Assets to Assets                                   6819 non-null   float64\n",
      " 77   Current Liability to Liability                           6819 non-null   float64\n",
      " 78   Current Liability to Equity                              6819 non-null   float64\n",
      " 79   Equity to Long-term Liability                            6819 non-null   float64\n",
      " 80   Cash Flow to Total Assets                                6819 non-null   float64\n",
      " 81   Cash Flow to Liability                                   6819 non-null   float64\n",
      " 82   CFO to Assets                                            6819 non-null   float64\n",
      " 83   Cash Flow to Equity                                      6819 non-null   float64\n",
      " 84   Current Liability to Current Assets                      6819 non-null   float64\n",
      " 85   Liability-Assets Flag                                    6819 non-null   int64  \n",
      " 86   Net Income to Total Assets                               6819 non-null   float64\n",
      " 87   Total assets to GNP price                                6819 non-null   float64\n",
      " 88   No-credit Interval                                       6819 non-null   float64\n",
      " 89   Gross Profit to Sales                                    6819 non-null   float64\n",
      " 90   Net Income to Stockholder's Equity                       6819 non-null   float64\n",
      " 91   Liability to Equity                                      6819 non-null   float64\n",
      " 92   Degree of Financial Leverage (DFL)                       6819 non-null   float64\n",
      " 93   Interest Coverage Ratio (Interest expense to EBIT)       6819 non-null   float64\n",
      " 94   Net Income Flag                                          6819 non-null   int64  \n",
      " 95   Equity to Liability                                      6819 non-null   float64\n",
      "dtypes: float64(93), int64(3)\n",
      "memory usage: 5.0 MB\n"
     ]
    }
   ],
   "source": [
    "df.info()"
   ]
  },
  {
   "cell_type": "code",
   "execution_count": 6,
   "id": "0ce24334",
   "metadata": {},
   "outputs": [
    {
     "data": {
      "text/plain": [
       "0    6599\n",
       "1     220\n",
       "Name: Bankrupt, dtype: int64"
      ]
     },
     "execution_count": 6,
     "metadata": {},
     "output_type": "execute_result"
    }
   ],
   "source": [
    "df['Bankrupt'].value_counts()"
   ]
  },
  {
   "cell_type": "code",
   "execution_count": 7,
   "id": "fc5fdcec",
   "metadata": {},
   "outputs": [
    {
     "data": {
      "image/png": "[encoded data removed]",
      "text/plain": [
       "<Figure size 432x288 with 1 Axes>"
      ]
     },
     "metadata": {},
     "output_type": "display_data"
    }
   ],
   "source": [
    "data = df[\"Bankrupt\"].value_counts()\n",
    "plt.pie(data,autopct='%1.2f%%',labels=data.index)\n",
    "plt.show()"
   ]
  },
  {
   "cell_type": "code",
   "execution_count": 8,
   "id": "b89aca1d",
   "metadata": {},
   "outputs": [],
   "source": [
    "X = df.copy() \n",
    "\n",
    "y = df['Bankrupt']\n",
    "\n",
    "X = X.drop(['Bankrupt'], axis=1)"
   ]
  },
  {
   "cell_type": "markdown",
   "id": "1db75907",
   "metadata": {},
   "source": [
    "# Check for collinearity"
   ]
  },
  {
   "cell_type": "code",
   "execution_count": 9,
   "id": "cce8a7dd",
   "metadata": {},
   "outputs": [
    {
     "data": {
      "text/plain": [
       "Bankrupt                                                    1.000000\n",
       " Net Income to Total Assets                                 0.315457\n",
       " ROA(A) before interest and % after tax                     0.282941\n",
       " ROA(B) before interest and depreciation after tax          0.273051\n",
       " ROA(C) before interest and depreciation before interest    0.260807\n",
       "                                                              ...   \n",
       " Long-term Liability to Current Assets                      0.000778\n",
       " Cash Flow to Sales                                         0.000479\n",
       " Realized Sales Gross Profit Growth Rate                    0.000458\n",
       " Operating Profit Rate                                      0.000230\n",
       " Net Income Flag                                                 NaN\n",
       "Name: Bankrupt, Length: 96, dtype: float64"
      ]
     },
     "execution_count": 9,
     "metadata": {},
     "output_type": "execute_result"
    }
   ],
   "source": [
    "df_corr = df.corr()['Bankrupt'].abs().sort_values(ascending=False)\n",
    "df_corr"
   ]
  },
  {
   "cell_type": "code",
   "execution_count": 10,
   "id": "18962c5e",
   "metadata": {},
   "outputs": [
    {
     "data": {
      "text/plain": [
       "32"
      ]
     },
     "execution_count": 10,
     "metadata": {},
     "output_type": "execute_result"
    }
   ],
   "source": [
    "# get all the features that has at least 0.1 in correlation to the \n",
    "# target\n",
    "features = df_corr[df_corr > 0.1].index.to_list()[1:]\n",
    "len(features)                         "
   ]
  },
  {
   "cell_type": "markdown",
   "id": "e5fe4b6d",
   "metadata": {},
   "source": [
    "# Multicolinearity: VIF >5 means high multi collinearity"
   ]
  },
  {
   "cell_type": "code",
   "execution_count": 11,
   "id": "dc3ec553",
   "metadata": {},
   "outputs": [
    {
     "name": "stderr",
     "output_type": "stream",
     "text": [
      "C:\\Users\\DIVYA\\AppData\\Local\\Temp\\ipykernel_26532\\41369364.py:16: RuntimeWarning: divide by zero encountered in double_scalars\n",
      "  vif[feature] = 1/(tolerance[feature])\n",
      "C:\\Users\\DIVYA\\AppData\\Local\\Temp\\ipykernel_26532\\41369364.py:16: RuntimeWarning: divide by zero encountered in double_scalars\n",
      "  vif[feature] = 1/(tolerance[feature])\n",
      "C:\\Users\\DIVYA\\AppData\\Local\\Temp\\ipykernel_26532\\41369364.py:16: RuntimeWarning: divide by zero encountered in double_scalars\n",
      "  vif[feature] = 1/(tolerance[feature])\n",
      "C:\\Users\\DIVYA\\AppData\\Local\\Temp\\ipykernel_26532\\41369364.py:16: RuntimeWarning: divide by zero encountered in double_scalars\n",
      "  vif[feature] = 1/(tolerance[feature])\n"
     ]
    },
    {
     "data": {
      "text/html": [
       "<div>\n",
       "<style scoped>\n",
       "    .dataframe tbody tr th:only-of-type {\n",
       "        vertical-align: middle;\n",
       "    }\n",
       "\n",
       "    .dataframe tbody tr th {\n",
       "        vertical-align: top;\n",
       "    }\n",
       "\n",
       "    .dataframe thead th {\n",
       "        text-align: right;\n",
       "    }\n",
       "</style>\n",
       "<table border=\"1\" class=\"dataframe\">\n",
       "  <thead>\n",
       "    <tr style=\"text-align: right;\">\n",
       "      <th></th>\n",
       "      <th>VIF</th>\n",
       "      <th>Tolerance</th>\n",
       "    </tr>\n",
       "  </thead>\n",
       "  <tbody>\n",
       "    <tr>\n",
       "      <th>Net Income to Total Assets</th>\n",
       "      <td>2.558782e+01</td>\n",
       "      <td>3.908109e-02</td>\n",
       "    </tr>\n",
       "    <tr>\n",
       "      <th>ROA(A) before interest and % after tax</th>\n",
       "      <td>4.028774e+01</td>\n",
       "      <td>2.482145e-02</td>\n",
       "    </tr>\n",
       "    <tr>\n",
       "      <th>ROA(B) before interest and depreciation after tax</th>\n",
       "      <td>9.752349e+01</td>\n",
       "      <td>1.025394e-02</td>\n",
       "    </tr>\n",
       "    <tr>\n",
       "      <th>ROA(C) before interest and depreciation before interest</th>\n",
       "      <td>6.527145e+01</td>\n",
       "      <td>1.532063e-02</td>\n",
       "    </tr>\n",
       "    <tr>\n",
       "      <th>Net worth/Assets</th>\n",
       "      <td>inf</td>\n",
       "      <td>0.000000e+00</td>\n",
       "    </tr>\n",
       "    <tr>\n",
       "      <th>Debt ratio %</th>\n",
       "      <td>inf</td>\n",
       "      <td>0.000000e+00</td>\n",
       "    </tr>\n",
       "    <tr>\n",
       "      <th>Persistent EPS in the Last Four Seasons</th>\n",
       "      <td>3.006334e+01</td>\n",
       "      <td>3.326310e-02</td>\n",
       "    </tr>\n",
       "    <tr>\n",
       "      <th>Retained Earnings to Total Assets</th>\n",
       "      <td>3.579470e+00</td>\n",
       "      <td>2.793710e-01</td>\n",
       "    </tr>\n",
       "    <tr>\n",
       "      <th>Net profit before tax/Paid-in capital</th>\n",
       "      <td>2.907633e+01</td>\n",
       "      <td>3.439223e-02</td>\n",
       "    </tr>\n",
       "    <tr>\n",
       "      <th>Per Share Net profit before tax (Yuan ¥)</th>\n",
       "      <td>1.983375e+01</td>\n",
       "      <td>5.041912e-02</td>\n",
       "    </tr>\n",
       "    <tr>\n",
       "      <th>Current Liability to Assets</th>\n",
       "      <td>5.798621e+00</td>\n",
       "      <td>1.724548e-01</td>\n",
       "    </tr>\n",
       "    <tr>\n",
       "      <th>Working Capital to Total Assets</th>\n",
       "      <td>3.770177e+00</td>\n",
       "      <td>2.652395e-01</td>\n",
       "    </tr>\n",
       "    <tr>\n",
       "      <th>Net Income to Stockholder's Equity</th>\n",
       "      <td>5.006578e+00</td>\n",
       "      <td>1.997372e-01</td>\n",
       "    </tr>\n",
       "    <tr>\n",
       "      <th>Borrowing dependency</th>\n",
       "      <td>2.206654e+01</td>\n",
       "      <td>4.531749e-02</td>\n",
       "    </tr>\n",
       "    <tr>\n",
       "      <th>Current Liability to Current Assets</th>\n",
       "      <td>1.814503e+00</td>\n",
       "      <td>5.511152e-01</td>\n",
       "    </tr>\n",
       "    <tr>\n",
       "      <th>Liability to Equity</th>\n",
       "      <td>4.164324e+02</td>\n",
       "      <td>2.401350e-03</td>\n",
       "    </tr>\n",
       "    <tr>\n",
       "      <th>Net Value Per Share (A)</th>\n",
       "      <td>3.865203e+03</td>\n",
       "      <td>2.587186e-04</td>\n",
       "    </tr>\n",
       "    <tr>\n",
       "      <th>Net Value Per Share (B)</th>\n",
       "      <td>7.737146e+02</td>\n",
       "      <td>1.292466e-03</td>\n",
       "    </tr>\n",
       "    <tr>\n",
       "      <th>Net Value Per Share (C)</th>\n",
       "      <td>3.084240e+03</td>\n",
       "      <td>3.242290e-04</td>\n",
       "    </tr>\n",
       "    <tr>\n",
       "      <th>Current Liability to Equity</th>\n",
       "      <td>inf</td>\n",
       "      <td>0.000000e+00</td>\n",
       "    </tr>\n",
       "    <tr>\n",
       "      <th>Current Liabilities/Equity</th>\n",
       "      <td>inf</td>\n",
       "      <td>0.000000e+00</td>\n",
       "    </tr>\n",
       "    <tr>\n",
       "      <th>Working Capital/Equity</th>\n",
       "      <td>3.974909e+00</td>\n",
       "      <td>2.515781e-01</td>\n",
       "    </tr>\n",
       "    <tr>\n",
       "      <th>Operating Profit Per Share (Yuan ¥)</th>\n",
       "      <td>4.491085e+02</td>\n",
       "      <td>2.226634e-03</td>\n",
       "    </tr>\n",
       "    <tr>\n",
       "      <th>Operating profit/Paid-in capital</th>\n",
       "      <td>3.786466e+02</td>\n",
       "      <td>2.640985e-03</td>\n",
       "    </tr>\n",
       "    <tr>\n",
       "      <th>Liability-Assets Flag</th>\n",
       "      <td>1.471353e+00</td>\n",
       "      <td>6.796467e-01</td>\n",
       "    </tr>\n",
       "    <tr>\n",
       "      <th>Total expense/Assets</th>\n",
       "      <td>2.289977e+00</td>\n",
       "      <td>4.366856e-01</td>\n",
       "    </tr>\n",
       "    <tr>\n",
       "      <th>Equity to Long-term Liability</th>\n",
       "      <td>4.070277e+01</td>\n",
       "      <td>2.456835e-02</td>\n",
       "    </tr>\n",
       "    <tr>\n",
       "      <th>CFO to Assets</th>\n",
       "      <td>1.582552e+00</td>\n",
       "      <td>6.318909e-01</td>\n",
       "    </tr>\n",
       "    <tr>\n",
       "      <th>Tax rate (A)</th>\n",
       "      <td>1.285241e+00</td>\n",
       "      <td>7.780641e-01</td>\n",
       "    </tr>\n",
       "    <tr>\n",
       "      <th>Cash/Total Assets</th>\n",
       "      <td>1.811377e+00</td>\n",
       "      <td>5.520661e-01</td>\n",
       "    </tr>\n",
       "    <tr>\n",
       "      <th>Gross Profit to Sales</th>\n",
       "      <td>6.682814e+07</td>\n",
       "      <td>1.496376e-08</td>\n",
       "    </tr>\n",
       "    <tr>\n",
       "      <th>Operating Gross Margin</th>\n",
       "      <td>6.687921e+07</td>\n",
       "      <td>1.495233e-08</td>\n",
       "    </tr>\n",
       "  </tbody>\n",
       "</table>\n",
       "</div>"
      ],
      "text/plain": [
       "                                                             VIF     Tolerance\n",
       " Net Income to Total Assets                         2.558782e+01  3.908109e-02\n",
       " ROA(A) before interest and % after tax             4.028774e+01  2.482145e-02\n",
       " ROA(B) before interest and depreciation after tax  9.752349e+01  1.025394e-02\n",
       " ROA(C) before interest and depreciation before...  6.527145e+01  1.532063e-02\n",
       " Net worth/Assets                                            inf  0.000000e+00\n",
       " Debt ratio %                                                inf  0.000000e+00\n",
       " Persistent EPS in the Last Four Seasons            3.006334e+01  3.326310e-02\n",
       " Retained Earnings to Total Assets                  3.579470e+00  2.793710e-01\n",
       " Net profit before tax/Paid-in capital              2.907633e+01  3.439223e-02\n",
       " Per Share Net profit before tax (Yuan ¥)           1.983375e+01  5.041912e-02\n",
       " Current Liability to Assets                        5.798621e+00  1.724548e-01\n",
       " Working Capital to Total Assets                    3.770177e+00  2.652395e-01\n",
       " Net Income to Stockholder's Equity                 5.006578e+00  1.997372e-01\n",
       " Borrowing dependency                               2.206654e+01  4.531749e-02\n",
       " Current Liability to Current Assets                1.814503e+00  5.511152e-01\n",
       " Liability to Equity                                4.164324e+02  2.401350e-03\n",
       " Net Value Per Share (A)                            3.865203e+03  2.587186e-04\n",
       " Net Value Per Share (B)                            7.737146e+02  1.292466e-03\n",
       " Net Value Per Share (C)                            3.084240e+03  3.242290e-04\n",
       " Current Liability to Equity                                 inf  0.000000e+00\n",
       " Current Liabilities/Equity                                  inf  0.000000e+00\n",
       " Working Capital/Equity                             3.974909e+00  2.515781e-01\n",
       " Operating Profit Per Share (Yuan ¥)                4.491085e+02  2.226634e-03\n",
       " Operating profit/Paid-in capital                   3.786466e+02  2.640985e-03\n",
       " Liability-Assets Flag                              1.471353e+00  6.796467e-01\n",
       " Total expense/Assets                               2.289977e+00  4.366856e-01\n",
       " Equity to Long-term Liability                      4.070277e+01  2.456835e-02\n",
       " CFO to Assets                                      1.582552e+00  6.318909e-01\n",
       " Tax rate (A)                                       1.285241e+00  7.780641e-01\n",
       " Cash/Total Assets                                  1.811377e+00  5.520661e-01\n",
       " Gross Profit to Sales                              6.682814e+07  1.496376e-08\n",
       " Operating Gross Margin                             6.687921e+07  1.495233e-08"
      ]
     },
     "execution_count": 11,
     "metadata": {},
     "output_type": "execute_result"
    }
   ],
   "source": [
    "import pandas as pd\n",
    "from sklearn.linear_model import LinearRegression \n",
    "def calculate_vif(df, features):    \n",
    "    vif, tolerance = {}, {}\n",
    "    # all the features that you want to examine\n",
    "    for feature in features:\n",
    "        # extract all the other features you will regress against\n",
    "        X = [f for f in features if f != feature]        \n",
    "        X, y = df[X], df[feature]\n",
    "        # extract r-squared from the fit\n",
    "        r2 = LinearRegression().fit(X, y).score(X, y)                \n",
    "        \n",
    "        # calculate tolerance\n",
    "        tolerance[feature] = 1 - r2\n",
    "        # calculate VIF\n",
    "        vif[feature] = 1/(tolerance[feature])\n",
    "    # return VIF DataFrame\n",
    "    return pd.DataFrame({'VIF': vif, 'Tolerance': tolerance})\n",
    "calculate_vif(df,features)"
   ]
  },
  {
   "cell_type": "code",
   "execution_count": 12,
   "id": "cf705282",
   "metadata": {},
   "outputs": [
    {
     "name": "stderr",
     "output_type": "stream",
     "text": [
      "C:\\Users\\DIVYA\\AppData\\Local\\Temp\\ipykernel_26532\\41369364.py:16: RuntimeWarning: divide by zero encountered in double_scalars\n",
      "  vif[feature] = 1/(tolerance[feature])\n",
      "C:\\Users\\DIVYA\\AppData\\Local\\Temp\\ipykernel_26532\\41369364.py:16: RuntimeWarning: divide by zero encountered in double_scalars\n",
      "  vif[feature] = 1/(tolerance[feature])\n",
      "C:\\Users\\DIVYA\\AppData\\Local\\Temp\\ipykernel_26532\\41369364.py:16: RuntimeWarning: divide by zero encountered in double_scalars\n",
      "  vif[feature] = 1/(tolerance[feature])\n",
      "C:\\Users\\DIVYA\\AppData\\Local\\Temp\\ipykernel_26532\\41369364.py:16: RuntimeWarning: divide by zero encountered in double_scalars\n",
      "  vif[feature] = 1/(tolerance[feature])\n"
     ]
    },
    {
     "data": {
      "text/html": [
       "<div>\n",
       "<style scoped>\n",
       "    .dataframe tbody tr th:only-of-type {\n",
       "        vertical-align: middle;\n",
       "    }\n",
       "\n",
       "    .dataframe tbody tr th {\n",
       "        vertical-align: top;\n",
       "    }\n",
       "\n",
       "    .dataframe thead th {\n",
       "        text-align: right;\n",
       "    }\n",
       "</style>\n",
       "<table border=\"1\" class=\"dataframe\">\n",
       "  <thead>\n",
       "    <tr style=\"text-align: right;\">\n",
       "      <th></th>\n",
       "      <th>VIF</th>\n",
       "      <th>Tolerance</th>\n",
       "    </tr>\n",
       "  </thead>\n",
       "  <tbody>\n",
       "    <tr>\n",
       "      <th>Net Income to Total Assets</th>\n",
       "      <td>2.558782e+01</td>\n",
       "      <td>3.908109e-02</td>\n",
       "    </tr>\n",
       "    <tr>\n",
       "      <th>ROA(A) before interest and % after tax</th>\n",
       "      <td>4.028774e+01</td>\n",
       "      <td>2.482145e-02</td>\n",
       "    </tr>\n",
       "    <tr>\n",
       "      <th>ROA(B) before interest and depreciation after tax</th>\n",
       "      <td>9.752349e+01</td>\n",
       "      <td>1.025394e-02</td>\n",
       "    </tr>\n",
       "    <tr>\n",
       "      <th>ROA(C) before interest and depreciation before interest</th>\n",
       "      <td>6.527145e+01</td>\n",
       "      <td>1.532063e-02</td>\n",
       "    </tr>\n",
       "    <tr>\n",
       "      <th>Net worth/Assets</th>\n",
       "      <td>inf</td>\n",
       "      <td>0.000000e+00</td>\n",
       "    </tr>\n",
       "    <tr>\n",
       "      <th>Debt ratio %</th>\n",
       "      <td>inf</td>\n",
       "      <td>0.000000e+00</td>\n",
       "    </tr>\n",
       "    <tr>\n",
       "      <th>Persistent EPS in the Last Four Seasons</th>\n",
       "      <td>3.006334e+01</td>\n",
       "      <td>3.326310e-02</td>\n",
       "    </tr>\n",
       "    <tr>\n",
       "      <th>Retained Earnings to Total Assets</th>\n",
       "      <td>3.579470e+00</td>\n",
       "      <td>2.793710e-01</td>\n",
       "    </tr>\n",
       "    <tr>\n",
       "      <th>Net profit before tax/Paid-in capital</th>\n",
       "      <td>2.907633e+01</td>\n",
       "      <td>3.439223e-02</td>\n",
       "    </tr>\n",
       "    <tr>\n",
       "      <th>Per Share Net profit before tax (Yuan ¥)</th>\n",
       "      <td>1.983375e+01</td>\n",
       "      <td>5.041912e-02</td>\n",
       "    </tr>\n",
       "    <tr>\n",
       "      <th>Current Liability to Assets</th>\n",
       "      <td>5.798621e+00</td>\n",
       "      <td>1.724548e-01</td>\n",
       "    </tr>\n",
       "    <tr>\n",
       "      <th>Working Capital to Total Assets</th>\n",
       "      <td>3.770177e+00</td>\n",
       "      <td>2.652395e-01</td>\n",
       "    </tr>\n",
       "    <tr>\n",
       "      <th>Net Income to Stockholder's Equity</th>\n",
       "      <td>5.006578e+00</td>\n",
       "      <td>1.997372e-01</td>\n",
       "    </tr>\n",
       "    <tr>\n",
       "      <th>Borrowing dependency</th>\n",
       "      <td>2.206654e+01</td>\n",
       "      <td>4.531749e-02</td>\n",
       "    </tr>\n",
       "    <tr>\n",
       "      <th>Current Liability to Current Assets</th>\n",
       "      <td>1.814503e+00</td>\n",
       "      <td>5.511152e-01</td>\n",
       "    </tr>\n",
       "    <tr>\n",
       "      <th>Liability to Equity</th>\n",
       "      <td>4.164324e+02</td>\n",
       "      <td>2.401350e-03</td>\n",
       "    </tr>\n",
       "    <tr>\n",
       "      <th>Net Value Per Share (A)</th>\n",
       "      <td>3.865203e+03</td>\n",
       "      <td>2.587186e-04</td>\n",
       "    </tr>\n",
       "    <tr>\n",
       "      <th>Net Value Per Share (B)</th>\n",
       "      <td>7.737146e+02</td>\n",
       "      <td>1.292466e-03</td>\n",
       "    </tr>\n",
       "    <tr>\n",
       "      <th>Net Value Per Share (C)</th>\n",
       "      <td>3.084240e+03</td>\n",
       "      <td>3.242290e-04</td>\n",
       "    </tr>\n",
       "    <tr>\n",
       "      <th>Current Liability to Equity</th>\n",
       "      <td>inf</td>\n",
       "      <td>0.000000e+00</td>\n",
       "    </tr>\n",
       "    <tr>\n",
       "      <th>Current Liabilities/Equity</th>\n",
       "      <td>inf</td>\n",
       "      <td>0.000000e+00</td>\n",
       "    </tr>\n",
       "    <tr>\n",
       "      <th>Working Capital/Equity</th>\n",
       "      <td>3.974909e+00</td>\n",
       "      <td>2.515781e-01</td>\n",
       "    </tr>\n",
       "    <tr>\n",
       "      <th>Operating Profit Per Share (Yuan ¥)</th>\n",
       "      <td>4.491085e+02</td>\n",
       "      <td>2.226634e-03</td>\n",
       "    </tr>\n",
       "    <tr>\n",
       "      <th>Operating profit/Paid-in capital</th>\n",
       "      <td>3.786466e+02</td>\n",
       "      <td>2.640985e-03</td>\n",
       "    </tr>\n",
       "    <tr>\n",
       "      <th>Liability-Assets Flag</th>\n",
       "      <td>1.471353e+00</td>\n",
       "      <td>6.796467e-01</td>\n",
       "    </tr>\n",
       "    <tr>\n",
       "      <th>Total expense/Assets</th>\n",
       "      <td>2.289977e+00</td>\n",
       "      <td>4.366856e-01</td>\n",
       "    </tr>\n",
       "    <tr>\n",
       "      <th>Equity to Long-term Liability</th>\n",
       "      <td>4.070277e+01</td>\n",
       "      <td>2.456835e-02</td>\n",
       "    </tr>\n",
       "    <tr>\n",
       "      <th>CFO to Assets</th>\n",
       "      <td>1.582552e+00</td>\n",
       "      <td>6.318909e-01</td>\n",
       "    </tr>\n",
       "    <tr>\n",
       "      <th>Tax rate (A)</th>\n",
       "      <td>1.285241e+00</td>\n",
       "      <td>7.780641e-01</td>\n",
       "    </tr>\n",
       "    <tr>\n",
       "      <th>Cash/Total Assets</th>\n",
       "      <td>1.811377e+00</td>\n",
       "      <td>5.520661e-01</td>\n",
       "    </tr>\n",
       "    <tr>\n",
       "      <th>Gross Profit to Sales</th>\n",
       "      <td>6.682814e+07</td>\n",
       "      <td>1.496376e-08</td>\n",
       "    </tr>\n",
       "    <tr>\n",
       "      <th>Operating Gross Margin</th>\n",
       "      <td>6.687921e+07</td>\n",
       "      <td>1.495233e-08</td>\n",
       "    </tr>\n",
       "  </tbody>\n",
       "</table>\n",
       "</div>"
      ],
      "text/plain": [
       "                                                             VIF     Tolerance\n",
       " Net Income to Total Assets                         2.558782e+01  3.908109e-02\n",
       " ROA(A) before interest and % after tax             4.028774e+01  2.482145e-02\n",
       " ROA(B) before interest and depreciation after tax  9.752349e+01  1.025394e-02\n",
       " ROA(C) before interest and depreciation before...  6.527145e+01  1.532063e-02\n",
       " Net worth/Assets                                            inf  0.000000e+00\n",
       " Debt ratio %                                                inf  0.000000e+00\n",
       " Persistent EPS in the Last Four Seasons            3.006334e+01  3.326310e-02\n",
       " Retained Earnings to Total Assets                  3.579470e+00  2.793710e-01\n",
       " Net profit before tax/Paid-in capital              2.907633e+01  3.439223e-02\n",
       " Per Share Net profit before tax (Yuan ¥)           1.983375e+01  5.041912e-02\n",
       " Current Liability to Assets                        5.798621e+00  1.724548e-01\n",
       " Working Capital to Total Assets                    3.770177e+00  2.652395e-01\n",
       " Net Income to Stockholder's Equity                 5.006578e+00  1.997372e-01\n",
       " Borrowing dependency                               2.206654e+01  4.531749e-02\n",
       " Current Liability to Current Assets                1.814503e+00  5.511152e-01\n",
       " Liability to Equity                                4.164324e+02  2.401350e-03\n",
       " Net Value Per Share (A)                            3.865203e+03  2.587186e-04\n",
       " Net Value Per Share (B)                            7.737146e+02  1.292466e-03\n",
       " Net Value Per Share (C)                            3.084240e+03  3.242290e-04\n",
       " Current Liability to Equity                                 inf  0.000000e+00\n",
       " Current Liabilities/Equity                                  inf  0.000000e+00\n",
       " Working Capital/Equity                             3.974909e+00  2.515781e-01\n",
       " Operating Profit Per Share (Yuan ¥)                4.491085e+02  2.226634e-03\n",
       " Operating profit/Paid-in capital                   3.786466e+02  2.640985e-03\n",
       " Liability-Assets Flag                              1.471353e+00  6.796467e-01\n",
       " Total expense/Assets                               2.289977e+00  4.366856e-01\n",
       " Equity to Long-term Liability                      4.070277e+01  2.456835e-02\n",
       " CFO to Assets                                      1.582552e+00  6.318909e-01\n",
       " Tax rate (A)                                       1.285241e+00  7.780641e-01\n",
       " Cash/Total Assets                                  1.811377e+00  5.520661e-01\n",
       " Gross Profit to Sales                              6.682814e+07  1.496376e-08\n",
       " Operating Gross Margin                             6.687921e+07  1.495233e-08"
      ]
     },
     "execution_count": 12,
     "metadata": {},
     "output_type": "execute_result"
    }
   ],
   "source": [
    "df2 = calculate_vif(df, features)\n",
    "df2"
   ]
  },
  {
   "cell_type": "code",
   "execution_count": 13,
   "id": "4b05b6a2",
   "metadata": {},
   "outputs": [
    {
     "name": "stderr",
     "output_type": "stream",
     "text": [
      "C:\\Users\\DIVYA\\AppData\\Local\\Temp\\ipykernel_26532\\41369364.py:16: RuntimeWarning: divide by zero encountered in double_scalars\n",
      "  vif[feature] = 1/(tolerance[feature])\n",
      "C:\\Users\\DIVYA\\AppData\\Local\\Temp\\ipykernel_26532\\41369364.py:16: RuntimeWarning: divide by zero encountered in double_scalars\n",
      "  vif[feature] = 1/(tolerance[feature])\n",
      "C:\\Users\\DIVYA\\AppData\\Local\\Temp\\ipykernel_26532\\41369364.py:16: RuntimeWarning: divide by zero encountered in double_scalars\n",
      "  vif[feature] = 1/(tolerance[feature])\n",
      "C:\\Users\\DIVYA\\AppData\\Local\\Temp\\ipykernel_26532\\41369364.py:16: RuntimeWarning: divide by zero encountered in double_scalars\n",
      "  vif[feature] = 1/(tolerance[feature])\n"
     ]
    },
    {
     "data": {
      "text/plain": [
       " Tax rate (A)                                               1.285241e+00\n",
       " Liability-Assets Flag                                      1.471353e+00\n",
       " CFO to Assets                                              1.582552e+00\n",
       " Cash/Total Assets                                          1.811377e+00\n",
       " Current Liability to Current Assets                        1.814503e+00\n",
       " Total expense/Assets                                       2.289977e+00\n",
       " Retained Earnings to Total Assets                          3.579470e+00\n",
       " Working Capital to Total Assets                            3.770177e+00\n",
       " Working Capital/Equity                                     3.974909e+00\n",
       " Net Income to Stockholder's Equity                         5.006578e+00\n",
       " Current Liability to Assets                                5.798621e+00\n",
       " Per Share Net profit before tax (Yuan ¥)                   1.983375e+01\n",
       " Borrowing dependency                                       2.206654e+01\n",
       " Net Income to Total Assets                                 2.558782e+01\n",
       " Net profit before tax/Paid-in capital                      2.907633e+01\n",
       " Persistent EPS in the Last Four Seasons                    3.006334e+01\n",
       " ROA(A) before interest and % after tax                     4.028774e+01\n",
       " Equity to Long-term Liability                              4.070277e+01\n",
       " ROA(C) before interest and depreciation before interest    6.527145e+01\n",
       " ROA(B) before interest and depreciation after tax          9.752349e+01\n",
       " Operating profit/Paid-in capital                           3.786466e+02\n",
       " Liability to Equity                                        4.164324e+02\n",
       " Operating Profit Per Share (Yuan ¥)                        4.491085e+02\n",
       " Net Value Per Share (B)                                    7.737146e+02\n",
       " Net Value Per Share (C)                                    3.084240e+03\n",
       " Net Value Per Share (A)                                    3.865203e+03\n",
       " Gross Profit to Sales                                      6.682814e+07\n",
       " Operating Gross Margin                                     6.687921e+07\n",
       " Current Liability to Equity                                         inf\n",
       " Debt ratio %                                                        inf\n",
       " Net worth/Assets                                                    inf\n",
       " Current Liabilities/Equity                                          inf\n",
       "Name: VIF, dtype: float64"
      ]
     },
     "execution_count": 13,
     "metadata": {},
     "output_type": "execute_result"
    }
   ],
   "source": [
    "calculate_vif(df, features)['VIF'].sort_values()\n",
    "\n",
    "\n",
    "\n"
   ]
  },
  {
   "cell_type": "code",
   "execution_count": 14,
   "id": "87b0201b",
   "metadata": {},
   "outputs": [
    {
     "data": {
      "text/html": [
       "<div>\n",
       "<style scoped>\n",
       "    .dataframe tbody tr th:only-of-type {\n",
       "        vertical-align: middle;\n",
       "    }\n",
       "\n",
       "    .dataframe tbody tr th {\n",
       "        vertical-align: top;\n",
       "    }\n",
       "\n",
       "    .dataframe thead th {\n",
       "        text-align: right;\n",
       "    }\n",
       "</style>\n",
       "<table border=\"1\" class=\"dataframe\">\n",
       "  <thead>\n",
       "    <tr style=\"text-align: right;\">\n",
       "      <th></th>\n",
       "      <th>VIF</th>\n",
       "      <th>Tolerance</th>\n",
       "    </tr>\n",
       "  </thead>\n",
       "  <tbody>\n",
       "    <tr>\n",
       "      <th>Retained Earnings to Total Assets</th>\n",
       "      <td>3.579470</td>\n",
       "      <td>0.279371</td>\n",
       "    </tr>\n",
       "    <tr>\n",
       "      <th>Working Capital to Total Assets</th>\n",
       "      <td>3.770177</td>\n",
       "      <td>0.265240</td>\n",
       "    </tr>\n",
       "    <tr>\n",
       "      <th>Current Liability to Current Assets</th>\n",
       "      <td>1.814503</td>\n",
       "      <td>0.551115</td>\n",
       "    </tr>\n",
       "    <tr>\n",
       "      <th>Working Capital/Equity</th>\n",
       "      <td>3.974909</td>\n",
       "      <td>0.251578</td>\n",
       "    </tr>\n",
       "    <tr>\n",
       "      <th>Liability-Assets Flag</th>\n",
       "      <td>1.471353</td>\n",
       "      <td>0.679647</td>\n",
       "    </tr>\n",
       "    <tr>\n",
       "      <th>Total expense/Assets</th>\n",
       "      <td>2.289977</td>\n",
       "      <td>0.436686</td>\n",
       "    </tr>\n",
       "    <tr>\n",
       "      <th>CFO to Assets</th>\n",
       "      <td>1.582552</td>\n",
       "      <td>0.631891</td>\n",
       "    </tr>\n",
       "    <tr>\n",
       "      <th>Tax rate (A)</th>\n",
       "      <td>1.285241</td>\n",
       "      <td>0.778064</td>\n",
       "    </tr>\n",
       "    <tr>\n",
       "      <th>Cash/Total Assets</th>\n",
       "      <td>1.811377</td>\n",
       "      <td>0.552066</td>\n",
       "    </tr>\n",
       "  </tbody>\n",
       "</table>\n",
       "</div>"
      ],
      "text/plain": [
       "                                           VIF  Tolerance\n",
       " Retained Earnings to Total Assets    3.579470   0.279371\n",
       " Working Capital to Total Assets      3.770177   0.265240\n",
       " Current Liability to Current Assets  1.814503   0.551115\n",
       " Working Capital/Equity               3.974909   0.251578\n",
       " Liability-Assets Flag                1.471353   0.679647\n",
       " Total expense/Assets                 2.289977   0.436686\n",
       " CFO to Assets                        1.582552   0.631891\n",
       " Tax rate (A)                         1.285241   0.778064\n",
       " Cash/Total Assets                    1.811377   0.552066"
      ]
     },
     "execution_count": 14,
     "metadata": {},
     "output_type": "execute_result"
    }
   ],
   "source": [
    "features_to_remove = df2.loc[df2['VIF'] < 5]\n",
    "features_to_remove\n",
    "\n"
   ]
  },
  {
   "cell_type": "code",
   "execution_count": null,
   "id": "768842c3",
   "metadata": {},
   "outputs": [],
   "source": []
  },
  {
   "cell_type": "code",
   "execution_count": 15,
   "id": "d2b9ab7c",
   "metadata": {},
   "outputs": [],
   "source": [
    "X = df.copy() \n",
    "\n",
    "y = df['Bankrupt']\n",
    "\n",
    "X = X.drop(['Bankrupt'], axis=1)"
   ]
  },
  {
   "cell_type": "code",
   "execution_count": 16,
   "id": "46f972eb",
   "metadata": {},
   "outputs": [
    {
     "data": {
      "text/plain": [
       "Index([' ROA(C) before interest and depreciation before interest',\n",
       "       ' ROA(A) before interest and % after tax',\n",
       "       ' ROA(B) before interest and depreciation after tax',\n",
       "       ' Operating Gross Margin', ' Realized Sales Gross Margin',\n",
       "       ' Operating Profit Rate', ' Pre-tax net Interest Rate',\n",
       "       ' After-tax net Interest Rate',\n",
       "       ' Non-industry income and expenditure/revenue',\n",
       "       ' Continuous interest rate (after tax)', ' Operating Expense Rate',\n",
       "       ' Research and development expense rate', ' Cash flow rate',\n",
       "       ' Interest-bearing debt interest rate', ' Tax rate (A)',\n",
       "       ' Net Value Per Share (B)', ' Net Value Per Share (A)',\n",
       "       ' Net Value Per Share (C)', ' Persistent EPS in the Last Four Seasons',\n",
       "       ' Cash Flow Per Share', ' Revenue Per Share (Yuan ¥)',\n",
       "       ' Operating Profit Per Share (Yuan ¥)',\n",
       "       ' Per Share Net profit before tax (Yuan ¥)',\n",
       "       ' Realized Sales Gross Profit Growth Rate',\n",
       "       ' Operating Profit Growth Rate', ' After-tax Net Profit Growth Rate',\n",
       "       ' Regular Net Profit Growth Rate', ' Continuous Net Profit Growth Rate',\n",
       "       ' Total Asset Growth Rate', ' Net Value Growth Rate',\n",
       "       ' Total Asset Return Growth Rate Ratio', ' Cash Reinvestment %',\n",
       "       ' Current Ratio', ' Quick Ratio', ' Interest Expense Ratio',\n",
       "       ' Total debt/Total net worth', ' Debt ratio %', ' Net worth/Assets',\n",
       "       ' Long-term fund suitability ratio (A)', ' Borrowing dependency',\n",
       "       ' Contingent liabilities/Net worth',\n",
       "       ' Operating profit/Paid-in capital',\n",
       "       ' Net profit before tax/Paid-in capital',\n",
       "       ' Inventory and accounts receivable/Net value', ' Total Asset Turnover',\n",
       "       ' Accounts Receivable Turnover', ' Average Collection Days',\n",
       "       ' Inventory Turnover Rate (times)', ' Fixed Assets Turnover Frequency',\n",
       "       ' Net Worth Turnover Rate (times)', ' Revenue per person',\n",
       "       ' Operating profit per person', ' Allocation rate per person',\n",
       "       ' Working Capital to Total Assets', ' Quick Assets/Total Assets',\n",
       "       ' Current Assets/Total Assets', ' Cash/Total Assets',\n",
       "       ' Quick Assets/Current Liability', ' Cash/Current Liability',\n",
       "       ' Current Liability to Assets', ' Operating Funds to Liability',\n",
       "       ' Inventory/Working Capital', ' Inventory/Current Liability',\n",
       "       ' Current Liabilities/Liability', ' Working Capital/Equity',\n",
       "       ' Current Liabilities/Equity', ' Long-term Liability to Current Assets',\n",
       "       ' Retained Earnings to Total Assets', ' Total income/Total expense',\n",
       "       ' Total expense/Assets', ' Current Asset Turnover Rate',\n",
       "       ' Quick Asset Turnover Rate', ' Working capitcal Turnover Rate',\n",
       "       ' Cash Turnover Rate', ' Cash Flow to Sales', ' Fixed Assets to Assets',\n",
       "       ' Current Liability to Liability', ' Current Liability to Equity',\n",
       "       ' Equity to Long-term Liability', ' Cash Flow to Total Assets',\n",
       "       ' Cash Flow to Liability', ' CFO to Assets', ' Cash Flow to Equity',\n",
       "       ' Current Liability to Current Assets', ' Liability-Assets Flag',\n",
       "       ' Net Income to Total Assets', ' Total assets to GNP price',\n",
       "       ' No-credit Interval', ' Gross Profit to Sales',\n",
       "       ' Net Income to Stockholder's Equity', ' Liability to Equity',\n",
       "       ' Degree of Financial Leverage (DFL)',\n",
       "       ' Interest Coverage Ratio (Interest expense to EBIT)',\n",
       "       ' Net Income Flag', ' Equity to Liability'],\n",
       "      dtype='object')"
      ]
     },
     "execution_count": 16,
     "metadata": {},
     "output_type": "execute_result"
    }
   ],
   "source": [
    "X.columns"
   ]
  },
  {
   "cell_type": "code",
   "execution_count": 17,
   "id": "223aa20e",
   "metadata": {},
   "outputs": [
    {
     "data": {
      "text/html": [
       "<div>\n",
       "<style scoped>\n",
       "    .dataframe tbody tr th:only-of-type {\n",
       "        vertical-align: middle;\n",
       "    }\n",
       "\n",
       "    .dataframe tbody tr th {\n",
       "        vertical-align: top;\n",
       "    }\n",
       "\n",
       "    .dataframe thead th {\n",
       "        text-align: right;\n",
       "    }\n",
       "</style>\n",
       "<table border=\"1\" class=\"dataframe\">\n",
       "  <thead>\n",
       "    <tr style=\"text-align: right;\">\n",
       "      <th></th>\n",
       "      <th>ROA(C) before interest and depreciation before interest</th>\n",
       "      <th>ROA(A) before interest and % after tax</th>\n",
       "      <th>ROA(B) before interest and depreciation after tax</th>\n",
       "      <th>Operating Gross Margin</th>\n",
       "      <th>Realized Sales Gross Margin</th>\n",
       "      <th>Operating Profit Rate</th>\n",
       "      <th>Pre-tax net Interest Rate</th>\n",
       "      <th>After-tax net Interest Rate</th>\n",
       "      <th>Non-industry income and expenditure/revenue</th>\n",
       "      <th>Continuous interest rate (after tax)</th>\n",
       "      <th>...</th>\n",
       "      <th>Net Income to Total Assets</th>\n",
       "      <th>Total assets to GNP price</th>\n",
       "      <th>No-credit Interval</th>\n",
       "      <th>Gross Profit to Sales</th>\n",
       "      <th>Net Income to Stockholder's Equity</th>\n",
       "      <th>Liability to Equity</th>\n",
       "      <th>Degree of Financial Leverage (DFL)</th>\n",
       "      <th>Interest Coverage Ratio (Interest expense to EBIT)</th>\n",
       "      <th>Net Income Flag</th>\n",
       "      <th>Equity to Liability</th>\n",
       "    </tr>\n",
       "  </thead>\n",
       "  <tbody>\n",
       "    <tr>\n",
       "      <th>0</th>\n",
       "      <td>0.370594</td>\n",
       "      <td>0.424389</td>\n",
       "      <td>0.405750</td>\n",
       "      <td>0.601457</td>\n",
       "      <td>0.601457</td>\n",
       "      <td>0.998969</td>\n",
       "      <td>0.796887</td>\n",
       "      <td>0.808809</td>\n",
       "      <td>0.302646</td>\n",
       "      <td>0.780985</td>\n",
       "      <td>...</td>\n",
       "      <td>0.716845</td>\n",
       "      <td>0.009219</td>\n",
       "      <td>0.622879</td>\n",
       "      <td>0.601453</td>\n",
       "      <td>0.827890</td>\n",
       "      <td>0.290202</td>\n",
       "      <td>0.026601</td>\n",
       "      <td>0.564050</td>\n",
       "      <td>1</td>\n",
       "      <td>0.016469</td>\n",
       "    </tr>\n",
       "    <tr>\n",
       "      <th>1</th>\n",
       "      <td>0.464291</td>\n",
       "      <td>0.538214</td>\n",
       "      <td>0.516730</td>\n",
       "      <td>0.610235</td>\n",
       "      <td>0.610235</td>\n",
       "      <td>0.998946</td>\n",
       "      <td>0.797380</td>\n",
       "      <td>0.809301</td>\n",
       "      <td>0.303556</td>\n",
       "      <td>0.781506</td>\n",
       "      <td>...</td>\n",
       "      <td>0.795297</td>\n",
       "      <td>0.008323</td>\n",
       "      <td>0.623652</td>\n",
       "      <td>0.610237</td>\n",
       "      <td>0.839969</td>\n",
       "      <td>0.283846</td>\n",
       "      <td>0.264577</td>\n",
       "      <td>0.570175</td>\n",
       "      <td>1</td>\n",
       "      <td>0.020794</td>\n",
       "    </tr>\n",
       "    <tr>\n",
       "      <th>2</th>\n",
       "      <td>0.426071</td>\n",
       "      <td>0.499019</td>\n",
       "      <td>0.472295</td>\n",
       "      <td>0.601450</td>\n",
       "      <td>0.601364</td>\n",
       "      <td>0.998857</td>\n",
       "      <td>0.796403</td>\n",
       "      <td>0.808388</td>\n",
       "      <td>0.302035</td>\n",
       "      <td>0.780284</td>\n",
       "      <td>...</td>\n",
       "      <td>0.774670</td>\n",
       "      <td>0.040003</td>\n",
       "      <td>0.623841</td>\n",
       "      <td>0.601449</td>\n",
       "      <td>0.836774</td>\n",
       "      <td>0.290189</td>\n",
       "      <td>0.026555</td>\n",
       "      <td>0.563706</td>\n",
       "      <td>1</td>\n",
       "      <td>0.016474</td>\n",
       "    </tr>\n",
       "    <tr>\n",
       "      <th>3</th>\n",
       "      <td>0.399844</td>\n",
       "      <td>0.451265</td>\n",
       "      <td>0.457733</td>\n",
       "      <td>0.583541</td>\n",
       "      <td>0.583541</td>\n",
       "      <td>0.998700</td>\n",
       "      <td>0.796967</td>\n",
       "      <td>0.808966</td>\n",
       "      <td>0.303350</td>\n",
       "      <td>0.781241</td>\n",
       "      <td>...</td>\n",
       "      <td>0.739555</td>\n",
       "      <td>0.003252</td>\n",
       "      <td>0.622929</td>\n",
       "      <td>0.583538</td>\n",
       "      <td>0.834697</td>\n",
       "      <td>0.281721</td>\n",
       "      <td>0.026697</td>\n",
       "      <td>0.564663</td>\n",
       "      <td>1</td>\n",
       "      <td>0.023982</td>\n",
       "    </tr>\n",
       "    <tr>\n",
       "      <th>4</th>\n",
       "      <td>0.465022</td>\n",
       "      <td>0.538432</td>\n",
       "      <td>0.522298</td>\n",
       "      <td>0.598783</td>\n",
       "      <td>0.598783</td>\n",
       "      <td>0.998973</td>\n",
       "      <td>0.797366</td>\n",
       "      <td>0.809304</td>\n",
       "      <td>0.303475</td>\n",
       "      <td>0.781550</td>\n",
       "      <td>...</td>\n",
       "      <td>0.795016</td>\n",
       "      <td>0.003878</td>\n",
       "      <td>0.623521</td>\n",
       "      <td>0.598782</td>\n",
       "      <td>0.839973</td>\n",
       "      <td>0.278514</td>\n",
       "      <td>0.024752</td>\n",
       "      <td>0.575617</td>\n",
       "      <td>1</td>\n",
       "      <td>0.035490</td>\n",
       "    </tr>\n",
       "    <tr>\n",
       "      <th>...</th>\n",
       "      <td>...</td>\n",
       "      <td>...</td>\n",
       "      <td>...</td>\n",
       "      <td>...</td>\n",
       "      <td>...</td>\n",
       "      <td>...</td>\n",
       "      <td>...</td>\n",
       "      <td>...</td>\n",
       "      <td>...</td>\n",
       "      <td>...</td>\n",
       "      <td>...</td>\n",
       "      <td>...</td>\n",
       "      <td>...</td>\n",
       "      <td>...</td>\n",
       "      <td>...</td>\n",
       "      <td>...</td>\n",
       "      <td>...</td>\n",
       "      <td>...</td>\n",
       "      <td>...</td>\n",
       "      <td>...</td>\n",
       "      <td>...</td>\n",
       "    </tr>\n",
       "    <tr>\n",
       "      <th>6814</th>\n",
       "      <td>0.493687</td>\n",
       "      <td>0.539468</td>\n",
       "      <td>0.543230</td>\n",
       "      <td>0.604455</td>\n",
       "      <td>0.604462</td>\n",
       "      <td>0.998992</td>\n",
       "      <td>0.797409</td>\n",
       "      <td>0.809331</td>\n",
       "      <td>0.303510</td>\n",
       "      <td>0.781588</td>\n",
       "      <td>...</td>\n",
       "      <td>0.799927</td>\n",
       "      <td>0.000466</td>\n",
       "      <td>0.623620</td>\n",
       "      <td>0.604455</td>\n",
       "      <td>0.840359</td>\n",
       "      <td>0.279606</td>\n",
       "      <td>0.027064</td>\n",
       "      <td>0.566193</td>\n",
       "      <td>1</td>\n",
       "      <td>0.029890</td>\n",
       "    </tr>\n",
       "    <tr>\n",
       "      <th>6815</th>\n",
       "      <td>0.475162</td>\n",
       "      <td>0.538269</td>\n",
       "      <td>0.524172</td>\n",
       "      <td>0.598308</td>\n",
       "      <td>0.598308</td>\n",
       "      <td>0.998992</td>\n",
       "      <td>0.797414</td>\n",
       "      <td>0.809327</td>\n",
       "      <td>0.303520</td>\n",
       "      <td>0.781586</td>\n",
       "      <td>...</td>\n",
       "      <td>0.799748</td>\n",
       "      <td>0.001959</td>\n",
       "      <td>0.623931</td>\n",
       "      <td>0.598306</td>\n",
       "      <td>0.840306</td>\n",
       "      <td>0.278132</td>\n",
       "      <td>0.027009</td>\n",
       "      <td>0.566018</td>\n",
       "      <td>1</td>\n",
       "      <td>0.038284</td>\n",
       "    </tr>\n",
       "    <tr>\n",
       "      <th>6816</th>\n",
       "      <td>0.472725</td>\n",
       "      <td>0.533744</td>\n",
       "      <td>0.520638</td>\n",
       "      <td>0.610444</td>\n",
       "      <td>0.610213</td>\n",
       "      <td>0.998984</td>\n",
       "      <td>0.797401</td>\n",
       "      <td>0.809317</td>\n",
       "      <td>0.303512</td>\n",
       "      <td>0.781546</td>\n",
       "      <td>...</td>\n",
       "      <td>0.797778</td>\n",
       "      <td>0.002840</td>\n",
       "      <td>0.624156</td>\n",
       "      <td>0.610441</td>\n",
       "      <td>0.840138</td>\n",
       "      <td>0.275789</td>\n",
       "      <td>0.026791</td>\n",
       "      <td>0.565158</td>\n",
       "      <td>1</td>\n",
       "      <td>0.097649</td>\n",
       "    </tr>\n",
       "    <tr>\n",
       "      <th>6817</th>\n",
       "      <td>0.506264</td>\n",
       "      <td>0.559911</td>\n",
       "      <td>0.554045</td>\n",
       "      <td>0.607850</td>\n",
       "      <td>0.607850</td>\n",
       "      <td>0.999074</td>\n",
       "      <td>0.797500</td>\n",
       "      <td>0.809399</td>\n",
       "      <td>0.303498</td>\n",
       "      <td>0.781663</td>\n",
       "      <td>...</td>\n",
       "      <td>0.811808</td>\n",
       "      <td>0.002837</td>\n",
       "      <td>0.623957</td>\n",
       "      <td>0.607846</td>\n",
       "      <td>0.841084</td>\n",
       "      <td>0.277547</td>\n",
       "      <td>0.026822</td>\n",
       "      <td>0.565302</td>\n",
       "      <td>1</td>\n",
       "      <td>0.044009</td>\n",
       "    </tr>\n",
       "    <tr>\n",
       "      <th>6818</th>\n",
       "      <td>0.493053</td>\n",
       "      <td>0.570105</td>\n",
       "      <td>0.549548</td>\n",
       "      <td>0.627409</td>\n",
       "      <td>0.627409</td>\n",
       "      <td>0.998080</td>\n",
       "      <td>0.801987</td>\n",
       "      <td>0.813800</td>\n",
       "      <td>0.313415</td>\n",
       "      <td>0.786079</td>\n",
       "      <td>...</td>\n",
       "      <td>0.815956</td>\n",
       "      <td>0.000707</td>\n",
       "      <td>0.626680</td>\n",
       "      <td>0.627408</td>\n",
       "      <td>0.841019</td>\n",
       "      <td>0.275114</td>\n",
       "      <td>0.026793</td>\n",
       "      <td>0.565167</td>\n",
       "      <td>1</td>\n",
       "      <td>0.233902</td>\n",
       "    </tr>\n",
       "  </tbody>\n",
       "</table>\n",
       "<p>6819 rows × 95 columns</p>\n",
       "</div>"
      ],
      "text/plain": [
       "       ROA(C) before interest and depreciation before interest  \\\n",
       "0                                              0.370594          \n",
       "1                                              0.464291          \n",
       "2                                              0.426071          \n",
       "3                                              0.399844          \n",
       "4                                              0.465022          \n",
       "...                                                 ...          \n",
       "6814                                           0.493687          \n",
       "6815                                           0.475162          \n",
       "6816                                           0.472725          \n",
       "6817                                           0.506264          \n",
       "6818                                           0.493053          \n",
       "\n",
       "       ROA(A) before interest and % after tax  \\\n",
       "0                                    0.424389   \n",
       "1                                    0.538214   \n",
       "2                                    0.499019   \n",
       "3                                    0.451265   \n",
       "4                                    0.538432   \n",
       "...                                       ...   \n",
       "6814                                 0.539468   \n",
       "6815                                 0.538269   \n",
       "6816                                 0.533744   \n",
       "6817                                 0.559911   \n",
       "6818                                 0.570105   \n",
       "\n",
       "       ROA(B) before interest and depreciation after tax  \\\n",
       "0                                              0.405750    \n",
       "1                                              0.516730    \n",
       "2                                              0.472295    \n",
       "3                                              0.457733    \n",
       "4                                              0.522298    \n",
       "...                                                 ...    \n",
       "6814                                           0.543230    \n",
       "6815                                           0.524172    \n",
       "6816                                           0.520638    \n",
       "6817                                           0.554045    \n",
       "6818                                           0.549548    \n",
       "\n",
       "       Operating Gross Margin   Realized Sales Gross Margin  \\\n",
       "0                    0.601457                      0.601457   \n",
       "1                    0.610235                      0.610235   \n",
       "2                    0.601450                      0.601364   \n",
       "3                    0.583541                      0.583541   \n",
       "4                    0.598783                      0.598783   \n",
       "...                       ...                           ...   \n",
       "6814                 0.604455                      0.604462   \n",
       "6815                 0.598308                      0.598308   \n",
       "6816                 0.610444                      0.610213   \n",
       "6817                 0.607850                      0.607850   \n",
       "6818                 0.627409                      0.627409   \n",
       "\n",
       "       Operating Profit Rate   Pre-tax net Interest Rate  \\\n",
       "0                   0.998969                    0.796887   \n",
       "1                   0.998946                    0.797380   \n",
       "2                   0.998857                    0.796403   \n",
       "3                   0.998700                    0.796967   \n",
       "4                   0.998973                    0.797366   \n",
       "...                      ...                         ...   \n",
       "6814                0.998992                    0.797409   \n",
       "6815                0.998992                    0.797414   \n",
       "6816                0.998984                    0.797401   \n",
       "6817                0.999074                    0.797500   \n",
       "6818                0.998080                    0.801987   \n",
       "\n",
       "       After-tax net Interest Rate  \\\n",
       "0                         0.808809   \n",
       "1                         0.809301   \n",
       "2                         0.808388   \n",
       "3                         0.808966   \n",
       "4                         0.809304   \n",
       "...                            ...   \n",
       "6814                      0.809331   \n",
       "6815                      0.809327   \n",
       "6816                      0.809317   \n",
       "6817                      0.809399   \n",
       "6818                      0.813800   \n",
       "\n",
       "       Non-industry income and expenditure/revenue  \\\n",
       "0                                         0.302646   \n",
       "1                                         0.303556   \n",
       "2                                         0.302035   \n",
       "3                                         0.303350   \n",
       "4                                         0.303475   \n",
       "...                                            ...   \n",
       "6814                                      0.303510   \n",
       "6815                                      0.303520   \n",
       "6816                                      0.303512   \n",
       "6817                                      0.303498   \n",
       "6818                                      0.313415   \n",
       "\n",
       "       Continuous interest rate (after tax)  ...   Net Income to Total Assets  \\\n",
       "0                                  0.780985  ...                     0.716845   \n",
       "1                                  0.781506  ...                     0.795297   \n",
       "2                                  0.780284  ...                     0.774670   \n",
       "3                                  0.781241  ...                     0.739555   \n",
       "4                                  0.781550  ...                     0.795016   \n",
       "...                                     ...  ...                          ...   \n",
       "6814                               0.781588  ...                     0.799927   \n",
       "6815                               0.781586  ...                     0.799748   \n",
       "6816                               0.781546  ...                     0.797778   \n",
       "6817                               0.781663  ...                     0.811808   \n",
       "6818                               0.786079  ...                     0.815956   \n",
       "\n",
       "       Total assets to GNP price   No-credit Interval   Gross Profit to Sales  \\\n",
       "0                       0.009219             0.622879                0.601453   \n",
       "1                       0.008323             0.623652                0.610237   \n",
       "2                       0.040003             0.623841                0.601449   \n",
       "3                       0.003252             0.622929                0.583538   \n",
       "4                       0.003878             0.623521                0.598782   \n",
       "...                          ...                  ...                     ...   \n",
       "6814                    0.000466             0.623620                0.604455   \n",
       "6815                    0.001959             0.623931                0.598306   \n",
       "6816                    0.002840             0.624156                0.610441   \n",
       "6817                    0.002837             0.623957                0.607846   \n",
       "6818                    0.000707             0.626680                0.627408   \n",
       "\n",
       "       Net Income to Stockholder's Equity   Liability to Equity  \\\n",
       "0                                0.827890              0.290202   \n",
       "1                                0.839969              0.283846   \n",
       "2                                0.836774              0.290189   \n",
       "3                                0.834697              0.281721   \n",
       "4                                0.839973              0.278514   \n",
       "...                                   ...                   ...   \n",
       "6814                             0.840359              0.279606   \n",
       "6815                             0.840306              0.278132   \n",
       "6816                             0.840138              0.275789   \n",
       "6817                             0.841084              0.277547   \n",
       "6818                             0.841019              0.275114   \n",
       "\n",
       "       Degree of Financial Leverage (DFL)  \\\n",
       "0                                0.026601   \n",
       "1                                0.264577   \n",
       "2                                0.026555   \n",
       "3                                0.026697   \n",
       "4                                0.024752   \n",
       "...                                   ...   \n",
       "6814                             0.027064   \n",
       "6815                             0.027009   \n",
       "6816                             0.026791   \n",
       "6817                             0.026822   \n",
       "6818                             0.026793   \n",
       "\n",
       "       Interest Coverage Ratio (Interest expense to EBIT)   Net Income Flag  \\\n",
       "0                                              0.564050                   1   \n",
       "1                                              0.570175                   1   \n",
       "2                                              0.563706                   1   \n",
       "3                                              0.564663                   1   \n",
       "4                                              0.575617                   1   \n",
       "...                                                 ...                 ...   \n",
       "6814                                           0.566193                   1   \n",
       "6815                                           0.566018                   1   \n",
       "6816                                           0.565158                   1   \n",
       "6817                                           0.565302                   1   \n",
       "6818                                           0.565167                   1   \n",
       "\n",
       "       Equity to Liability  \n",
       "0                 0.016469  \n",
       "1                 0.020794  \n",
       "2                 0.016474  \n",
       "3                 0.023982  \n",
       "4                 0.035490  \n",
       "...                    ...  \n",
       "6814              0.029890  \n",
       "6815              0.038284  \n",
       "6816              0.097649  \n",
       "6817              0.044009  \n",
       "6818              0.233902  \n",
       "\n",
       "[6819 rows x 95 columns]"
      ]
     },
     "execution_count": 17,
     "metadata": {},
     "output_type": "execute_result"
    }
   ],
   "source": [
    "X"
   ]
  },
  {
   "cell_type": "code",
   "execution_count": 18,
   "id": "56566689",
   "metadata": {},
   "outputs": [],
   "source": [
    "import numpy as np\n",
    "var = np.var(X)"
   ]
  },
  {
   "cell_type": "code",
   "execution_count": 19,
   "id": "acf62199",
   "metadata": {},
   "outputs": [
    {
     "name": "stdout",
     "output_type": "stream",
     "text": [
      " ROA(C) before interest and depreciation before interest    3.682207e-03\n",
      " ROA(A) before interest and % after tax                     4.305357e-03\n",
      " ROA(B) before interest and depreciation after tax          3.793364e-03\n",
      " Operating Gross Margin                                     2.867120e-04\n",
      " Realized Sales Gross Margin                                2.861115e-04\n",
      "                                                                ...     \n",
      " Liability to Equity                                        2.091542e-04\n",
      " Degree of Financial Leverage (DFL)                         2.454484e-04\n",
      " Interest Coverage Ratio (Interest expense to EBIT)         1.745905e-04\n",
      " Net Income Flag                                            1.232595e-32\n",
      " Equity to Liability                                        2.501005e-03\n",
      "Length: 95, dtype: float64\n"
     ]
    }
   ],
   "source": [
    "print(var)"
   ]
  },
  {
   "cell_type": "code",
   "execution_count": null,
   "id": "55cad1b6",
   "metadata": {},
   "outputs": [],
   "source": []
  },
  {
   "cell_type": "code",
   "execution_count": 20,
   "id": "2c37fba1",
   "metadata": {},
   "outputs": [],
   "source": [
    "from sklearn.model_selection import train_test_split\n",
    "X_train, X_test, y_train, y_test = train_test_split(X, y, test_size = 0.2, random_state = 42)"
   ]
  },
  {
   "cell_type": "code",
   "execution_count": 21,
   "id": "21295bbd",
   "metadata": {},
   "outputs": [
    {
     "data": {
      "text/plain": [
       "((5455, 95), (1364, 95))"
      ]
     },
     "execution_count": 21,
     "metadata": {},
     "output_type": "execute_result"
    }
   ],
   "source": [
    "X_train.shape, X_test.shape"
   ]
  },
  {
   "cell_type": "code",
   "execution_count": 22,
   "id": "7cd94712",
   "metadata": {},
   "outputs": [],
   "source": [
    "#Feature Scalling\n",
    "from sklearn.preprocessing import StandardScaler\n",
    "sc = StandardScaler()\n",
    "X_train = sc.fit_transform(X_train)\n",
    "X_test = sc.transform(X_test)"
   ]
  },
  {
   "cell_type": "code",
   "execution_count": 23,
   "id": "e995b02d",
   "metadata": {},
   "outputs": [
    {
     "name": "stderr",
     "output_type": "stream",
     "text": [
      "C:\\Users\\DIVYA\\anaconda3\\lib\\site-packages\\sklearn\\linear_model\\_logistic.py:814: ConvergenceWarning: lbfgs failed to converge (status=1):\n",
      "STOP: TOTAL NO. of ITERATIONS REACHED LIMIT.\n",
      "\n",
      "Increase the number of iterations (max_iter) or scale the data as shown in:\n",
      "    https://scikit-learn.org/stable/modules/preprocessing.html\n",
      "Please also refer to the documentation for alternative solver options:\n",
      "    https://scikit-learn.org/stable/modules/linear_model.html#logistic-regression\n",
      "  n_iter_i = _check_optimize_result(\n"
     ]
    },
    {
     "data": {
      "text/plain": [
       "LogisticRegression(random_state=42)"
      ]
     },
     "execution_count": 23,
     "metadata": {},
     "output_type": "execute_result"
    }
   ],
   "source": [
    "#1. Logestic Regression\n",
    "from sklearn.linear_model import LogisticRegression\n",
    "lgclassifier = LogisticRegression(random_state = 42)\n",
    "lgclassifier.fit(X_train, y_train)"
   ]
  },
  {
   "cell_type": "code",
   "execution_count": 24,
   "id": "248ad1bf",
   "metadata": {},
   "outputs": [
    {
     "name": "stdout",
     "output_type": "stream",
     "text": [
      "[0 0 0 ... 0 0 0]\n"
     ]
    }
   ],
   "source": [
    "y_pred = lgclassifier.predict(X_test)\n",
    "print(y_pred)"
   ]
  },
  {
   "cell_type": "code",
   "execution_count": 25,
   "id": "a0554b07",
   "metadata": {},
   "outputs": [
    {
     "name": "stdout",
     "output_type": "stream",
     "text": [
      "[[1306    7]\n",
      " [  41   10]]\n"
     ]
    }
   ],
   "source": [
    "y_pred = lgclassifier.predict(X_test)\n",
    "from sklearn.metrics import confusion_matrix, accuracy_score\n",
    "cm = confusion_matrix(y_test, y_pred)\n",
    "print(cm)"
   ]
  },
  {
   "cell_type": "code",
   "execution_count": 26,
   "id": "febef29d",
   "metadata": {},
   "outputs": [
    {
     "name": "stdout",
     "output_type": "stream",
     "text": [
      "[[1306    7]\n",
      " [  41   10]]\n"
     ]
    },
    {
     "data": {
      "image/png": "[encoded data removed]",
      "text/plain": [
       "<Figure size 432x288 with 2 Axes>"
      ]
     },
     "metadata": {
      "needs_background": "light"
     },
     "output_type": "display_data"
    }
   ],
   "source": [
    "c_matrix = confusion_matrix(y_test,y_pred)\n",
    "#print confusion matrix\n",
    "print(c_matrix)\n",
    "\n",
    "disp = ConfusionMatrixDisplay(confusion_matrix=c_matrix,display_labels=[\"Not bankrupt\", \"Is bankrupt\"])\n",
    "disp.plot()\n",
    "plt.show()"
   ]
  },
  {
   "cell_type": "code",
   "execution_count": 27,
   "id": "4185c782",
   "metadata": {},
   "outputs": [
    {
     "name": "stdout",
     "output_type": "stream",
     "text": [
      "[[9.98387582e-01 1.61241833e-03]\n",
      " [9.91474936e-01 8.52506438e-03]\n",
      " [9.99811051e-01 1.88948651e-04]\n",
      " ...\n",
      " [9.54486734e-01 4.55132657e-02]\n",
      " [9.73380318e-01 2.66196823e-02]\n",
      " [9.99776416e-01 2.23584454e-04]]\n",
      "[[9.87633493e-01 1.23665068e-02]\n",
      " [9.88646217e-01 1.13537827e-02]\n",
      " [9.97796624e-01 2.20337561e-03]\n",
      " ...\n",
      " [9.95038177e-01 4.96182304e-03]\n",
      " [9.99709154e-01 2.90846189e-04]\n",
      " [9.99780092e-01 2.19908176e-04]]\n"
     ]
    }
   ],
   "source": [
    "y_val_scores = lgclassifier.predict_proba(X_test)\n",
    "print(y_val_scores)\n",
    "\n",
    "y_train_scores = lgclassifier.predict_proba(X_train)\n",
    "print(y_train_scores)"
   ]
  },
  {
   "cell_type": "code",
   "execution_count": 28,
   "id": "9e31b8f3",
   "metadata": {},
   "outputs": [
    {
     "data": {
      "image/png": "[encoded data removed]",
      "text/plain": [
       "<Figure size 432x432 with 1 Axes>"
      ]
     },
     "metadata": {
      "needs_background": "light"
     },
     "output_type": "display_data"
    }
   ],
   "source": [
    "# calculate ROC curve\n",
    "fpr, tpr, thresholds = roc_curve(y_test, y_val_scores[:,1])\n",
    "\n",
    "# plot ROC curve\n",
    "fig = plt.figure(figsize=(6, 6))\n",
    "# Plot the diagonal 50% line\n",
    "plt.plot([0, 1], [0, 1], 'k--')\n",
    "# Plot the FPR and TPR achieved by our model\n",
    "plt.plot(fpr, tpr)\n",
    "plt.xlabel('False Positive Rate')\n",
    "plt.ylabel('True Positive Rate')\n",
    "plt.title('ROC Curve')\n",
    "plt.show()"
   ]
  },
  {
   "cell_type": "code",
   "execution_count": 29,
   "id": "8e4bdd3d",
   "metadata": {},
   "outputs": [
    {
     "name": "stdout",
     "output_type": "stream",
     "text": [
      "AUC: 0.8889984021026537\n"
     ]
    }
   ],
   "source": [
    "from sklearn.metrics import roc_auc_score\n",
    "\n",
    "auc = roc_auc_score(y_test,y_val_scores[:,1])\n",
    "print('AUC: ' + str(auc))"
   ]
  },
  {
   "cell_type": "code",
   "execution_count": 30,
   "id": "4ab43fd8",
   "metadata": {},
   "outputs": [
    {
     "data": {
      "image/png": "[encoded data removed]",
      "text/plain": [
       "<Figure size 432x288 with 2 Axes>"
      ]
     },
     "metadata": {
      "needs_background": "light"
     },
     "output_type": "display_data"
    }
   ],
   "source": [
    "sns.heatmap(cm,annot=True)\n",
    "plt.show()"
   ]
  },
  {
   "cell_type": "code",
   "execution_count": 31,
   "id": "876a435c",
   "metadata": {},
   "outputs": [
    {
     "name": "stdout",
     "output_type": "stream",
     "text": [
      "Accuracy score for Logistic Regression Model: 96.48 %\n"
     ]
    }
   ],
   "source": [
    "from sklearn.metrics import accuracy_score\n",
    "acc1 = accuracy_score(y_test, y_pred)\n",
    "print(\"Accuracy score for Logistic Regression Model: {:.2f} %\".format(acc1*100))"
   ]
  },
  {
   "cell_type": "code",
   "execution_count": 32,
   "id": "1aab71b6",
   "metadata": {},
   "outputs": [],
   "source": [
    "predictions_val = lgclassifier.predict(X_test)\n",
    "predictions_train = lgclassifier.predict(X_train)"
   ]
  },
  {
   "cell_type": "code",
   "execution_count": 33,
   "id": "5a1dcd3b",
   "metadata": {},
   "outputs": [
    {
     "name": "stdout",
     "output_type": "stream",
     "text": [
      "Validation Data Classification Report \n",
      "               precision    recall  f1-score   support\n",
      "\n",
      "           0       0.97      0.99      0.98      1313\n",
      "           1       0.59      0.20      0.29        51\n",
      "\n",
      "    accuracy                           0.96      1364\n",
      "   macro avg       0.78      0.60      0.64      1364\n",
      "weighted avg       0.96      0.96      0.96      1364\n",
      "\n",
      "Train Data Classification Report \n",
      "               precision    recall  f1-score   support\n",
      "\n",
      "           0       0.98      1.00      0.99      5286\n",
      "           1       0.64      0.27      0.38       169\n",
      "\n",
      "    accuracy                           0.97      5455\n",
      "   macro avg       0.81      0.63      0.68      5455\n",
      "weighted avg       0.97      0.97      0.97      5455\n",
      "\n"
     ]
    }
   ],
   "source": [
    "from sklearn. metrics import classification_report\n",
    "\n",
    "print('Validation Data Classification Report \\n', classification_report(y_test, predictions_val))\n",
    "print('Train Data Classification Report \\n', classification_report(y_train, predictions_train))"
   ]
  },
  {
   "cell_type": "code",
   "execution_count": 34,
   "id": "c2f5d93f",
   "metadata": {},
   "outputs": [
    {
     "name": "stdout",
     "output_type": "stream",
     "text": [
      "              precision    recall  f1-score   support\n",
      "\n",
      "           0       0.97      0.99      0.98      1313\n",
      "           1       0.59      0.20      0.29        51\n",
      "\n",
      "    accuracy                           0.96      1364\n",
      "   macro avg       0.78      0.60      0.64      1364\n",
      "weighted avg       0.96      0.96      0.96      1364\n",
      "\n"
     ]
    }
   ],
   "source": [
    "print(classification_report(y_test,y_pred))"
   ]
  },
  {
   "cell_type": "code",
   "execution_count": 35,
   "id": "df1d15d3",
   "metadata": {},
   "outputs": [
    {
     "name": "stdout",
     "output_type": "stream",
     "text": [
      "AUC: 0.8889984021026537\n"
     ]
    }
   ],
   "source": [
    "from sklearn.metrics import roc_auc_score\n",
    "\n",
    "auc = roc_auc_score(y_test,y_val_scores[:,1])\n",
    "print('AUC: ' + str(auc))"
   ]
  },
  {
   "cell_type": "code",
   "execution_count": 36,
   "id": "1327fbe5",
   "metadata": {},
   "outputs": [
    {
     "data": {
      "text/html": [
       "<div>\n",
       "<style scoped>\n",
       "    .dataframe tbody tr th:only-of-type {\n",
       "        vertical-align: middle;\n",
       "    }\n",
       "\n",
       "    .dataframe tbody tr th {\n",
       "        vertical-align: top;\n",
       "    }\n",
       "\n",
       "    .dataframe thead th {\n",
       "        text-align: right;\n",
       "    }\n",
       "</style>\n",
       "<table border=\"1\" class=\"dataframe\">\n",
       "  <thead>\n",
       "    <tr style=\"text-align: right;\">\n",
       "      <th></th>\n",
       "      <th>Train Accuracy</th>\n",
       "      <th>Test Accuracy</th>\n",
       "      <th>Train F1 Score</th>\n",
       "      <th>Test F1 Score</th>\n",
       "      <th>Train Precision</th>\n",
       "      <th>Test Precision</th>\n",
       "      <th>Train Recall</th>\n",
       "      <th>Test Recall</th>\n",
       "      <th>ROC AUC</th>\n",
       "    </tr>\n",
       "  </thead>\n",
       "  <tbody>\n",
       "    <tr>\n",
       "      <th>LogisticRegression</th>\n",
       "      <td>0.972686</td>\n",
       "      <td>0.964809</td>\n",
       "      <td>0.376569</td>\n",
       "      <td>0.294118</td>\n",
       "      <td>0.642857</td>\n",
       "      <td>0.588235</td>\n",
       "      <td>0.266272</td>\n",
       "      <td>0.196078</td>\n",
       "      <td>0.888998</td>\n",
       "    </tr>\n",
       "  </tbody>\n",
       "</table>\n",
       "</div>"
      ],
      "text/plain": [
       "                    Train Accuracy  Test Accuracy  Train F1 Score  \\\n",
       "LogisticRegression        0.972686       0.964809        0.376569   \n",
       "\n",
       "                    Test F1 Score  Train Precision  Test Precision  \\\n",
       "LogisticRegression       0.294118         0.642857        0.588235   \n",
       "\n",
       "                    Train Recall  Test Recall   ROC AUC  \n",
       "LogisticRegression      0.266272     0.196078  0.888998  "
      ]
     },
     "execution_count": 36,
     "metadata": {},
     "output_type": "execute_result"
    }
   ],
   "source": [
    "resultsLogisticRegression = pd.DataFrame({'Train Accuracy': accuracy_score(y_train, predictions_train),\n",
    "              'Test Accuracy': accuracy_score(y_test, predictions_val),\n",
    "              'Train F1 Score':f1_score(y_train, predictions_train),\n",
    "              'Test F1 Score':f1_score(y_test, predictions_val),\n",
    "              'Train Precision':precision_score(y_train, predictions_train),\n",
    "              'Test Precision': precision_score(y_test, predictions_val),\n",
    "              'Train Recall':recall_score(y_train, predictions_train),\n",
    "              'Test Recall': recall_score(y_test, predictions_val),\n",
    "              'ROC AUC':auc},\n",
    "             index=['LogisticRegression'])\n",
    "resultsLogisticRegression"
   ]
  },
  {
   "cell_type": "code",
   "execution_count": 37,
   "id": "add2e2b8",
   "metadata": {},
   "outputs": [
    {
     "data": {
      "text/plain": [
       "KNeighborsClassifier()"
      ]
     },
     "execution_count": 37,
     "metadata": {},
     "output_type": "execute_result"
    }
   ],
   "source": [
    "#K-NN\n",
    "from sklearn.neighbors import KNeighborsClassifier\n",
    "classifier = KNeighborsClassifier(n_neighbors = 5, metric = 'minkowski', p = 2)\n",
    "classifier.fit(X_train, y_train)"
   ]
  },
  {
   "cell_type": "code",
   "execution_count": 38,
   "id": "d93413f6",
   "metadata": {},
   "outputs": [
    {
     "name": "stdout",
     "output_type": "stream",
     "text": [
      "[[1307    6]\n",
      " [  45    6]]\n"
     ]
    }
   ],
   "source": [
    "y_pred = classifier.predict(X_test)\n",
    "cm = confusion_matrix(y_test, y_pred)\n",
    "print(cm)"
   ]
  },
  {
   "cell_type": "code",
   "execution_count": 39,
   "id": "c25206ff",
   "metadata": {},
   "outputs": [
    {
     "data": {
      "image/png": "[encoded data removed]",
      "text/plain": [
       "<Figure size 432x288 with 2 Axes>"
      ]
     },
     "metadata": {
      "needs_background": "light"
     },
     "output_type": "display_data"
    }
   ],
   "source": [
    "sns.heatmap(cm,annot=True)\n",
    "plt.show()"
   ]
  },
  {
   "cell_type": "code",
   "execution_count": 40,
   "id": "6d9dfb46",
   "metadata": {},
   "outputs": [
    {
     "name": "stdout",
     "output_type": "stream",
     "text": [
      "Best Accuracy of K-NN: 96.26 %\n"
     ]
    }
   ],
   "source": [
    "acc3 = accuracy_score(y_test, y_pred)\n",
    "print(\"Best Accuracy of K-NN: {:.2f} %\".format(acc3*100))"
   ]
  },
  {
   "cell_type": "code",
   "execution_count": 41,
   "id": "57b934ea",
   "metadata": {},
   "outputs": [
    {
     "name": "stdout",
     "output_type": "stream",
     "text": [
      "6\n"
     ]
    }
   ],
   "source": [
    "test_error_rates = []\n",
    "for k in range(1,30):\n",
    "    knn_model = KNeighborsClassifier(n_neighbors=k)\n",
    "    knn_model.fit(X_train, y_train)\n",
    "\n",
    "    y_pred_test=knn_model.predict(X_test)\n",
    "    test_error = 1-accuracy_score(y_test,y_pred_test)\n",
    "    test_error_rates.append(test_error)\n",
    "print(test_error_rates.index(min(test_error_rates)))"
   ]
  },
  {
   "cell_type": "code",
   "execution_count": 42,
   "id": "af5e008b",
   "metadata": {},
   "outputs": [
    {
     "name": "stdout",
     "output_type": "stream",
     "text": [
      "              precision    recall  f1-score   support\n",
      "\n",
      "           0       0.97      1.00      0.98      1313\n",
      "           1       0.50      0.12      0.19        51\n",
      "\n",
      "    accuracy                           0.96      1364\n",
      "   macro avg       0.73      0.56      0.59      1364\n",
      "weighted avg       0.95      0.96      0.95      1364\n",
      "\n"
     ]
    }
   ],
   "source": [
    "print(classification_report(y_test,y_pred))"
   ]
  },
  {
   "cell_type": "code",
   "execution_count": 43,
   "id": "e1099c02",
   "metadata": {},
   "outputs": [
    {
     "data": {
      "text/plain": [
       "Text(0.5, 0, 'K Neighbors')"
      ]
     },
     "execution_count": 43,
     "metadata": {},
     "output_type": "execute_result"
    },
    {
     "data": {
      "image/png": "[encoded data removed]",
      "text/plain": [
       "<Figure size 432x288 with 1 Axes>"
      ]
     },
     "metadata": {
      "needs_background": "light"
     },
     "output_type": "display_data"
    }
   ],
   "source": [
    "plt.plot(range(1,30), test_error_rates)\n",
    "plt.ylabel(\"Error Rate\")\n",
    "plt.xlabel(\"K Neighbors\")"
   ]
  },
  {
   "cell_type": "code",
   "execution_count": 44,
   "id": "42f6f663",
   "metadata": {},
   "outputs": [
    {
     "data": {
      "text/plain": [
       "RandomForestClassifier(criterion='entropy', n_estimators=10, random_state=0)"
      ]
     },
     "execution_count": 44,
     "metadata": {},
     "output_type": "execute_result"
    }
   ],
   "source": [
    "from sklearn.ensemble import RandomForestClassifier\n",
    "classifier = RandomForestClassifier(n_estimators = 10, criterion = 'entropy', random_state = 0)\n",
    "classifier.fit(X_train, y_train)"
   ]
  },
  {
   "cell_type": "code",
   "execution_count": 45,
   "id": "83eb1a2b",
   "metadata": {},
   "outputs": [
    {
     "name": "stdout",
     "output_type": "stream",
     "text": [
      "[[1308    5]\n",
      " [  41   10]]\n"
     ]
    }
   ],
   "source": [
    "y_pred = classifier.predict(X_test)\n",
    "from sklearn.metrics import confusion_matrix, accuracy_score\n",
    "cm = confusion_matrix(y_test, y_pred)\n",
    "print(cm)\n",
    "acc6 = accuracy_score(y_test, y_pred)"
   ]
  },
  {
   "cell_type": "code",
   "execution_count": 46,
   "id": "73cc0f74",
   "metadata": {},
   "outputs": [
    {
     "name": "stdout",
     "output_type": "stream",
     "text": [
      "Random Forest Classification accuracy: 0.966275659824047\n"
     ]
    }
   ],
   "source": [
    "print(f\"Random Forest Classification accuracy: {acc6}\")"
   ]
  },
  {
   "cell_type": "markdown",
   "id": "af188f30",
   "metadata": {},
   "source": [
    "# PCA"
   ]
  },
  {
   "cell_type": "code",
   "execution_count": 47,
   "id": "cbf38e70",
   "metadata": {},
   "outputs": [
    {
     "data": {
      "text/plain": [
       "array([0.13366614, 0.07267898])"
      ]
     },
     "execution_count": 47,
     "metadata": {},
     "output_type": "execute_result"
    }
   ],
   "source": [
    "from sklearn.decomposition import PCA\n",
    " \n",
    "pca = PCA(n_components = 2)\n",
    " \n",
    "X_train = pca.fit_transform(X_train)\n",
    "X_test = pca.transform(X_test)\n",
    " \n",
    "explained_variance = pca.explained_variance_ratio_\n",
    "explained_variance"
   ]
  },
  {
   "cell_type": "code",
   "execution_count": 48,
   "id": "6b931327",
   "metadata": {},
   "outputs": [
    {
     "data": {
      "text/plain": [
       "LogisticRegression(random_state=42)"
      ]
     },
     "execution_count": 48,
     "metadata": {},
     "output_type": "execute_result"
    }
   ],
   "source": [
    "from sklearn.linear_model import LogisticRegression\n",
    "classifier = LogisticRegression(random_state = 42)\n",
    "classifier.fit(X_train, y_train)"
   ]
  },
  {
   "cell_type": "code",
   "execution_count": 49,
   "id": "223627bd",
   "metadata": {},
   "outputs": [
    {
     "name": "stdout",
     "output_type": "stream",
     "text": [
      "[0 0 0 ... 0 0 0]\n"
     ]
    }
   ],
   "source": [
    "y_pred = classifier.predict(X_test)\n",
    "print(y_pred)"
   ]
  },
  {
   "cell_type": "code",
   "execution_count": 50,
   "id": "33ffa0f6",
   "metadata": {},
   "outputs": [
    {
     "name": "stdout",
     "output_type": "stream",
     "text": [
      "[[1309    4]\n",
      " [  45    6]]\n"
     ]
    }
   ],
   "source": [
    "y_pred = classifier.predict(X_test)\n",
    "from sklearn.metrics import confusion_matrix, accuracy_score\n",
    "cm = confusion_matrix(y_test, y_pred)\n",
    "print(cm)"
   ]
  },
  {
   "cell_type": "code",
   "execution_count": 51,
   "id": "f92dcba2",
   "metadata": {},
   "outputs": [
    {
     "name": "stdout",
     "output_type": "stream",
     "text": [
      "[[1309    4]\n",
      " [  45    6]]\n"
     ]
    },
    {
     "data": {
      "image/png": "[encoded data removed]",
      "text/plain": [
       "<Figure size 432x288 with 2 Axes>"
      ]
     },
     "metadata": {
      "needs_background": "light"
     },
     "output_type": "display_data"
    }
   ],
   "source": [
    "c_matrix = confusion_matrix(y_test,y_pred)\n",
    "#print confusion matrix\n",
    "print(c_matrix)\n",
    "\n",
    "disp = ConfusionMatrixDisplay(confusion_matrix=c_matrix,display_labels=[\"Not bankrupt\", \"Is bankrupt\"])\n",
    "disp.plot()\n",
    "plt.show()"
   ]
  },
  {
   "cell_type": "code",
   "execution_count": 52,
   "id": "4928abc4",
   "metadata": {},
   "outputs": [
    {
     "data": {
      "image/png": "[encoded data removed]",
      "text/plain": [
       "<Figure size 432x288 with 2 Axes>"
      ]
     },
     "metadata": {
      "needs_background": "light"
     },
     "output_type": "display_data"
    }
   ],
   "source": [
    "sns.heatmap(cm,annot=True)\n",
    "plt.show()"
   ]
  },
  {
   "cell_type": "code",
   "execution_count": 53,
   "id": "47c48e5c",
   "metadata": {},
   "outputs": [
    {
     "name": "stdout",
     "output_type": "stream",
     "text": [
      "Accuracy score for Logistic Regression Model: 96.41 %\n"
     ]
    }
   ],
   "source": [
    "from sklearn.metrics import accuracy_score\n",
    "acc1 = accuracy_score(y_test, y_pred)\n",
    "print(\"Accuracy score for Logistic Regression Model: {:.2f} %\".format(acc1*100))"
   ]
  },
  {
   "cell_type": "code",
   "execution_count": 54,
   "id": "9ffb35f9",
   "metadata": {},
   "outputs": [],
   "source": [
    "from sklearn.metrics import accuracy_score\n",
    "from sklearn.metrics import confusion_matrix\n",
    "from sklearn.metrics import precision_score, recall_score\n",
    "from sklearn.metrics import roc_curve, roc_auc_score"
   ]
  },
  {
   "cell_type": "code",
   "execution_count": 55,
   "id": "1577388a",
   "metadata": {},
   "outputs": [],
   "source": [
    "predictions_val = classifier.predict(X_test)\n",
    "predictions_train = classifier.predict(X_train)"
   ]
  },
  {
   "cell_type": "code",
   "execution_count": 56,
   "id": "04900b06",
   "metadata": {},
   "outputs": [
    {
     "name": "stdout",
     "output_type": "stream",
     "text": [
      "Validation Data Classification Report \n",
      "               precision    recall  f1-score   support\n",
      "\n",
      "           0       0.97      1.00      0.98      1313\n",
      "           1       0.60      0.12      0.20        51\n",
      "\n",
      "    accuracy                           0.96      1364\n",
      "   macro avg       0.78      0.56      0.59      1364\n",
      "weighted avg       0.95      0.96      0.95      1364\n",
      "\n"
     ]
    }
   ],
   "source": [
    "from sklearn. metrics import classification_report\n",
    "print('Validation Data Classification Report \\n', classification_report(y_test, predictions_val))"
   ]
  },
  {
   "cell_type": "code",
   "execution_count": 57,
   "id": "a9f33daf",
   "metadata": {
    "scrolled": true
   },
   "outputs": [
    {
     "data": {
      "image/png": "[encoded data removed]",
      "text/plain": [
       "<Figure size 432x432 with 1 Axes>"
      ]
     },
     "metadata": {
      "needs_background": "light"
     },
     "output_type": "display_data"
    }
   ],
   "source": [
    "# calculate ROC curve\n",
    "fpr, tpr, thresholds = roc_curve(y_test, y_val_scores[:,1])\n",
    "\n",
    "# plot ROC curve\n",
    "fig = plt.figure(figsize=(6, 6))\n",
    "# Plot the diagonal 50% line\n",
    "plt.plot([0, 1], [0, 1], 'k--')\n",
    "# Plot the FPR and TPR achieved by our model\n",
    "plt.plot(fpr, tpr)\n",
    "plt.xlabel('False Positive Rate')\n",
    "plt.ylabel('True Positive Rate')\n",
    "plt.title('ROC Curve')\n",
    "plt.show()"
   ]
  },
  {
   "cell_type": "code",
   "execution_count": 58,
   "id": "aad5533c",
   "metadata": {},
   "outputs": [
    {
     "name": "stdout",
     "output_type": "stream",
     "text": [
      "AUC: 0.8889984021026537\n"
     ]
    }
   ],
   "source": [
    "from sklearn.metrics import roc_auc_score\n",
    "\n",
    "auc = roc_auc_score(y_test,y_val_scores[:,1])\n",
    "print('AUC: ' + str(auc))"
   ]
  },
  {
   "cell_type": "code",
   "execution_count": 59,
   "id": "897878bc",
   "metadata": {},
   "outputs": [
    {
     "data": {
      "text/html": [
       "<div>\n",
       "<style scoped>\n",
       "    .dataframe tbody tr th:only-of-type {\n",
       "        vertical-align: middle;\n",
       "    }\n",
       "\n",
       "    .dataframe tbody tr th {\n",
       "        vertical-align: top;\n",
       "    }\n",
       "\n",
       "    .dataframe thead th {\n",
       "        text-align: right;\n",
       "    }\n",
       "</style>\n",
       "<table border=\"1\" class=\"dataframe\">\n",
       "  <thead>\n",
       "    <tr style=\"text-align: right;\">\n",
       "      <th></th>\n",
       "      <th>Train Accuracy</th>\n",
       "      <th>Test Accuracy</th>\n",
       "      <th>Train F1 Score</th>\n",
       "      <th>Test F1 Score</th>\n",
       "      <th>Train Precision</th>\n",
       "      <th>Test Precision</th>\n",
       "      <th>Train Recall</th>\n",
       "      <th>Test Recall</th>\n",
       "      <th>ROC AUC</th>\n",
       "    </tr>\n",
       "  </thead>\n",
       "  <tbody>\n",
       "    <tr>\n",
       "      <th>LogisticRegression</th>\n",
       "      <td>0.968653</td>\n",
       "      <td>0.964076</td>\n",
       "      <td>0.173913</td>\n",
       "      <td>0.196721</td>\n",
       "      <td>0.473684</td>\n",
       "      <td>0.6</td>\n",
       "      <td>0.106509</td>\n",
       "      <td>0.117647</td>\n",
       "      <td>0.888998</td>\n",
       "    </tr>\n",
       "  </tbody>\n",
       "</table>\n",
       "</div>"
      ],
      "text/plain": [
       "                    Train Accuracy  Test Accuracy  Train F1 Score  \\\n",
       "LogisticRegression        0.968653       0.964076        0.173913   \n",
       "\n",
       "                    Test F1 Score  Train Precision  Test Precision  \\\n",
       "LogisticRegression       0.196721         0.473684             0.6   \n",
       "\n",
       "                    Train Recall  Test Recall   ROC AUC  \n",
       "LogisticRegression      0.106509     0.117647  0.888998  "
      ]
     },
     "execution_count": 59,
     "metadata": {},
     "output_type": "execute_result"
    }
   ],
   "source": [
    "resultsLogisticRegression = pd.DataFrame({'Train Accuracy': accuracy_score(y_train, predictions_train),\n",
    "              'Test Accuracy': accuracy_score(y_test, predictions_val),\n",
    "              'Train F1 Score':f1_score(y_train, predictions_train),\n",
    "              'Test F1 Score':f1_score(y_test, predictions_val),\n",
    "              'Train Precision':precision_score(y_train, predictions_train),\n",
    "              'Test Precision': precision_score(y_test, predictions_val),\n",
    "              'Train Recall':recall_score(y_train, predictions_train),\n",
    "              'Test Recall': recall_score(y_test, predictions_val),\n",
    "              'ROC AUC':auc},\n",
    "             index=['LogisticRegression'])\n",
    "resultsLogisticRegression"
   ]
  },
  {
   "cell_type": "markdown",
   "id": "dea0d4c5",
   "metadata": {},
   "source": [
    "# FEATURE SELECTION"
   ]
  },
  {
   "cell_type": "code",
   "execution_count": 60,
   "id": "c8e73670",
   "metadata": {},
   "outputs": [],
   "source": [
    "from sklearn.model_selection import train_test_split\n",
    "from sklearn.feature_selection import mutual_info_classif\n",
    "from sklearn.feature_selection import SelectKBest"
   ]
  },
  {
   "cell_type": "code",
   "execution_count": 61,
   "id": "06f9c91d",
   "metadata": {},
   "outputs": [],
   "source": [
    "from sklearn.model_selection import train_test_split\n",
    "X_train, X_test, y_train, y_test = train_test_split(X, y, test_size = 0.2, random_state = 42)"
   ]
  },
  {
   "cell_type": "code",
   "execution_count": 62,
   "id": "17ea547c",
   "metadata": {},
   "outputs": [
    {
     "data": {
      "text/plain": [
       "array([0.03188334, 0.03222833, 0.02780574, 0.01272108, 0.0113264 ,\n",
       "       0.01719589, 0.02727278, 0.02704241, 0.02378808, 0.03293224,\n",
       "       0.00253392, 0.        , 0.01191673, 0.00130725, 0.01336661,\n",
       "       0.02935643, 0.02882593, 0.02689234, 0.04068379, 0.004999  ,\n",
       "       0.00407528, 0.01805637, 0.03461159, 0.00570575, 0.00261295,\n",
       "       0.01183244, 0.01186619, 0.00985917, 0.01264603, 0.02674356,\n",
       "       0.0096855 , 0.00106793, 0.02207226, 0.02230637, 0.0328482 ,\n",
       "       0.03049148, 0.03061278, 0.03025389, 0.00961479, 0.03456354,\n",
       "       0.00070122, 0.01718446, 0.03611836, 0.00448507, 0.00571279,\n",
       "       0.00178161, 0.        , 0.        , 0.00635561, 0.00084529,\n",
       "       0.00425874, 0.01658658, 0.00468781, 0.02127827, 0.00585749,\n",
       "       0.        , 0.01267185, 0.01448149, 0.01149065, 0.0181655 ,\n",
       "       0.01349973, 0.01643155, 0.00041297, 0.00156958, 0.02012045,\n",
       "       0.02350751, 0.0012861 , 0.02956495, 0.02810092, 0.00756054,\n",
       "       0.00395298, 0.        , 0.01231354, 0.00741479, 0.00322574,\n",
       "       0.00049057, 0.00145858, 0.02350751, 0.0088385 , 0.00519453,\n",
       "       0.00856495, 0.00823713, 0.00921917, 0.02252267, 0.        ,\n",
       "       0.03589246, 0.        , 0.00466872, 0.01194216, 0.0376464 ,\n",
       "       0.02879766, 0.03137097, 0.03203194, 0.        , 0.0301894 ])"
      ]
     },
     "execution_count": 62,
     "metadata": {},
     "output_type": "execute_result"
    }
   ],
   "source": [
    "mi = mutual_info_classif(X_train, y_train)\n",
    "mi"
   ]
  },
  {
   "cell_type": "markdown",
   "id": "9df9b032",
   "metadata": {},
   "source": [
    "#the smaller the value of the mi, the less information we can infer from the feature about the target"
   ]
  },
  {
   "cell_type": "code",
   "execution_count": 63,
   "id": "d60e2b64",
   "metadata": {},
   "outputs": [
    {
     "data": {
      "text/plain": [
       "Text(0, 0.5, 'Mutual Information')"
      ]
     },
     "execution_count": 63,
     "metadata": {},
     "output_type": "execute_result"
    },
    {
     "data": {
      "image/png": "[encoded data removed]",
      "text/plain": [
       "<Figure size 1440x432 with 1 Axes>"
      ]
     },
     "metadata": {
      "needs_background": "light"
     },
     "output_type": "display_data"
    }
   ],
   "source": [
    "# the less mi value, the less information we can get from\n",
    "mi = mutual_info_classif(X_train, y_train)\n",
    "miseries = pd.Series(mi)\n",
    "miseries\n",
    "miseries.index = X_train.columns\n",
    "miseries.sort_values(ascending=False).plot.bar(figsize=(20, 6))\n",
    "plt.ylabel('Mutual Information')"
   ]
  },
  {
   "cell_type": "markdown",
   "id": "7abba5b4",
   "metadata": {},
   "source": [
    "#There are a few features (left of the plot) with higher mutual information values. There are also features with almost zero MI values on the right of the plot.\n",
    "\n",
    "Once we find the mutual information values, to select features we need to determine a threshold, or cut-off value, above which a feature will be selected.\n",
    "\n",
    "There are a few ways in which this can be done:\n",
    "\n",
    "Select top k features, where k is an arbitrary number of features"
   ]
  },
  {
   "cell_type": "code",
   "execution_count": 64,
   "id": "160ff7bb",
   "metadata": {},
   "outputs": [
    {
     "data": {
      "text/plain": [
       "Index([' ROA(A) before interest and % after tax',\n",
       "       ' Continuous interest rate (after tax)',\n",
       "       ' Persistent EPS in the Last Four Seasons',\n",
       "       ' Per Share Net profit before tax (Yuan ¥)', ' Interest Expense Ratio',\n",
       "       ' Borrowing dependency', ' Net profit before tax/Paid-in capital',\n",
       "       ' Net Income to Total Assets', ' Net Income to Stockholder's Equity',\n",
       "       ' Interest Coverage Ratio (Interest expense to EBIT)'],\n",
       "      dtype='object')"
      ]
     },
     "execution_count": 64,
     "metadata": {},
     "output_type": "execute_result"
    }
   ],
   "source": [
    "# select features\n",
    "sel_ = SelectKBest(mutual_info_classif, k=10).fit(X_train, y_train)\n",
    "\n",
    "# display features\n",
    "X_train.columns[sel_.get_support()]"
   ]
  },
  {
   "cell_type": "code",
   "execution_count": 65,
   "id": "e84910da",
   "metadata": {},
   "outputs": [
    {
     "name": "stdout",
     "output_type": "stream",
     "text": [
      "class 0 count:  6599 class 1 count: 220\n",
      "class 0: (6599, 96)\n",
      "class 1: (220, 96)\n"
     ]
    }
   ],
   "source": [
    "class_count_0, class_count_1= df['Bankrupt'].value_counts()\n",
    "print(\"class 0 count: \", class_count_0, \"class 1 count:\", class_count_1)\n",
    "# Separate class\n",
    "class_0 = df[df['Bankrupt'] == 0]\n",
    "class_1 = df[df['Bankrupt'] == 1]\n",
    "\n",
    "# print the shape of the class\n",
    "print('class 0:', class_0.shape)\n",
    "print('class 1:', class_1.shape)"
   ]
  },
  {
   "cell_type": "code",
   "execution_count": 66,
   "id": "81530964",
   "metadata": {},
   "outputs": [
    {
     "data": {
      "text/plain": [
       "(6599, 96)"
      ]
     },
     "execution_count": 66,
     "metadata": {},
     "output_type": "execute_result"
    }
   ],
   "source": [
    "class_1.sample(class_count_0, replace = True).shape"
   ]
  },
  {
   "cell_type": "code",
   "execution_count": 67,
   "id": "d3256214",
   "metadata": {},
   "outputs": [],
   "source": [
    "# Oversample 1-class and concat the DataFrames of both classes\n",
    "class_1_over = class_1.sample(class_count_0, replace=True)\n",
    "df_test_over = pd.concat([class_0, class_1_over], axis=0)\n",
    "\n"
   ]
  },
  {
   "cell_type": "code",
   "execution_count": 68,
   "id": "b30cb831",
   "metadata": {},
   "outputs": [
    {
     "name": "stdout",
     "output_type": "stream",
     "text": [
      "0    6599\n",
      "1    6599\n",
      "Name: Bankrupt, dtype: int64\n"
     ]
    }
   ],
   "source": [
    "print(df_test_over['Bankrupt'].value_counts())"
   ]
  },
  {
   "cell_type": "code",
   "execution_count": 69,
   "id": "2b9c296e",
   "metadata": {},
   "outputs": [],
   "source": [
    "X_over = df_test_over.copy()\n",
    "y_over = df_test_over['Bankrupt']\n",
    "X_over = X_over.drop(['Bankrupt'], axis=1)"
   ]
  },
  {
   "cell_type": "code",
   "execution_count": 70,
   "id": "ad2d081d",
   "metadata": {},
   "outputs": [
    {
     "data": {
      "text/plain": [
       "((10558, 95), (2640, 95))"
      ]
     },
     "execution_count": 70,
     "metadata": {},
     "output_type": "execute_result"
    }
   ],
   "source": [
    "X = df_test_over.drop('Bankrupt',axis='columns')\n",
    "y = df_test_over['Bankrupt']\n",
    "\n",
    "from sklearn.model_selection import train_test_split\n",
    "X_train, X_test, y_train, y_test = train_test_split(X, y, test_size=0.2, random_state=15, stratify=y)\n",
    "X_train.shape, X_test.shape"
   ]
  },
  {
   "cell_type": "code",
   "execution_count": 71,
   "id": "9cf73be9",
   "metadata": {},
   "outputs": [
    {
     "data": {
      "text/plain": [
       "Text(0, 0.5, 'Mutual Information')"
      ]
     },
     "execution_count": 71,
     "metadata": {},
     "output_type": "execute_result"
    },
    {
     "data": {
      "image/png": "[encoded data removed]",
      "text/plain": [
       "<Figure size 1440x432 with 1 Axes>"
      ]
     },
     "metadata": {
      "needs_background": "light"
     },
     "output_type": "display_data"
    }
   ],
   "source": [
    "miseries = pd.Series(mi)\n",
    "miseries\n",
    "miseries.index = X_train.columns\n",
    "miseries.sort_values(ascending=False).plot.bar(figsize=(20, 6))\n",
    "plt.ylabel('Mutual Information')"
   ]
  },
  {
   "cell_type": "code",
   "execution_count": 72,
   "id": "57141106",
   "metadata": {},
   "outputs": [
    {
     "data": {
      "text/plain": [
       "Index([' Net profit before tax/Paid-in capital', ' Working Capital/Equity',\n",
       "       ' Current Liabilities/Equity', ' Retained Earnings to Total Assets',\n",
       "       ' Total income/Total expense', ' Current Liability to Equity',\n",
       "       ' Net Income to Total Assets', ' Net Income to Stockholder's Equity',\n",
       "       ' Liability to Equity', ' Equity to Liability'],\n",
       "      dtype='object')"
      ]
     },
     "execution_count": 72,
     "metadata": {},
     "output_type": "execute_result"
    }
   ],
   "source": [
    "# select features\n",
    "k_best = SelectKBest(mutual_info_classif, k=10).fit(X_train, y_train)\n",
    "\n",
    "# display features\n",
    "X_train.columns[k_best.get_support()]"
   ]
  },
  {
   "cell_type": "code",
   "execution_count": 73,
   "id": "1b67b654",
   "metadata": {},
   "outputs": [
    {
     "data": {
      "text/plain": [
       "((10558, 10), (2640, 10))"
      ]
     },
     "execution_count": 73,
     "metadata": {},
     "output_type": "execute_result"
    }
   ],
   "source": [
    "# remove the rest of the features:\n",
    "X_train = k_best.transform(X_train)\n",
    "X_test = k_best.transform(X_test)\n",
    "X_train.shape,X_test.shape"
   ]
  },
  {
   "cell_type": "code",
   "execution_count": 74,
   "id": "2d690fc8",
   "metadata": {},
   "outputs": [],
   "source": [
    "sc = StandardScaler()\n",
    "X_train = sc.fit_transform(X_train)\n",
    "X_test = sc.transform(X_test)"
   ]
  },
  {
   "cell_type": "code",
   "execution_count": 75,
   "id": "67468bc2",
   "metadata": {},
   "outputs": [
    {
     "data": {
      "text/plain": [
       "LogisticRegression(random_state=42)"
      ]
     },
     "execution_count": 75,
     "metadata": {},
     "output_type": "execute_result"
    }
   ],
   "source": [
    "lgclassifier = LogisticRegression(random_state = 42)\n",
    "lgclassifier.fit(X_train, y_train)"
   ]
  },
  {
   "cell_type": "code",
   "execution_count": 76,
   "id": "25dd3f40",
   "metadata": {},
   "outputs": [
    {
     "name": "stdout",
     "output_type": "stream",
     "text": [
      "[0 0 0 ... 0 0 1]\n"
     ]
    }
   ],
   "source": [
    "y_pred = lgclassifier.predict(X_test)\n",
    "print(y_pred)"
   ]
  },
  {
   "cell_type": "code",
   "execution_count": 77,
   "id": "f67b8a13",
   "metadata": {},
   "outputs": [
    {
     "name": "stdout",
     "output_type": "stream",
     "text": [
      "Accuracy: 0.8359848484848484 \n",
      "the accuracy rate is lower after rebalancing using under sampling\n"
     ]
    }
   ],
   "source": [
    "acc = accuracy_score(y_test, y_pred)\n",
    "print(f\"Accuracy: {acc}\", \"\\nthe accuracy rate is lower after rebalancing using under sampling\")"
   ]
  },
  {
   "cell_type": "code",
   "execution_count": 78,
   "id": "cf65f814",
   "metadata": {},
   "outputs": [
    {
     "name": "stdout",
     "output_type": "stream",
     "text": [
      "[[1120  200]\n",
      " [ 233 1087]]\n"
     ]
    },
    {
     "data": {
      "image/png": "[encoded data removed]",
      "text/plain": [
       "<Figure size 432x288 with 2 Axes>"
      ]
     },
     "metadata": {
      "needs_background": "light"
     },
     "output_type": "display_data"
    }
   ],
   "source": [
    "c_matrix = confusion_matrix(y_test,y_pred)\n",
    "#print confusion matrix\n",
    "print(c_matrix)\n",
    "\n",
    "disp = ConfusionMatrixDisplay(confusion_matrix=c_matrix,display_labels=[\"Not bankrupt\", \"Is bankrupt\"])\n",
    "disp.plot()\n",
    "plt.show()"
   ]
  },
  {
   "cell_type": "code",
   "execution_count": 79,
   "id": "4311f7a9",
   "metadata": {},
   "outputs": [
    {
     "data": {
      "text/plain": [
       "<matplotlib.legend.Legend at 0x2a7ebfeabb0>"
      ]
     },
     "execution_count": 79,
     "metadata": {},
     "output_type": "execute_result"
    },
    {
     "data": {
      "image/png": "[encoded data removed]",
      "text/plain": [
       "<Figure size 720x432 with 1 Axes>"
      ]
     },
     "metadata": {
      "needs_background": "light"
     },
     "output_type": "display_data"
    }
   ],
   "source": [
    "#plots the ROC curves\n",
    "plt.figure(figsize=(10, 6))\n",
    "lg_probabilities = lgclassifier.predict_proba(X_test)[:, 1]\n",
    "\n",
    "lg_auc = roc_auc_score(y_test, lg_probabilities)\n",
    "lg_fpr, lg_tpr, lg_thresholds = roc_curve(y_test, lg_probabilities)\n",
    "plt.plot(lg_fpr, lg_tpr, label=f\"AUC - Logistic Classifier: {lg_auc}\")\n",
    "\n",
    "plt.plot([0, 1], [0, 1], color='blue', linestyle='--', label='Baseline')\n",
    "\n",
    "plt.xlabel('FPR (False Positive Rate)', size=14)\n",
    "plt.ylabel('TPR (True Positive Rate)', size=14)\n",
    "plt.title('Oversampling rebalanced - ROC Curve', size=18)\n",
    "plt.legend()"
   ]
  },
  {
   "cell_type": "code",
   "execution_count": 80,
   "id": "7fbec581",
   "metadata": {},
   "outputs": [
    {
     "name": "stdout",
     "output_type": "stream",
     "text": [
      "[[0.65142324 0.34857676]\n",
      " [0.53095134 0.46904866]\n",
      " [0.98143    0.01857   ]\n",
      " ...\n",
      " [0.9800698  0.0199302 ]\n",
      " [0.84495954 0.15504046]\n",
      " [0.32789739 0.67210261]]\n",
      "[[0.06876601 0.93123399]\n",
      " [0.9386818  0.0613182 ]\n",
      " [0.52794086 0.47205914]\n",
      " ...\n",
      " [0.86636442 0.13363558]\n",
      " [0.70221741 0.29778259]\n",
      " [0.39509862 0.60490138]]\n"
     ]
    }
   ],
   "source": [
    "y_val_scores = lgclassifier.predict_proba(X_test)\n",
    "print(y_val_scores)\n",
    "\n",
    "y_train_scores = lgclassifier.predict_proba(X_train)\n",
    "print(y_train_scores)"
   ]
  },
  {
   "cell_type": "code",
   "execution_count": 81,
   "id": "19fb043d",
   "metadata": {},
   "outputs": [
    {
     "name": "stdout",
     "output_type": "stream",
     "text": [
      "AUC: 0.9203489439853076\n"
     ]
    }
   ],
   "source": [
    "from sklearn.metrics import roc_auc_score\n",
    "\n",
    "auc = roc_auc_score(y_test,y_val_scores[:,1])\n",
    "print('AUC: ' + str(auc))"
   ]
  },
  {
   "cell_type": "code",
   "execution_count": 82,
   "id": "56b8d924",
   "metadata": {},
   "outputs": [],
   "source": [
    "predictions_val = lgclassifier.predict(X_test)"
   ]
  },
  {
   "cell_type": "code",
   "execution_count": 83,
   "id": "63f9e3db",
   "metadata": {},
   "outputs": [
    {
     "name": "stdout",
     "output_type": "stream",
     "text": [
      "Validation Data Classification Report \n",
      "               precision    recall  f1-score   support\n",
      "\n",
      "           0       0.83      0.85      0.84      1320\n",
      "           1       0.84      0.82      0.83      1320\n",
      "\n",
      "    accuracy                           0.84      2640\n",
      "   macro avg       0.84      0.84      0.84      2640\n",
      "weighted avg       0.84      0.84      0.84      2640\n",
      "\n"
     ]
    }
   ],
   "source": [
    "from sklearn. metrics import classification_report\n",
    "\n",
    "print('Validation Data Classification Report \\n', classification_report(y_test, predictions_val))"
   ]
  },
  {
   "cell_type": "code",
   "execution_count": 84,
   "id": "b7d1f2c3",
   "metadata": {},
   "outputs": [
    {
     "data": {
      "text/plain": [
       "KNeighborsClassifier()"
      ]
     },
     "execution_count": 84,
     "metadata": {},
     "output_type": "execute_result"
    }
   ],
   "source": [
    "from sklearn.neighbors import KNeighborsClassifier\n",
    "classifier = KNeighborsClassifier(n_neighbors = 5, metric = 'minkowski', p = 2)\n",
    "classifier.fit(X_train, y_train)"
   ]
  },
  {
   "cell_type": "code",
   "execution_count": 85,
   "id": "634a0245",
   "metadata": {},
   "outputs": [
    {
     "name": "stdout",
     "output_type": "stream",
     "text": [
      "[[1232   88]\n",
      " [   0 1320]]\n"
     ]
    }
   ],
   "source": [
    "y_pred = classifier.predict(X_test)\n",
    "cm = confusion_matrix(y_test, y_pred)\n",
    "print(cm)"
   ]
  },
  {
   "cell_type": "code",
   "execution_count": 86,
   "id": "aee93ac4",
   "metadata": {},
   "outputs": [
    {
     "data": {
      "image/png": "[encoded data removed]",
      "text/plain": [
       "<Figure size 432x288 with 2 Axes>"
      ]
     },
     "metadata": {
      "needs_background": "light"
     },
     "output_type": "display_data"
    },
    {
     "name": "stdout",
     "output_type": "stream",
     "text": [
      "Best Accuracy of K-NN: 96.67 %\n"
     ]
    }
   ],
   "source": [
    "sns.heatmap(cm,annot=True)\n",
    "plt.show()\n",
    "acc3 = accuracy_score(y_test, y_pred)\n",
    "print(\"Best Accuracy of K-NN: {:.2f} %\".format(acc3*100))"
   ]
  },
  {
   "cell_type": "code",
   "execution_count": 87,
   "id": "a9616554",
   "metadata": {},
   "outputs": [
    {
     "name": "stdout",
     "output_type": "stream",
     "text": [
      "0\n"
     ]
    }
   ],
   "source": [
    "test_error_rates = []\n",
    "for k in range(1,30):\n",
    "    knn_model = KNeighborsClassifier(n_neighbors=k)\n",
    "    knn_model.fit(X_train, y_train)\n",
    "\n",
    "    y_pred_test=knn_model.predict(X_test)\n",
    "    test_error = 1-accuracy_score(y_test,y_pred_test)\n",
    "    test_error_rates.append(test_error)\n",
    "print(test_error_rates.index(min(test_error_rates)))"
   ]
  },
  {
   "cell_type": "code",
   "execution_count": 88,
   "id": "9da55ffa",
   "metadata": {},
   "outputs": [
    {
     "name": "stdout",
     "output_type": "stream",
     "text": [
      "              precision    recall  f1-score   support\n",
      "\n",
      "           0       1.00      0.93      0.97      1320\n",
      "           1       0.94      1.00      0.97      1320\n",
      "\n",
      "    accuracy                           0.97      2640\n",
      "   macro avg       0.97      0.97      0.97      2640\n",
      "weighted avg       0.97      0.97      0.97      2640\n",
      "\n"
     ]
    }
   ],
   "source": [
    "print(classification_report(y_test,y_pred))"
   ]
  },
  {
   "cell_type": "code",
   "execution_count": 89,
   "id": "edaa469f",
   "metadata": {},
   "outputs": [
    {
     "data": {
      "text/plain": [
       "Text(0.5, 0, 'K Neighbors')"
      ]
     },
     "execution_count": 89,
     "metadata": {},
     "output_type": "execute_result"
    },
    {
     "data": {
      "image/png": "[encoded data removed]",
      "text/plain": [
       "<Figure size 432x288 with 1 Axes>"
      ]
     },
     "metadata": {
      "needs_background": "light"
     },
     "output_type": "display_data"
    }
   ],
   "source": [
    "plt.plot(range(1,30), test_error_rates)\n",
    "plt.ylabel(\"Error Rate\")\n",
    "plt.xlabel(\"K Neighbors\")"
   ]
  },
  {
   "cell_type": "code",
   "execution_count": 90,
   "id": "7a3df6f8",
   "metadata": {},
   "outputs": [
    {
     "data": {
      "text/plain": [
       "RandomForestClassifier(criterion='entropy', n_estimators=10, random_state=0)"
      ]
     },
     "execution_count": 90,
     "metadata": {},
     "output_type": "execute_result"
    }
   ],
   "source": [
    "from sklearn.ensemble import RandomForestClassifier\n",
    "classifier = RandomForestClassifier(n_estimators = 10, criterion = 'entropy', random_state = 0)\n",
    "classifier.fit(X_train, y_train)"
   ]
  },
  {
   "cell_type": "code",
   "execution_count": 91,
   "id": "1d64a1b5",
   "metadata": {},
   "outputs": [
    {
     "name": "stdout",
     "output_type": "stream",
     "text": [
      "[[1304   16]\n",
      " [   0 1320]]\n"
     ]
    }
   ],
   "source": [
    "y_pred = classifier.predict(X_test)\n",
    "from sklearn.metrics import confusion_matrix, accuracy_score\n",
    "cm = confusion_matrix(y_test, y_pred)\n",
    "print(cm)\n",
    "acc6 = accuracy_score(y_test, y_pred)"
   ]
  },
  {
   "cell_type": "code",
   "execution_count": 92,
   "id": "44342416",
   "metadata": {},
   "outputs": [
    {
     "name": "stdout",
     "output_type": "stream",
     "text": [
      "Random Forest Classification accuracy: 0.9939393939393939\n"
     ]
    }
   ],
   "source": [
    "print(f\"Random Forest Classification accuracy: {acc6}\")"
   ]
  },
  {
   "cell_type": "code",
   "execution_count": 93,
   "id": "b1815762",
   "metadata": {},
   "outputs": [
    {
     "name": "stdout",
     "output_type": "stream",
     "text": [
      "[[1304   16]\n",
      " [   0 1320]]\n"
     ]
    },
    {
     "data": {
      "image/png": "[encoded data removed]",
      "text/plain": [
       "<Figure size 432x288 with 2 Axes>"
      ]
     },
     "metadata": {
      "needs_background": "light"
     },
     "output_type": "display_data"
    }
   ],
   "source": [
    "c_matrix = confusion_matrix(y_test,y_pred)\n",
    "#print confusion matrix\n",
    "print(c_matrix)\n",
    "\n",
    "disp = ConfusionMatrixDisplay(confusion_matrix=c_matrix,display_labels=[\"Not bankrupt\", \"Is bankrupt\"])\n",
    "disp.plot()\n",
    "plt.show()"
   ]
  },
  {
   "cell_type": "code",
   "execution_count": 94,
   "id": "d778bcb3",
   "metadata": {},
   "outputs": [
    {
     "name": "stdout",
     "output_type": "stream",
     "text": [
      "              precision    recall  f1-score   support\n",
      "\n",
      "           0       1.00      0.99      0.99      1320\n",
      "           1       0.99      1.00      0.99      1320\n",
      "\n",
      "    accuracy                           0.99      2640\n",
      "   macro avg       0.99      0.99      0.99      2640\n",
      "weighted avg       0.99      0.99      0.99      2640\n",
      "\n"
     ]
    }
   ],
   "source": [
    "print(classification_report(y_test,y_pred))"
   ]
  },
  {
   "cell_type": "markdown",
   "id": "6e64161a",
   "metadata": {},
   "source": [
    " # Oversampling blindly copies the current samples to create new samples\n",
    " "
   ]
  },
  {
   "cell_type": "markdown",
   "id": "688c3ad4",
   "metadata": {},
   "source": [
    "# SMOTE:- Creates new samples from current samples usinng K nearest neighbours algorithm"
   ]
  },
  {
   "cell_type": "code",
   "execution_count": 95,
   "id": "c548f2b6",
   "metadata": {},
   "outputs": [],
   "source": [
    "X = df.drop('Bankrupt',axis='columns')\n",
    "y = df['Bankrupt']"
   ]
  },
  {
   "cell_type": "code",
   "execution_count": 96,
   "id": "be6554c7",
   "metadata": {},
   "outputs": [
    {
     "data": {
      "text/plain": [
       "1    6599\n",
       "0    6599\n",
       "Name: Bankrupt, dtype: int64"
      ]
     },
     "execution_count": 96,
     "metadata": {},
     "output_type": "execute_result"
    }
   ],
   "source": [
    "from imblearn.over_sampling import SMOTE\n",
    "\n",
    "smote = SMOTE(sampling_strategy='minority')\n",
    "oversample = SMOTE()\n",
    "X_sm, y_sm = smote.fit_resample(X, y)\n",
    "y_sm.value_counts()"
   ]
  },
  {
   "cell_type": "markdown",
   "id": "2339f0ca",
   "metadata": {},
   "source": [
    "# TRAIN and SPLIT"
   ]
  },
  {
   "cell_type": "code",
   "execution_count": 97,
   "id": "0a7a2a62",
   "metadata": {},
   "outputs": [],
   "source": [
    "from sklearn.model_selection import train_test_split\n",
    "X_train, X_test, y_train, y_test = train_test_split(X_sm, y_sm, test_size=0.2, random_state=15, stratify=y_sm)"
   ]
  },
  {
   "cell_type": "code",
   "execution_count": 98,
   "id": "5750de99",
   "metadata": {},
   "outputs": [
    {
     "data": {
      "text/plain": [
       "1    5279\n",
       "0    5279\n",
       "Name: Bankrupt, dtype: int64"
      ]
     },
     "execution_count": 98,
     "metadata": {},
     "output_type": "execute_result"
    }
   ],
   "source": [
    "# Number of classes in training Data\n",
    "y_train.value_counts()"
   ]
  },
  {
   "cell_type": "markdown",
   "id": "679d2792",
   "metadata": {},
   "source": [
    "# Feature selection"
   ]
  },
  {
   "cell_type": "code",
   "execution_count": 99,
   "id": "a355cec3",
   "metadata": {},
   "outputs": [
    {
     "data": {
      "text/plain": [
       "Text(0, 0.5, 'Mutual Information')"
      ]
     },
     "execution_count": 99,
     "metadata": {},
     "output_type": "execute_result"
    },
    {
     "data": {
      "image/png": "[encoded data removed]",
      "text/plain": [
       "<Figure size 1440x432 with 1 Axes>"
      ]
     },
     "metadata": {
      "needs_background": "light"
     },
     "output_type": "display_data"
    }
   ],
   "source": [
    "miseries = pd.Series(mi)\n",
    "miseries\n",
    "miseries.index = X_train.columns\n",
    "miseries.sort_values(ascending=False).plot.bar(figsize=(20, 6))\n",
    "plt.ylabel('Mutual Information')"
   ]
  },
  {
   "cell_type": "code",
   "execution_count": 100,
   "id": "d1c38985",
   "metadata": {},
   "outputs": [
    {
     "data": {
      "text/plain": [
       "Index([' Continuous interest rate (after tax)',\n",
       "       ' Persistent EPS in the Last Four Seasons', ' Cash Flow Per Share',\n",
       "       ' Operating Profit Per Share (Yuan ¥)',\n",
       "       ' Per Share Net profit before tax (Yuan ¥)', ' Total Asset Growth Rate',\n",
       "       ' Total Asset Turnover', ' Net Worth Turnover Rate (times)',\n",
       "       ' Net Income to Total Assets', ' Net Income to Stockholder's Equity'],\n",
       "      dtype='object')"
      ]
     },
     "execution_count": 100,
     "metadata": {},
     "output_type": "execute_result"
    }
   ],
   "source": [
    "# select features\n",
    "k_best = SelectKBest(mutual_info_classif, k=10).fit(X_train, y_train)\n",
    "\n",
    "# display features\n",
    "X_train.columns[k_best.get_support()]"
   ]
  },
  {
   "cell_type": "code",
   "execution_count": 101,
   "id": "ebd4baac",
   "metadata": {},
   "outputs": [
    {
     "data": {
      "text/plain": [
       "((10558, 10), (2640, 10))"
      ]
     },
     "execution_count": 101,
     "metadata": {},
     "output_type": "execute_result"
    }
   ],
   "source": [
    "# remove the rest of the features:\n",
    "X_train = k_best.transform(X_train)\n",
    "X_test = k_best.transform(X_test)\n",
    "X_train.shape,X_test.shape"
   ]
  },
  {
   "cell_type": "markdown",
   "id": "d85a7b9f",
   "metadata": {},
   "source": [
    "# Feature Scaling"
   ]
  },
  {
   "cell_type": "code",
   "execution_count": 102,
   "id": "ae734948",
   "metadata": {},
   "outputs": [],
   "source": [
    "sc = StandardScaler()\n",
    "X_train = sc.fit_transform(X_train)\n",
    "X_test = sc.transform(X_test)"
   ]
  },
  {
   "cell_type": "code",
   "execution_count": 103,
   "id": "2add3481",
   "metadata": {},
   "outputs": [
    {
     "data": {
      "text/plain": [
       "LogisticRegression(random_state=42)"
      ]
     },
     "execution_count": 103,
     "metadata": {},
     "output_type": "execute_result"
    }
   ],
   "source": [
    "lgclassifier = LogisticRegression(random_state = 42)\n",
    "lgclassifier.fit(X_train, y_train)"
   ]
  },
  {
   "cell_type": "code",
   "execution_count": 104,
   "id": "56960df3",
   "metadata": {},
   "outputs": [
    {
     "name": "stdout",
     "output_type": "stream",
     "text": [
      "[1 1 0 ... 0 0 1]\n"
     ]
    }
   ],
   "source": [
    "y_pred = lgclassifier.predict(X_test)\n",
    "print(y_pred)"
   ]
  },
  {
   "cell_type": "code",
   "execution_count": 105,
   "id": "39ca99c0",
   "metadata": {},
   "outputs": [
    {
     "name": "stdout",
     "output_type": "stream",
     "text": [
      "Accuracy: 0.8746212121212121 \n",
      "the accuracy rate is increased after rebalancing using under sampling\n"
     ]
    }
   ],
   "source": [
    "acc = accuracy_score(y_test, y_pred)\n",
    "print(f\"Accuracy: {acc}\", \"\\nthe accuracy rate is increased after rebalancing using under sampling\")"
   ]
  },
  {
   "cell_type": "code",
   "execution_count": 106,
   "id": "32749044",
   "metadata": {},
   "outputs": [
    {
     "name": "stdout",
     "output_type": "stream",
     "text": [
      "[[1152  168]\n",
      " [ 163 1157]]\n"
     ]
    },
    {
     "data": {
      "image/png": "[encoded data removed]",
      "text/plain": [
       "<Figure size 432x288 with 2 Axes>"
      ]
     },
     "metadata": {
      "needs_background": "light"
     },
     "output_type": "display_data"
    }
   ],
   "source": [
    "c_matrix = confusion_matrix(y_test,y_pred)\n",
    "#print confusion matrix\n",
    "print(c_matrix)\n",
    "\n",
    "disp = ConfusionMatrixDisplay(confusion_matrix=c_matrix,display_labels=[\"Not bankrupt\", \"Is bankrupt\"])\n",
    "disp.plot()\n",
    "plt.show()"
   ]
  },
  {
   "cell_type": "code",
   "execution_count": 107,
   "id": "30db88f5",
   "metadata": {},
   "outputs": [
    {
     "data": {
      "text/plain": [
       "<matplotlib.legend.Legend at 0x2a7ec0695e0>"
      ]
     },
     "execution_count": 107,
     "metadata": {},
     "output_type": "execute_result"
    },
    {
     "data": {
      "image/png": "[encoded data removed]",
      "text/plain": [
       "<Figure size 720x432 with 1 Axes>"
      ]
     },
     "metadata": {
      "needs_background": "light"
     },
     "output_type": "display_data"
    }
   ],
   "source": [
    "#plots the ROC curves\n",
    "plt.figure(figsize=(10, 6))\n",
    "lg_probabilities = lgclassifier.predict_proba(X_test)[:, 1]\n",
    "\n",
    "lg_auc = roc_auc_score(y_test, lg_probabilities)\n",
    "lg_fpr, lg_tpr, lg_thresholds = roc_curve(y_test, lg_probabilities)\n",
    "plt.plot(lg_fpr, lg_tpr, label=f\"AUC - Logistic Classifier: {lg_auc}\")\n",
    "\n",
    "plt.plot([0, 1], [0, 1], color='blue', linestyle='--', label='Baseline')\n",
    "\n",
    "plt.xlabel('FPR (False Positive Rate)', size=14)\n",
    "plt.ylabel('TPR (True Positive Rate)', size=14)\n",
    "plt.title('Oversampling rebalanced - ROC Curve', size=18)\n",
    "plt.legend()"
   ]
  },
  {
   "cell_type": "code",
   "execution_count": 108,
   "id": "471cb1c3",
   "metadata": {},
   "outputs": [
    {
     "name": "stdout",
     "output_type": "stream",
     "text": [
      "AUC: 0.9203489439853076\n"
     ]
    }
   ],
   "source": [
    "from sklearn.metrics import roc_auc_score\n",
    "\n",
    "auc = roc_auc_score(y_test,y_val_scores[:,1])\n",
    "print('AUC: ' + str(auc))"
   ]
  },
  {
   "cell_type": "code",
   "execution_count": 109,
   "id": "15742867",
   "metadata": {},
   "outputs": [],
   "source": [
    "predictions_val = lgclassifier.predict(X_test)"
   ]
  },
  {
   "cell_type": "code",
   "execution_count": 110,
   "id": "4b735e8a",
   "metadata": {},
   "outputs": [
    {
     "name": "stdout",
     "output_type": "stream",
     "text": [
      "Validation Data Classification Report \n",
      "               precision    recall  f1-score   support\n",
      "\n",
      "           0       0.88      0.87      0.87      1320\n",
      "           1       0.87      0.88      0.87      1320\n",
      "\n",
      "    accuracy                           0.87      2640\n",
      "   macro avg       0.87      0.87      0.87      2640\n",
      "weighted avg       0.87      0.87      0.87      2640\n",
      "\n"
     ]
    }
   ],
   "source": [
    "from sklearn. metrics import classification_report\n",
    "\n",
    "print('Validation Data Classification Report \\n', classification_report(y_test, predictions_val))"
   ]
  },
  {
   "cell_type": "markdown",
   "id": "c5171e8a",
   "metadata": {},
   "source": [
    "# KNN"
   ]
  },
  {
   "cell_type": "code",
   "execution_count": 111,
   "id": "17656faa",
   "metadata": {},
   "outputs": [
    {
     "data": {
      "text/plain": [
       "KNeighborsClassifier()"
      ]
     },
     "execution_count": 111,
     "metadata": {},
     "output_type": "execute_result"
    }
   ],
   "source": [
    "from sklearn.neighbors import KNeighborsClassifier\n",
    "classifier = KNeighborsClassifier(n_neighbors = 5, metric = 'minkowski', p = 2)\n",
    "classifier.fit(X_train, y_train)"
   ]
  },
  {
   "cell_type": "code",
   "execution_count": 112,
   "id": "3c07ee27",
   "metadata": {},
   "outputs": [
    {
     "name": "stdout",
     "output_type": "stream",
     "text": [
      "[[1145  175]\n",
      " [  17 1303]]\n"
     ]
    }
   ],
   "source": [
    "y_pred = classifier.predict(X_test)\n",
    "cm = confusion_matrix(y_test, y_pred)\n",
    "print(cm)"
   ]
  },
  {
   "cell_type": "code",
   "execution_count": 113,
   "id": "9398788f",
   "metadata": {},
   "outputs": [
    {
     "data": {
      "image/png": "[encoded data removed]",
      "text/plain": [
       "<Figure size 432x288 with 2 Axes>"
      ]
     },
     "metadata": {
      "needs_background": "light"
     },
     "output_type": "display_data"
    },
    {
     "name": "stdout",
     "output_type": "stream",
     "text": [
      "Best Accuracy of K-NN: 92.73 %\n"
     ]
    }
   ],
   "source": [
    "sns.heatmap(cm,annot=True)\n",
    "plt.show()\n",
    "acc3 = accuracy_score(y_test, y_pred)\n",
    "print(\"Best Accuracy of K-NN: {:.2f} %\".format(acc3*100))"
   ]
  },
  {
   "cell_type": "code",
   "execution_count": 114,
   "id": "03666210",
   "metadata": {},
   "outputs": [
    {
     "name": "stdout",
     "output_type": "stream",
     "text": [
      "0\n"
     ]
    }
   ],
   "source": [
    "test_error_rates = []\n",
    "for k in range(1,30):\n",
    "    knn_model = KNeighborsClassifier(n_neighbors=k)\n",
    "    knn_model.fit(X_train, y_train)\n",
    "\n",
    "    y_pred_test=knn_model.predict(X_test)\n",
    "    test_error = 1-accuracy_score(y_test,y_pred_test)\n",
    "    test_error_rates.append(test_error)\n",
    "print(test_error_rates.index(min(test_error_rates)))"
   ]
  },
  {
   "cell_type": "code",
   "execution_count": 115,
   "id": "2d46c115",
   "metadata": {},
   "outputs": [
    {
     "name": "stdout",
     "output_type": "stream",
     "text": [
      "              precision    recall  f1-score   support\n",
      "\n",
      "           0       0.99      0.87      0.92      1320\n",
      "           1       0.88      0.99      0.93      1320\n",
      "\n",
      "    accuracy                           0.93      2640\n",
      "   macro avg       0.93      0.93      0.93      2640\n",
      "weighted avg       0.93      0.93      0.93      2640\n",
      "\n"
     ]
    }
   ],
   "source": [
    "print(classification_report(y_test,y_pred))"
   ]
  },
  {
   "cell_type": "code",
   "execution_count": 116,
   "id": "27a9e66c",
   "metadata": {},
   "outputs": [
    {
     "data": {
      "text/plain": [
       "Text(0.5, 0, 'K Neighbors')"
      ]
     },
     "execution_count": 116,
     "metadata": {},
     "output_type": "execute_result"
    },
    {
     "data": {
      "image/png": "[encoded data removed]",
      "text/plain": [
       "<Figure size 432x288 with 1 Axes>"
      ]
     },
     "metadata": {
      "needs_background": "light"
     },
     "output_type": "display_data"
    }
   ],
   "source": [
    "plt.plot(range(1,30), test_error_rates)\n",
    "plt.ylabel(\"Error Rate\")\n",
    "plt.xlabel(\"K Neighbors\")"
   ]
  },
  {
   "cell_type": "markdown",
   "id": "690f5b7d",
   "metadata": {},
   "source": [
    "# Random Forest Classifier"
   ]
  },
  {
   "cell_type": "code",
   "execution_count": 117,
   "id": "87ba38df",
   "metadata": {},
   "outputs": [
    {
     "data": {
      "text/plain": [
       "RandomForestClassifier(criterion='entropy', n_estimators=10, random_state=0)"
      ]
     },
     "execution_count": 117,
     "metadata": {},
     "output_type": "execute_result"
    }
   ],
   "source": [
    "from sklearn.ensemble import RandomForestClassifier\n",
    "classifier = RandomForestClassifier(n_estimators = 10, criterion = 'entropy', random_state = 0)\n",
    "classifier.fit(X_train, y_train)\n"
   ]
  },
  {
   "cell_type": "code",
   "execution_count": 118,
   "id": "5b01da29",
   "metadata": {},
   "outputs": [
    {
     "name": "stdout",
     "output_type": "stream",
     "text": [
      "[[1235   85]\n",
      " [  47 1273]]\n"
     ]
    }
   ],
   "source": [
    "y_pred = classifier.predict(X_test)\n",
    "from sklearn.metrics import confusion_matrix, accuracy_score\n",
    "cm = confusion_matrix(y_test, y_pred)\n",
    "print(cm)\n",
    "acc6 = accuracy_score(y_test, y_pred)\n"
   ]
  },
  {
   "cell_type": "code",
   "execution_count": 119,
   "id": "ff369d20",
   "metadata": {},
   "outputs": [
    {
     "name": "stdout",
     "output_type": "stream",
     "text": [
      "Random Forest Classification accuracy: 0.95\n"
     ]
    }
   ],
   "source": [
    "print(f\"Random Forest Classification accuracy: {acc6}\")"
   ]
  },
  {
   "cell_type": "code",
   "execution_count": 120,
   "id": "231c0be6",
   "metadata": {},
   "outputs": [
    {
     "name": "stdout",
     "output_type": "stream",
     "text": [
      "[[1235   85]\n",
      " [  47 1273]]\n"
     ]
    },
    {
     "data": {
      "image/png": "[encoded data removed]",
      "text/plain": [
       "<Figure size 432x288 with 2 Axes>"
      ]
     },
     "metadata": {
      "needs_background": "light"
     },
     "output_type": "display_data"
    }
   ],
   "source": [
    "c_matrix = confusion_matrix(y_test,y_pred)\n",
    "#print confusion matrix\n",
    "print(c_matrix)\n",
    "\n",
    "disp = ConfusionMatrixDisplay(confusion_matrix=c_matrix,display_labels=[\"Not bankrupt\", \"Is bankrupt\"])\n",
    "disp.plot()\n",
    "plt.show()\n"
   ]
  },
  {
   "cell_type": "code",
   "execution_count": 121,
   "id": "bb41e8ed",
   "metadata": {},
   "outputs": [
    {
     "name": "stdout",
     "output_type": "stream",
     "text": [
      "              precision    recall  f1-score   support\n",
      "\n",
      "           0       0.96      0.94      0.95      1320\n",
      "           1       0.94      0.96      0.95      1320\n",
      "\n",
      "    accuracy                           0.95      2640\n",
      "   macro avg       0.95      0.95      0.95      2640\n",
      "weighted avg       0.95      0.95      0.95      2640\n",
      "\n"
     ]
    }
   ],
   "source": [
    "print(classification_report(y_test,y_pred))"
   ]
  },
  {
   "cell_type": "code",
   "execution_count": 124,
   "id": "1c091246",
   "metadata": {},
   "outputs": [],
   "source": [
    "from sklearn import datasets\n",
    "digits = datasets.load_digits()\n",
    "from sklearn import svm\n",
    "from sklearn.ensemble import RandomForestClassifier\n",
    "from sklearn.linear_model import LogisticRegression\n",
    "from sklearn.naive_bayes import GaussianNB\n",
    "from sklearn.naive_bayes import MultinomialNB\n",
    "from sklearn.tree import DecisionTreeClassifier\n"
   ]
  },
  {
   "cell_type": "code",
   "execution_count": 139,
   "id": "42e909ba",
   "metadata": {},
   "outputs": [],
   "source": [
    "model_params = {\n",
    "    'knn': {\n",
    "        'model': KNeighborsClassifier(),\n",
    "        'params' : {\n",
    "            'n_neighbors': [1,3,5,7],\n",
    "            'p': [1,2,5]\n",
    "        }  \n",
    "    },\n",
    "    'random_forest': {\n",
    "        'model': RandomForestClassifier(),\n",
    "        'params' : {\n",
    "            'n_estimators': [1,5,7,10,44,50,60]\n",
    "        }\n",
    "    },\n",
    "    'logistic_regression' : {\n",
    "        'model': LogisticRegression(solver='liblinear',multi_class='auto'),\n",
    "        'params': {\n",
    "            'C': [1,5,9,10],\n",
    "            \n",
    "        }\n",
    "    }     \n",
    "}"
   ]
  },
  {
   "cell_type": "code",
   "execution_count": 140,
   "id": "1923a2d8",
   "metadata": {},
   "outputs": [
    {
     "data": {
      "text/html": [
       "<div>\n",
       "<style scoped>\n",
       "    .dataframe tbody tr th:only-of-type {\n",
       "        vertical-align: middle;\n",
       "    }\n",
       "\n",
       "    .dataframe tbody tr th {\n",
       "        vertical-align: top;\n",
       "    }\n",
       "\n",
       "    .dataframe thead th {\n",
       "        text-align: right;\n",
       "    }\n",
       "</style>\n",
       "<table border=\"1\" class=\"dataframe\">\n",
       "  <thead>\n",
       "    <tr style=\"text-align: right;\">\n",
       "      <th></th>\n",
       "      <th>model</th>\n",
       "      <th>best_score</th>\n",
       "      <th>best_params</th>\n",
       "    </tr>\n",
       "  </thead>\n",
       "  <tbody>\n",
       "    <tr>\n",
       "      <th>0</th>\n",
       "      <td>knn</td>\n",
       "      <td>0.966622</td>\n",
       "      <td>{'n_neighbors': 3, 'p': 2}</td>\n",
       "    </tr>\n",
       "    <tr>\n",
       "      <th>1</th>\n",
       "      <td>random_forest</td>\n",
       "      <td>0.942143</td>\n",
       "      <td>{'n_estimators': 60}</td>\n",
       "    </tr>\n",
       "    <tr>\n",
       "      <th>2</th>\n",
       "      <td>logistic_regression</td>\n",
       "      <td>0.922114</td>\n",
       "      <td>{'C': 1}</td>\n",
       "    </tr>\n",
       "  </tbody>\n",
       "</table>\n",
       "</div>"
      ],
      "text/plain": [
       "                 model  best_score                 best_params\n",
       "0                  knn    0.966622  {'n_neighbors': 3, 'p': 2}\n",
       "1        random_forest    0.942143        {'n_estimators': 60}\n",
       "2  logistic_regression    0.922114                    {'C': 1}"
      ]
     },
     "execution_count": 140,
     "metadata": {},
     "output_type": "execute_result"
    }
   ],
   "source": [
    "from sklearn.model_selection import GridSearchCV\n",
    "import pandas as pd\n",
    "scores = []\n",
    "\n",
    "for model_name, mp in model_params.items():\n",
    "    clf =  GridSearchCV(mp['model'], mp['params'], cv=5, return_train_score=False)\n",
    "    clf.fit(digits.data, digits.target)\n",
    "    scores.append({\n",
    "        'model': model_name,\n",
    "        'best_score': clf.best_score_,\n",
    "        'best_params': clf.best_params_\n",
    "    })\n",
    "    \n",
    "df = pd.DataFrame(scores,columns=['model','best_score','best_params'])\n",
    "df"
   ]
  },
  {
   "cell_type": "code",
   "execution_count": 133,
   "id": "7753c9d7",
   "metadata": {},
   "outputs": [
    {
     "data": {
      "text/plain": [
       "KNeighborsClassifier(n_neighbors=3)"
      ]
     },
     "execution_count": 133,
     "metadata": {},
     "output_type": "execute_result"
    }
   ],
   "source": [
    "from sklearn.neighbors import KNeighborsClassifier\n",
    "classifier = KNeighborsClassifier(n_neighbors = 3, metric = 'minkowski', p = 2)\n",
    "classifier.fit(X_train, y_train)\n"
   ]
  },
  {
   "cell_type": "code",
   "execution_count": 134,
   "id": "027f0eb0",
   "metadata": {},
   "outputs": [
    {
     "name": "stdout",
     "output_type": "stream",
     "text": [
      "[[1162  158]\n",
      " [  17 1303]]\n"
     ]
    },
    {
     "data": {
      "image/png": "[encoded data removed]",
      "text/plain": [
       "<Figure size 432x288 with 2 Axes>"
      ]
     },
     "metadata": {
      "needs_background": "light"
     },
     "output_type": "display_data"
    },
    {
     "name": "stdout",
     "output_type": "stream",
     "text": [
      "Best Accuracy of K-NN: 93.37 %\n"
     ]
    }
   ],
   "source": [
    "y_pred = classifier.predict(X_test)\n",
    "cm = confusion_matrix(y_test, y_pred)\n",
    "print(cm)\n",
    "sns.heatmap(cm,annot=True)\n",
    "plt.show()\n",
    "acc3 = accuracy_score(y_test, y_pred)\n",
    "print(\"Best Accuracy of K-NN: {:.2f} %\".format(acc3*100))"
   ]
  },
  {
   "cell_type": "code",
   "execution_count": 135,
   "id": "247b0938",
   "metadata": {},
   "outputs": [
    {
     "name": "stdout",
     "output_type": "stream",
     "text": [
      "0\n"
     ]
    }
   ],
   "source": [
    "test_error_rates = []\n",
    "for k in range(1,30):\n",
    "    knn_model = KNeighborsClassifier(n_neighbors=k)\n",
    "    knn_model.fit(X_train, y_train)\n",
    "\n",
    "    y_pred_test=knn_model.predict(X_test)\n",
    "    test_error = 1-accuracy_score(y_test,y_pred_test)\n",
    "    test_error_rates.append(test_error)\n",
    "print(test_error_rates.index(min(test_error_rates)))\n"
   ]
  },
  {
   "cell_type": "code",
   "execution_count": 136,
   "id": "7785af41",
   "metadata": {},
   "outputs": [
    {
     "name": "stdout",
     "output_type": "stream",
     "text": [
      "              precision    recall  f1-score   support\n",
      "\n",
      "           0       0.99      0.88      0.93      1320\n",
      "           1       0.89      0.99      0.94      1320\n",
      "\n",
      "    accuracy                           0.93      2640\n",
      "   macro avg       0.94      0.93      0.93      2640\n",
      "weighted avg       0.94      0.93      0.93      2640\n",
      "\n"
     ]
    }
   ],
   "source": [
    "print(classification_report(y_test,y_pred))"
   ]
  }
 ],
 "metadata": {
  "kernelspec": {
   "display_name": "Python 3 (ipykernel)",
   "language": "python",
   "name": "python3"
  },
  "language_info": {
   "codemirror_mode": {
    "name": "ipython",
    "version": 3
   },
   "file_extension": ".py",
   "mimetype": "text/x-python",
   "name": "python",
   "nbconvert_exporter": "python",
   "pygments_lexer": "ipython3",
   "version": "3.9.12"
  }
 },
 "nbformat": 4,
 "nbformat_minor": 5
}
