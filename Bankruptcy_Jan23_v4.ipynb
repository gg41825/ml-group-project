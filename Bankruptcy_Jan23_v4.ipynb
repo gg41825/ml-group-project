{
 "cells": [
  {
   "cell_type": "code",
   "execution_count": 2,
   "id": "c2b42a09-a412-4f57-a635-9e9334342006",
   "metadata": {},
   "outputs": [],
   "source": [
    "import pandas as pd\n",
    "import numpy as np\n",
    "import matplotlib.pyplot as plt\n",
    "from sklearn.model_selection import train_test_split\n",
    "# models\n",
    "from sklearn.linear_model import LogisticRegression\n",
    "from sklearn.svm import SVC\n",
    "from sklearn.neighbors import KNeighborsClassifier\n",
    "from sklearn.ensemble import RandomForestClassifier,GradientBoostingRegressor, RandomForestRegressor, AdaBoostClassifier\n",
    "from sklearn.tree import DecisionTreeClassifier\n",
    "# model evaluation\n",
    "from sklearn.metrics import roc_auc_score, confusion_matrix, ConfusionMatrixDisplay, accuracy_score, roc_curve, auc, f1_score\n",
    "# dataset visulization\n",
    "import seaborn as sns\n",
    "from sklearn.manifold import TSNE\n",
    "from sklearn.decomposition import PCA\n",
    "# data resampling\n",
    "from imblearn.under_sampling import RandomUnderSampler\n",
    "from imblearn.over_sampling import RandomOverSampler, SMOTE, ADASYN\n",
    "# feature selection\n",
    "from sklearn.feature_selection import VarianceThreshold, RFE, mutual_info_classif, SelectKBest\n",
    "from sklearn.linear_model import LassoCV, Lasso\n",
    "from sklearn.preprocessing import StandardScaler\n",
    "# model selection\n",
    "from sklearn.model_selection import StratifiedKFold\n",
    "from imblearn.ensemble import BalancedRandomForestClassifier "
   ]
  },
  {
   "cell_type": "markdown",
   "id": "ad167a63-d3c2-4a7b-8a9d-4cd9611acf23",
   "metadata": {
    "tags": []
   },
   "source": [
    "# Data Loading and process\n",
    "- load data and check pupulation size\n",
    "- split data to train and test data\n",
    "- visualize high-dimensional datase by t-SNE and PCA"
   ]
  },
  {
   "cell_type": "markdown",
   "id": "dd627fc2-1ce3-4266-8805-7781cfcae2c9",
   "metadata": {},
   "source": [
    "### load data and check pupulation size\n",
    "- df: original data\n",
    "- df_rename: 'Bankrupt?' : 'target', features: Attr1~Attr95"
   ]
  },
  {
   "cell_type": "code",
   "execution_count": 47,
   "id": "1e6dd375-b735-47f6-a3a4-a50d1c732829",
   "metadata": {},
   "outputs": [
    {
     "name": "stdout",
     "output_type": "stream",
     "text": [
      "data shape: (6819, 96)\n",
      "\n",
      "data incidence 0    0.967737\n",
      "1    0.032263\n",
      "Name: target, dtype: float64\n"
     ]
    }
   ],
   "source": [
    "# Read in dataset\n",
    "df = pd.read_csv('data.csv')\n",
    "df_rename = df.copy()\n",
    "population_size = len(df)\n",
    "# Rename columns\n",
    "df.rename(columns={'Bankrupt?' : 'target'},inplace=True)\n",
    "index = 0\n",
    "for col in df_rename.columns:\n",
    "    if col == 'Bankrupt?':\n",
    "        df_rename.rename(columns={col : 'target'},inplace=True)\n",
    "    else:\n",
    "        df_rename.rename(columns={col : 'Attr'+str(index)},inplace=True)\n",
    "    index += 1    \n",
    "\n",
    "# Checking data population\n",
    "print(\"data shape:\",df_rename.shape)\n",
    "# Checking target incidence\n",
    "print(\"\\ndata incidence\",df_rename.target.value_counts(normalize=True))\n",
    "\n",
    "#basetable.columns"
   ]
  },
  {
   "cell_type": "markdown",
   "id": "d3c0189b-5fb2-4a01-b011-fa389ffea2c3",
   "metadata": {},
   "source": [
    "$\\implies$ 3% of target '1': imbalanced data</br>\n",
    "$\\implies$ 96 features: high-dimensional dataset\n"
   ]
  },
  {
   "cell_type": "markdown",
   "id": "7ac2fa5c-54a8-4778-b6de-c08176ca1e77",
   "metadata": {},
   "source": [
    "### split data to train and test data\n",
    "- X: all features data\n",
    "- y: target data\n",
    "- X_train, X_test, y_train, y_teat splited by 'train_test_split' with test-size 0.3"
   ]
  },
  {
   "cell_type": "code",
   "execution_count": 48,
   "id": "38ab873c-d31f-4701-96fe-b3dff9483ed1",
   "metadata": {},
   "outputs": [],
   "source": [
    "# Assign Data to X and y\n",
    "X = df_rename.drop(columns='target')\n",
    "y = df_rename.target"
   ]
  },
  {
   "cell_type": "markdown",
   "id": "5250fc8c-de1f-46b8-a86a-2b30348501f7",
   "metadata": {},
   "source": [
    "### visualize the variance of high-dimensional datase"
   ]
  },
  {
   "cell_type": "markdown",
   "id": "4a0fb51d-b587-40ad-bc8a-ba5c8d35f1cb",
   "metadata": {},
   "source": [
    "## Resample Imbalanced data\n",
    "- Using imblearn library </br>\n",
    "  1. Undersampling with RandomForest: </br>This technique eliminates or deletes the data points of the majority class to make an equal ratio of major and minor classes.There is a various method for undersampling like Tomek’s links, EditedNearestNeighbours, CondensedNearestNeighbour, InstanceHardnessThreshold, etc.\n",
    "  2. Oversampling: </br>This technique redistributes randomly the minority class data points to increase the ratio in the dataset.It duplicates the existing data points of minority class and equalizes the ratio of majority and minority class.\n",
    "  3. SMOTE (Synthetic Minority Oversampling Technique):</br>SMOTE selects the data points of the minority class in feature space to draw a line between those points and generate new points along with the line. Thus this technique synthesizes new data points for minority class and oversample that class.</br>This is the most effective method for oversampling."
   ]
  },
  {
   "cell_type": "markdown",
   "id": "e420af51-0750-41c9-b91f-3d5f2609c6c1",
   "metadata": {},
   "source": [
    "# to-do Divya : piechat of imbalance data "
   ]
  },
  {
   "cell_type": "markdown",
   "id": "d95c2e24-2ad1-4c1b-a7e9-404c140110ba",
   "metadata": {},
   "source": [
    "# to-do Ginny: Undersampling with RandomForest"
   ]
  },
  {
   "cell_type": "code",
   "execution_count": 76,
   "id": "83e94e51-9cda-456f-b32e-6a12ce56a518",
   "metadata": {},
   "outputs": [
    {
     "name": "stdout",
     "output_type": "stream",
     "text": [
      "X_underSampling's shape: (440, 95) y_underSampling's shape: (440,)\n",
      "y_underSampling:\n",
      " 0    0.5\n",
      "1    0.5\n",
      "Name: target, dtype: float64\n"
     ]
    }
   ],
   "source": [
    "# Undersampling\n",
    "rus = RandomUnderSampler(random_state=0)\n",
    "X_underSampling, y_underSampling = rus.fit_resample(X, y)\n",
    "print(\"X_underSampling's shape:\", X_underSampling.shape,\"y_underSampling's shape:\", y_underSampling.shape)\n",
    "print(\"y_underSampling:\\n\",y_underSampling.value_counts(normalize=True))"
   ]
  },
  {
   "cell_type": "markdown",
   "id": "18254ce2-890d-42a3-ba80-068631166f2b",
   "metadata": {},
   "source": [
    "### Oversampling"
   ]
  },
  {
   "cell_type": "code",
   "execution_count": 77,
   "id": "178cdbe8-9bd8-4812-8898-6cfeadfdc356",
   "metadata": {},
   "outputs": [
    {
     "name": "stdout",
     "output_type": "stream",
     "text": [
      "X_overSampling's shape: (13198, 95) y_overSampling's shape: (13198,)\n",
      "y_overSampling:\n",
      " 1    0.5\n",
      "0    0.5\n",
      "Name: target, dtype: float64\n"
     ]
    }
   ],
   "source": [
    "# Oversampling\n",
    "ros = RandomOverSampler(random_state=0)\n",
    "X_overSampling, y_overSampling = ros.fit_resample(X, y)\n",
    "print(\"X_overSampling's shape:\", X_overSampling.shape,\"y_overSampling's shape:\", y_overSampling.shape)\n",
    "print(\"y_overSampling:\\n\",y_overSampling.value_counts(normalize=True))"
   ]
  },
  {
   "cell_type": "markdown",
   "id": "e6bb926e-fa3d-4aa9-b9ff-5db34c11f4fe",
   "metadata": {},
   "source": [
    "### SMOTE"
   ]
  },
  {
   "cell_type": "code",
   "execution_count": 79,
   "id": "174d322b-4353-42dc-ae5d-b6bd8393586a",
   "metadata": {},
   "outputs": [
    {
     "name": "stdout",
     "output_type": "stream",
     "text": [
      "X_SMOTE's shape: (13198, 95) y_SMOTE's shape: (13198,)\n",
      "y_SMOTE:\n",
      " 1    0.5\n",
      "0    0.5\n",
      "Name: target, dtype: float64\n"
     ]
    }
   ],
   "source": [
    "# SMOTE\n",
    "sm = SMOTE(random_state=0)\n",
    "X_SMOTE, y_SMOTE = sm.fit_resample(X, y)\n",
    "print(\"X_SMOTE's shape:\", X_SMOTE.shape,\"y_SMOTE's shape:\", y_SMOTE.shape)\n",
    "print(\"y_SMOTE:\\n\",y_SMOTE.value_counts(normalize=True))"
   ]
  },
  {
   "cell_type": "code",
   "execution_count": 80,
   "id": "1e8f729a-6f16-4720-806a-517f87152f34",
   "metadata": {},
   "outputs": [],
   "source": [
    "def testModels(models, models_name, X, y, data_name, f1Score, acurrency):\n",
    "    f1Score.loc[data_name] = np.zeros(len(models))\n",
    "    acurrency.loc[data_name] = np.zeros(len(models))\n",
    "    X_train, X_test, y_train, y_test = train_test_split(\n",
    "        X,\n",
    "        y,\n",
    "        test_size=0.3,\n",
    "        random_state=42,\n",
    "        stratify=y\n",
    "        )\n",
    "    for md_name, md in zip(models_name,models):\n",
    "        md.fit(X_train,y_train)\n",
    "        y_pre=md.predict(X_test)\n",
    "        f1Score[md_name][data_name] = f1_score(y_test, y_pre, average='macro')\n",
    "        acurrency[md_name][data_name] = accuracy_score(y_test, md.predict(X_test))\n",
    "        "
   ]
  },
  {
   "cell_type": "code",
   "execution_count": 81,
   "id": "c91e1def-ee00-48e4-bd43-95739c0b57c9",
   "metadata": {},
   "outputs": [],
   "source": [
    "# Find the best resampled dataset\n",
    "models = [RandomForestClassifier(), LogisticRegression(), KNeighborsClassifier()]\n",
    "models_name = ['RandomForestClassifier','LogisticRegression', 'KNeighborsClassifier']\n",
    "data_name = ['Original','underSampling','overSampling','SMOTE']\n",
    "models_f1Score = pd.DataFrame(columns=models_name, index=data_name)\n",
    "models_acurrency = pd.DataFrame(columns=models_name, index=data_name)"
   ]
  },
  {
   "cell_type": "code",
   "execution_count": 82,
   "id": "fafc828e-cc42-4fe2-98df-c29d3c1c8879",
   "metadata": {},
   "outputs": [
    {
     "name": "stderr",
     "output_type": "stream",
     "text": [
      "/Users/zoeychiu/.local/lib/python3.9/site-packages/sklearn/linear_model/_logistic.py:458: ConvergenceWarning: lbfgs failed to converge (status=1):\n",
      "STOP: TOTAL NO. of ITERATIONS REACHED LIMIT.\n",
      "\n",
      "Increase the number of iterations (max_iter) or scale the data as shown in:\n",
      "    https://scikit-learn.org/stable/modules/preprocessing.html\n",
      "Please also refer to the documentation for alternative solver options:\n",
      "    https://scikit-learn.org/stable/modules/linear_model.html#logistic-regression\n",
      "  n_iter_i = _check_optimize_result(\n",
      "/Users/zoeychiu/.local/lib/python3.9/site-packages/sklearn/linear_model/_logistic.py:458: ConvergenceWarning: lbfgs failed to converge (status=1):\n",
      "STOP: TOTAL NO. of ITERATIONS REACHED LIMIT.\n",
      "\n",
      "Increase the number of iterations (max_iter) or scale the data as shown in:\n",
      "    https://scikit-learn.org/stable/modules/preprocessing.html\n",
      "Please also refer to the documentation for alternative solver options:\n",
      "    https://scikit-learn.org/stable/modules/linear_model.html#logistic-regression\n",
      "  n_iter_i = _check_optimize_result(\n",
      "/Users/zoeychiu/.local/lib/python3.9/site-packages/sklearn/linear_model/_logistic.py:458: ConvergenceWarning: lbfgs failed to converge (status=1):\n",
      "STOP: TOTAL NO. of ITERATIONS REACHED LIMIT.\n",
      "\n",
      "Increase the number of iterations (max_iter) or scale the data as shown in:\n",
      "    https://scikit-learn.org/stable/modules/preprocessing.html\n",
      "Please also refer to the documentation for alternative solver options:\n",
      "    https://scikit-learn.org/stable/modules/linear_model.html#logistic-regression\n",
      "  n_iter_i = _check_optimize_result(\n",
      "/Users/zoeychiu/.local/lib/python3.9/site-packages/sklearn/linear_model/_logistic.py:458: ConvergenceWarning: lbfgs failed to converge (status=1):\n",
      "STOP: TOTAL NO. of ITERATIONS REACHED LIMIT.\n",
      "\n",
      "Increase the number of iterations (max_iter) or scale the data as shown in:\n",
      "    https://scikit-learn.org/stable/modules/preprocessing.html\n",
      "Please also refer to the documentation for alternative solver options:\n",
      "    https://scikit-learn.org/stable/modules/linear_model.html#logistic-regression\n",
      "  n_iter_i = _check_optimize_result(\n"
     ]
    }
   ],
   "source": [
    "testModels(models, models_name, X, y, 'Original', models_f1Score, models_acurrency)\n",
    "testModels(models, models_name, X_underSampling, y_underSampling, 'underSampling', models_f1Score, models_acurrency)\n",
    "testModels(models, models_name, X_overSampling, y_overSampling, 'overSampling', models_f1Score, models_acurrency)\n",
    "testModels(models, models_name, X_SMOTE, y_SMOTE, 'SMOTE', models_f1Score, models_acurrency)\n",
    "testModels(models, models_name, X_ADASYN, y_ADASYN, 'ADASYN', models_f1Score, models_acurrency)"
   ]
  },
  {
   "cell_type": "code",
   "execution_count": 83,
   "id": "bb9d5f6f-4bdf-46ab-9bb9-6bb0bb49d081",
   "metadata": {},
   "outputs": [
    {
     "data": {
      "text/html": [
       "<div>\n",
       "<style scoped>\n",
       "    .dataframe tbody tr th:only-of-type {\n",
       "        vertical-align: middle;\n",
       "    }\n",
       "\n",
       "    .dataframe tbody tr th {\n",
       "        vertical-align: top;\n",
       "    }\n",
       "\n",
       "    .dataframe thead th {\n",
       "        text-align: right;\n",
       "    }\n",
       "</style>\n",
       "<table border=\"1\" class=\"dataframe\">\n",
       "  <thead>\n",
       "    <tr style=\"text-align: right;\">\n",
       "      <th></th>\n",
       "      <th>RandomForestClassifier</th>\n",
       "      <th>LogisticRegression</th>\n",
       "      <th>KNeighborsClassifier</th>\n",
       "    </tr>\n",
       "  </thead>\n",
       "  <tbody>\n",
       "    <tr>\n",
       "      <th>Original</th>\n",
       "      <td>0.630272</td>\n",
       "      <td>0.489011</td>\n",
       "      <td>0.491424</td>\n",
       "    </tr>\n",
       "    <tr>\n",
       "      <th>underSampling</th>\n",
       "      <td>0.83318</td>\n",
       "      <td>0.556969</td>\n",
       "      <td>0.58042</td>\n",
       "    </tr>\n",
       "    <tr>\n",
       "      <th>overSampling</th>\n",
       "      <td>0.994697</td>\n",
       "      <td>0.598001</td>\n",
       "      <td>0.950892</td>\n",
       "    </tr>\n",
       "    <tr>\n",
       "      <th>SMOTE</th>\n",
       "      <td>0.978277</td>\n",
       "      <td>0.607211</td>\n",
       "      <td>0.915221</td>\n",
       "    </tr>\n",
       "    <tr>\n",
       "      <th>ADASYN</th>\n",
       "      <td>0.979423</td>\n",
       "      <td>0.590111</td>\n",
       "      <td>0.909183</td>\n",
       "    </tr>\n",
       "  </tbody>\n",
       "</table>\n",
       "</div>"
      ],
      "text/plain": [
       "              RandomForestClassifier LogisticRegression KNeighborsClassifier\n",
       "Original                    0.630272           0.489011             0.491424\n",
       "underSampling                0.83318           0.556969              0.58042\n",
       "overSampling                0.994697           0.598001             0.950892\n",
       "SMOTE                       0.978277           0.607211             0.915221\n",
       "ADASYN                      0.979423           0.590111             0.909183"
      ]
     },
     "execution_count": 83,
     "metadata": {},
     "output_type": "execute_result"
    }
   ],
   "source": [
    "models_f1Score"
   ]
  },
  {
   "cell_type": "code",
   "execution_count": 84,
   "id": "373b2b62-4a5a-417b-a315-3a1cc7f93b5e",
   "metadata": {},
   "outputs": [
    {
     "data": {
      "text/html": [
       "<div>\n",
       "<style scoped>\n",
       "    .dataframe tbody tr th:only-of-type {\n",
       "        vertical-align: middle;\n",
       "    }\n",
       "\n",
       "    .dataframe tbody tr th {\n",
       "        vertical-align: top;\n",
       "    }\n",
       "\n",
       "    .dataframe thead th {\n",
       "        text-align: right;\n",
       "    }\n",
       "</style>\n",
       "<table border=\"1\" class=\"dataframe\">\n",
       "  <thead>\n",
       "    <tr style=\"text-align: right;\">\n",
       "      <th></th>\n",
       "      <th>RandomForestClassifier</th>\n",
       "      <th>LogisticRegression</th>\n",
       "      <th>KNeighborsClassifier</th>\n",
       "    </tr>\n",
       "  </thead>\n",
       "  <tbody>\n",
       "    <tr>\n",
       "      <th>Original</th>\n",
       "      <td>0.971652</td>\n",
       "      <td>0.956989</td>\n",
       "      <td>0.966276</td>\n",
       "    </tr>\n",
       "    <tr>\n",
       "      <th>underSampling</th>\n",
       "      <td>0.833333</td>\n",
       "      <td>0.568182</td>\n",
       "      <td>0.583333</td>\n",
       "    </tr>\n",
       "    <tr>\n",
       "      <th>overSampling</th>\n",
       "      <td>0.994697</td>\n",
       "      <td>0.606566</td>\n",
       "      <td>0.95101</td>\n",
       "    </tr>\n",
       "    <tr>\n",
       "      <th>SMOTE</th>\n",
       "      <td>0.978283</td>\n",
       "      <td>0.614141</td>\n",
       "      <td>0.915657</td>\n",
       "    </tr>\n",
       "    <tr>\n",
       "      <th>ADASYN</th>\n",
       "      <td>0.979426</td>\n",
       "      <td>0.599441</td>\n",
       "      <td>0.909576</td>\n",
       "    </tr>\n",
       "  </tbody>\n",
       "</table>\n",
       "</div>"
      ],
      "text/plain": [
       "              RandomForestClassifier LogisticRegression KNeighborsClassifier\n",
       "Original                    0.971652           0.956989             0.966276\n",
       "underSampling               0.833333           0.568182             0.583333\n",
       "overSampling                0.994697           0.606566              0.95101\n",
       "SMOTE                       0.978283           0.614141             0.915657\n",
       "ADASYN                      0.979426           0.599441             0.909576"
      ]
     },
     "execution_count": 84,
     "metadata": {},
     "output_type": "execute_result"
    }
   ],
   "source": [
    "models_acurrency"
   ]
  },
  {
   "cell_type": "markdown",
   "id": "ca529439-88c6-46d9-8d06-6c516fcd1b92",
   "metadata": {},
   "source": [
    "# to-do Diyva: give an explanation why not choosing Oversampling but SMOTE better"
   ]
  },
  {
   "cell_type": "code",
   "execution_count": 54,
   "id": "0c50a14c-1914-44ed-97bf-9c14e067978e",
   "metadata": {},
   "outputs": [],
   "source": [
    "X_resample = X_overSampling.copy()\n",
    "y_resample = y_overSampling.copy()"
   ]
  },
  {
   "cell_type": "markdown",
   "id": "37322da4-70d6-435e-a8f4-b1f309eabccd",
   "metadata": {},
   "source": [
    "# Feature Selectioon\n",
    "- Removing highly correlated features -> change to Diyva's way\n",
    "- Removing highly  VIF-scored features -> add from Diyva\n",
    "- Selecting for Model Accuracy\n",
    "- Selecting by Mutual Information"
   ]
  },
  {
   "cell_type": "markdown",
   "id": "aad9fbf5-52f1-4f6a-84e9-3a57a3af6498",
   "metadata": {},
   "source": [
    "# to-do Yunhan: Removing highly hightly VIF-scored features -> add from Diyva"
   ]
  },
  {
   "cell_type": "markdown",
   "id": "e2eb6026-cdaa-4fbc-9373-9a6e2e841e30",
   "metadata": {},
   "source": [
    "### Removing highly correlated features"
   ]
  },
  {
   "cell_type": "code",
   "execution_count": 60,
   "id": "f86e3891-8df6-4be1-91d8-b3167bf0f8fc",
   "metadata": {},
   "outputs": [
    {
     "data": {
      "image/png": "[encoded data removed]",
      "text/plain": [
       "<Figure size 640x480 with 2 Axes>"
      ]
     },
     "metadata": {},
     "output_type": "display_data"
    }
   ],
   "source": [
    "# The correlation matrix\n",
    "# Create the correlation matrix\n",
    "corr = X_resample.corr()\n",
    "# Draw a heatmap of the correlation matrix\n",
    "cmap = sns.diverging_palette(h_neg=10,h_pos=240,as_cmap=True)\n",
    "# Generate a mask for the upper triangle \n",
    "mask = np.triu(np.ones_like(corr, dtype=bool))\n",
    "# Add the mask to the heatmap\n",
    "sns.heatmap(corr, mask=mask, cmap=cmap, center=0, linewidths=1, annot=True, fmt=\".2f\")\n",
    "plt.show()"
   ]
  },
  {
   "cell_type": "code",
   "execution_count": 85,
   "id": "b941473f-bc0d-44b6-af82-1fa1d96c78a1",
   "metadata": {},
   "outputs": [
    {
     "name": "stdout",
     "output_type": "stream",
     "text": [
      "drop columns of highly correlated features (r > 0.95) ['Attr1', 'Attr2', 'Attr3', 'Attr4', 'Attr5', 'Attr6', 'Attr7', 'Attr8', 'Attr9', 'Attr10', 'Attr11', 'Attr12', 'Attr13', 'Attr14', 'Attr15', 'Attr16', 'Attr17', 'Attr18', 'Attr19', 'Attr20', 'Attr21', 'Attr22', 'Attr23', 'Attr25', 'Attr26', 'Attr27', 'Attr29', 'Attr30', 'Attr31', 'Attr32', 'Attr33', 'Attr35', 'Attr36', 'Attr37', 'Attr38', 'Attr39', 'Attr40', 'Attr41', 'Attr42', 'Attr43', 'Attr44', 'Attr45', 'Attr46', 'Attr47', 'Attr48', 'Attr49', 'Attr50', 'Attr51', 'Attr52', 'Attr53', 'Attr54', 'Attr55', 'Attr56', 'Attr57', 'Attr58', 'Attr60', 'Attr61', 'Attr63', 'Attr64', 'Attr65', 'Attr66', 'Attr68', 'Attr70', 'Attr71', 'Attr72', 'Attr73', 'Attr75', 'Attr77', 'Attr78', 'Attr79', 'Attr80', 'Attr81', 'Attr82', 'Attr83', 'Attr84', 'Attr85', 'Attr86', 'Attr89', 'Attr90']\n",
      "\n",
      "The reduced_df DataFrame has 16 columns.\n"
     ]
    }
   ],
   "source": [
    "# Calculate the correlation matrix and take the absolute value\n",
    "corr_df = X_resample.corr().abs()\n",
    "# Create a True/False mask and apply it\n",
    "mask = np.triu(np.ones_like(corr_df, dtype=bool))\n",
    "tri_df = corr_df.mask(mask)\n",
    "# List column names of highly correlated features (r > 0.95)\n",
    "to_drop = [c for c in tri_df.columns if any(tri_df[c] >  0.11)]\n",
    "# Drop the features in the to_drop list\n",
    "data_removeHighCorr = X_resample.drop(to_drop, axis=1)\n",
    "\n",
    "print(\"drop columns of highly correlated features (r > 0.95)\",to_drop)\n",
    "print(f\"\\nThe reduced_df DataFrame has {data_removeHighCorr.shape[1]} columns.\")\n"
   ]
  },
  {
   "cell_type": "code",
   "execution_count": 62,
   "id": "bf14a4ea-a637-4277-839c-b897cea2f649",
   "metadata": {},
   "outputs": [
    {
     "name": "stderr",
     "output_type": "stream",
     "text": [
      "/Users/zoeychiu/.local/lib/python3.9/site-packages/sklearn/linear_model/_logistic.py:458: ConvergenceWarning: lbfgs failed to converge (status=1):\n",
      "STOP: TOTAL NO. of ITERATIONS REACHED LIMIT.\n",
      "\n",
      "Increase the number of iterations (max_iter) or scale the data as shown in:\n",
      "    https://scikit-learn.org/stable/modules/preprocessing.html\n",
      "Please also refer to the documentation for alternative solver options:\n",
      "    https://scikit-learn.org/stable/modules/linear_model.html#logistic-regression\n",
      "  n_iter_i = _check_optimize_result(\n"
     ]
    },
    {
     "data": {
      "text/html": [
       "<div>\n",
       "<style scoped>\n",
       "    .dataframe tbody tr th:only-of-type {\n",
       "        vertical-align: middle;\n",
       "    }\n",
       "\n",
       "    .dataframe tbody tr th {\n",
       "        vertical-align: top;\n",
       "    }\n",
       "\n",
       "    .dataframe thead th {\n",
       "        text-align: right;\n",
       "    }\n",
       "</style>\n",
       "<table border=\"1\" class=\"dataframe\">\n",
       "  <thead>\n",
       "    <tr style=\"text-align: right;\">\n",
       "      <th></th>\n",
       "      <th>RandomForestClassifier</th>\n",
       "      <th>LogisticRegression</th>\n",
       "      <th>AdaBoostClassifier</th>\n",
       "      <th>DecisionTreeClassifier</th>\n",
       "      <th>KNeighborsClassifier</th>\n",
       "    </tr>\n",
       "  </thead>\n",
       "  <tbody>\n",
       "    <tr>\n",
       "      <th>Original</th>\n",
       "      <td>0.604773</td>\n",
       "      <td>0.489011</td>\n",
       "      <td>0.653226</td>\n",
       "      <td>0.637085</td>\n",
       "      <td>0.491424</td>\n",
       "    </tr>\n",
       "    <tr>\n",
       "      <th>underSampling</th>\n",
       "      <td>0.840827</td>\n",
       "      <td>0.556969</td>\n",
       "      <td>0.833295</td>\n",
       "      <td>0.75752</td>\n",
       "      <td>0.58042</td>\n",
       "    </tr>\n",
       "    <tr>\n",
       "      <th>overSampling</th>\n",
       "      <td>0.994697</td>\n",
       "      <td>0.598001</td>\n",
       "      <td>0.948195</td>\n",
       "      <td>0.986614</td>\n",
       "      <td>0.950892</td>\n",
       "    </tr>\n",
       "    <tr>\n",
       "      <th>SMOTE</th>\n",
       "      <td>0.979288</td>\n",
       "      <td>0.607211</td>\n",
       "      <td>0.940151</td>\n",
       "      <td>0.950757</td>\n",
       "      <td>0.915221</td>\n",
       "    </tr>\n",
       "    <tr>\n",
       "      <th>ADASYN</th>\n",
       "      <td>0.977899</td>\n",
       "      <td>0.590111</td>\n",
       "      <td>0.941834</td>\n",
       "      <td>0.948945</td>\n",
       "      <td>0.909183</td>\n",
       "    </tr>\n",
       "    <tr>\n",
       "      <th>removeZeroVairance</th>\n",
       "      <td>0.994192</td>\n",
       "      <td>0.878272</td>\n",
       "      <td>0.934798</td>\n",
       "      <td>0.98535</td>\n",
       "      <td>0.958007</td>\n",
       "    </tr>\n",
       "    <tr>\n",
       "      <th>removeHighCorr</th>\n",
       "      <td>0.995454</td>\n",
       "      <td>0.598001</td>\n",
       "      <td>0.93684</td>\n",
       "      <td>0.987372</td>\n",
       "      <td>0.950892</td>\n",
       "    </tr>\n",
       "  </tbody>\n",
       "</table>\n",
       "</div>"
      ],
      "text/plain": [
       "                   RandomForestClassifier LogisticRegression  \\\n",
       "Original                         0.604773           0.489011   \n",
       "underSampling                    0.840827           0.556969   \n",
       "overSampling                     0.994697           0.598001   \n",
       "SMOTE                            0.979288           0.607211   \n",
       "ADASYN                           0.977899           0.590111   \n",
       "removeZeroVairance               0.994192           0.878272   \n",
       "removeHighCorr                   0.995454           0.598001   \n",
       "\n",
       "                   AdaBoostClassifier DecisionTreeClassifier  \\\n",
       "Original                     0.653226               0.637085   \n",
       "underSampling                0.833295                0.75752   \n",
       "overSampling                 0.948195               0.986614   \n",
       "SMOTE                        0.940151               0.950757   \n",
       "ADASYN                       0.941834               0.948945   \n",
       "removeZeroVairance           0.934798                0.98535   \n",
       "removeHighCorr                0.93684               0.987372   \n",
       "\n",
       "                   KNeighborsClassifier  \n",
       "Original                       0.491424  \n",
       "underSampling                   0.58042  \n",
       "overSampling                   0.950892  \n",
       "SMOTE                          0.915221  \n",
       "ADASYN                         0.909183  \n",
       "removeZeroVairance             0.958007  \n",
       "removeHighCorr                 0.950892  "
      ]
     },
     "execution_count": 62,
     "metadata": {},
     "output_type": "execute_result"
    }
   ],
   "source": [
    "testModels(models , models_name, data_removeHighCorr, y_resample,'removeHighCorr',models_f1Score, models_acurrency)\n",
    "models_f1Score"
   ]
  },
  {
   "cell_type": "markdown",
   "id": "6fccf618-2b08-49dd-99c2-94e440af6835",
   "metadata": {},
   "source": [
    "### Selecting for Model Accuracy\n",
    "- StandardScaler\n",
    "- LassoCV\n",
    "- GradientBoostingRegressor\n",
    "- RandomForestRegressor"
   ]
  },
  {
   "cell_type": "code",
   "execution_count": 63,
   "id": "fd51213f-2fe9-40d6-bda2-f01b3e848be2",
   "metadata": {},
   "outputs": [
    {
     "name": "stderr",
     "output_type": "stream",
     "text": [
      "/Users/zoeychiu/.local/lib/python3.9/site-packages/sklearn/linear_model/_logistic.py:458: ConvergenceWarning: lbfgs failed to converge (status=1):\n",
      "STOP: TOTAL NO. of ITERATIONS REACHED LIMIT.\n",
      "\n",
      "Increase the number of iterations (max_iter) or scale the data as shown in:\n",
      "    https://scikit-learn.org/stable/modules/preprocessing.html\n",
      "Please also refer to the documentation for alternative solver options:\n",
      "    https://scikit-learn.org/stable/modules/linear_model.html#logistic-regression\n",
      "  n_iter_i = _check_optimize_result(\n"
     ]
    },
    {
     "data": {
      "text/html": [
       "<div>\n",
       "<style scoped>\n",
       "    .dataframe tbody tr th:only-of-type {\n",
       "        vertical-align: middle;\n",
       "    }\n",
       "\n",
       "    .dataframe tbody tr th {\n",
       "        vertical-align: top;\n",
       "    }\n",
       "\n",
       "    .dataframe thead th {\n",
       "        text-align: right;\n",
       "    }\n",
       "</style>\n",
       "<table border=\"1\" class=\"dataframe\">\n",
       "  <thead>\n",
       "    <tr style=\"text-align: right;\">\n",
       "      <th></th>\n",
       "      <th>RandomForestClassifier</th>\n",
       "      <th>LogisticRegression</th>\n",
       "      <th>AdaBoostClassifier</th>\n",
       "      <th>DecisionTreeClassifier</th>\n",
       "      <th>KNeighborsClassifier</th>\n",
       "    </tr>\n",
       "  </thead>\n",
       "  <tbody>\n",
       "    <tr>\n",
       "      <th>Original</th>\n",
       "      <td>0.604773</td>\n",
       "      <td>0.489011</td>\n",
       "      <td>0.653226</td>\n",
       "      <td>0.637085</td>\n",
       "      <td>0.491424</td>\n",
       "    </tr>\n",
       "    <tr>\n",
       "      <th>underSampling</th>\n",
       "      <td>0.840827</td>\n",
       "      <td>0.556969</td>\n",
       "      <td>0.833295</td>\n",
       "      <td>0.75752</td>\n",
       "      <td>0.58042</td>\n",
       "    </tr>\n",
       "    <tr>\n",
       "      <th>overSampling</th>\n",
       "      <td>0.994697</td>\n",
       "      <td>0.598001</td>\n",
       "      <td>0.948195</td>\n",
       "      <td>0.986614</td>\n",
       "      <td>0.950892</td>\n",
       "    </tr>\n",
       "    <tr>\n",
       "      <th>SMOTE</th>\n",
       "      <td>0.979288</td>\n",
       "      <td>0.607211</td>\n",
       "      <td>0.940151</td>\n",
       "      <td>0.950757</td>\n",
       "      <td>0.915221</td>\n",
       "    </tr>\n",
       "    <tr>\n",
       "      <th>ADASYN</th>\n",
       "      <td>0.977899</td>\n",
       "      <td>0.590111</td>\n",
       "      <td>0.941834</td>\n",
       "      <td>0.948945</td>\n",
       "      <td>0.909183</td>\n",
       "    </tr>\n",
       "    <tr>\n",
       "      <th>removeZeroVairance</th>\n",
       "      <td>0.994192</td>\n",
       "      <td>0.878272</td>\n",
       "      <td>0.934798</td>\n",
       "      <td>0.98535</td>\n",
       "      <td>0.958007</td>\n",
       "    </tr>\n",
       "    <tr>\n",
       "      <th>removeHighCorr</th>\n",
       "      <td>0.995454</td>\n",
       "      <td>0.598001</td>\n",
       "      <td>0.93684</td>\n",
       "      <td>0.987372</td>\n",
       "      <td>0.950892</td>\n",
       "    </tr>\n",
       "    <tr>\n",
       "      <th>StandardScaler</th>\n",
       "      <td>0.995202</td>\n",
       "      <td>0.598001</td>\n",
       "      <td>0.93684</td>\n",
       "      <td>0.987372</td>\n",
       "      <td>0.950892</td>\n",
       "    </tr>\n",
       "  </tbody>\n",
       "</table>\n",
       "</div>"
      ],
      "text/plain": [
       "                   RandomForestClassifier LogisticRegression  \\\n",
       "Original                         0.604773           0.489011   \n",
       "underSampling                    0.840827           0.556969   \n",
       "overSampling                     0.994697           0.598001   \n",
       "SMOTE                            0.979288           0.607211   \n",
       "ADASYN                           0.977899           0.590111   \n",
       "removeZeroVairance               0.994192           0.878272   \n",
       "removeHighCorr                   0.995454           0.598001   \n",
       "StandardScaler                   0.995202           0.598001   \n",
       "\n",
       "                   AdaBoostClassifier DecisionTreeClassifier  \\\n",
       "Original                     0.653226               0.637085   \n",
       "underSampling                0.833295                0.75752   \n",
       "overSampling                 0.948195               0.986614   \n",
       "SMOTE                        0.940151               0.950757   \n",
       "ADASYN                       0.941834               0.948945   \n",
       "removeZeroVairance           0.934798                0.98535   \n",
       "removeHighCorr                0.93684               0.987372   \n",
       "StandardScaler                0.93684               0.987372   \n",
       "\n",
       "                   KNeighborsClassifier  \n",
       "Original                       0.491424  \n",
       "underSampling                   0.58042  \n",
       "overSampling                   0.950892  \n",
       "SMOTE                          0.915221  \n",
       "ADASYN                         0.909183  \n",
       "removeZeroVairance             0.958007  \n",
       "removeHighCorr                 0.950892  \n",
       "StandardScaler                 0.950892  "
      ]
     },
     "execution_count": 63,
     "metadata": {},
     "output_type": "execute_result"
    }
   ],
   "source": [
    "scaler = StandardScaler()\n",
    "# Fit the scaler on the training features and transform these in one go\n",
    "X_resample_std = scaler.fit_transform(X_resample)\n",
    "\n",
    "testModels(models , models_name, data_removeHighCorr, y_resample,'StandardScaler',models_f1Score, models_acurrency)\n",
    "models_f1Score"
   ]
  },
  {
   "cell_type": "code",
   "execution_count": 64,
   "id": "ef431cc2-9666-45f4-98cb-7b3213c3682d",
   "metadata": {},
   "outputs": [],
   "source": [
    "X_train, X_test, y_train, y_test = train_test_split(\n",
    "    X_resample,\n",
    "    y_resample,\n",
    "    test_size=0.3,\n",
    "    random_state=42,\n",
    "    stratify=y_resample\n",
    "    )"
   ]
  },
  {
   "cell_type": "code",
   "execution_count": 65,
   "id": "9bb97e1e-7fe6-49c3-8d09-c32a289c7cd3",
   "metadata": {},
   "outputs": [
    {
     "name": "stdout",
     "output_type": "stream",
     "text": [
      "Optimal alpha = 248152.858\n",
      "The model explains 8.9% of the test set variance\n",
      "22 features out of 95 selected\n"
     ]
    }
   ],
   "source": [
    "# Create and fit the LassoCV model on the training set\n",
    "lcv = LassoCV()\n",
    "lcv.fit(X_train, y_train)\n",
    "print(f'Optimal alpha = {lcv.alpha_:.3f}')\n",
    "\n",
    "# Calculate R squared on the test set\n",
    "r_squared = lcv.score(X_test, y_test)\n",
    "print(f'The model explains {r_squared:.1%} of the test set variance')\n",
    "\n",
    "# Create a mask for coefficients not equal to zero\n",
    "lcv_mask = lcv.coef_ != 0\n",
    "print(f'{sum(lcv_mask)} features out of {len(lcv_mask)} selected')\n"
   ]
  },
  {
   "cell_type": "code",
   "execution_count": 66,
   "id": "61f80883-1fde-48ac-85d6-f9c935cb523c",
   "metadata": {},
   "outputs": [
    {
     "name": "stdout",
     "output_type": "stream",
     "text": [
      "Fitting estimator with 95 features.\n",
      "Fitting estimator with 85 features.\n",
      "Fitting estimator with 75 features.\n",
      "Fitting estimator with 65 features.\n",
      "Fitting estimator with 55 features.\n",
      "Fitting estimator with 45 features.\n",
      "Fitting estimator with 35 features.\n",
      "Fitting estimator with 25 features.\n",
      "Fitting estimator with 15 features.\n"
     ]
    },
    {
     "data": {
      "text/html": [
       "<style>#sk-container-id-3 {color: black;background-color: white;}#sk-container-id-3 pre{padding: 0;}#sk-container-id-3 div.sk-toggleable {background-color: white;}#sk-container-id-3 label.sk-toggleable__label {cursor: pointer;display: block;width: 100%;margin-bottom: 0;padding: 0.3em;box-sizing: border-box;text-align: center;}#sk-container-id-3 label.sk-toggleable__label-arrow:before {content: \"▸\";float: left;margin-right: 0.25em;color: #696969;}#sk-container-id-3 label.sk-toggleable__label-arrow:hover:before {color: black;}#sk-container-id-3 div.sk-estimator:hover label.sk-toggleable__label-arrow:before {color: black;}#sk-container-id-3 div.sk-toggleable__content {max-height: 0;max-width: 0;overflow: hidden;text-align: left;background-color: #f0f8ff;}#sk-container-id-3 div.sk-toggleable__content pre {margin: 0.2em;color: black;border-radius: 0.25em;background-color: #f0f8ff;}#sk-container-id-3 input.sk-toggleable__control:checked~div.sk-toggleable__content {max-height: 200px;max-width: 100%;overflow: auto;}#sk-container-id-3 input.sk-toggleable__control:checked~label.sk-toggleable__label-arrow:before {content: \"▾\";}#sk-container-id-3 div.sk-estimator input.sk-toggleable__control:checked~label.sk-toggleable__label {background-color: #d4ebff;}#sk-container-id-3 div.sk-label input.sk-toggleable__control:checked~label.sk-toggleable__label {background-color: #d4ebff;}#sk-container-id-3 input.sk-hidden--visually {border: 0;clip: rect(1px 1px 1px 1px);clip: rect(1px, 1px, 1px, 1px);height: 1px;margin: -1px;overflow: hidden;padding: 0;position: absolute;width: 1px;}#sk-container-id-3 div.sk-estimator {font-family: monospace;background-color: #f0f8ff;border: 1px dotted black;border-radius: 0.25em;box-sizing: border-box;margin-bottom: 0.5em;}#sk-container-id-3 div.sk-estimator:hover {background-color: #d4ebff;}#sk-container-id-3 div.sk-parallel-item::after {content: \"\";width: 100%;border-bottom: 1px solid gray;flex-grow: 1;}#sk-container-id-3 div.sk-label:hover label.sk-toggleable__label {background-color: #d4ebff;}#sk-container-id-3 div.sk-serial::before {content: \"\";position: absolute;border-left: 1px solid gray;box-sizing: border-box;top: 0;bottom: 0;left: 50%;z-index: 0;}#sk-container-id-3 div.sk-serial {display: flex;flex-direction: column;align-items: center;background-color: white;padding-right: 0.2em;padding-left: 0.2em;position: relative;}#sk-container-id-3 div.sk-item {position: relative;z-index: 1;}#sk-container-id-3 div.sk-parallel {display: flex;align-items: stretch;justify-content: center;background-color: white;position: relative;}#sk-container-id-3 div.sk-item::before, #sk-container-id-3 div.sk-parallel-item::before {content: \"\";position: absolute;border-left: 1px solid gray;box-sizing: border-box;top: 0;bottom: 0;left: 50%;z-index: -1;}#sk-container-id-3 div.sk-parallel-item {display: flex;flex-direction: column;z-index: 1;position: relative;background-color: white;}#sk-container-id-3 div.sk-parallel-item:first-child::after {align-self: flex-end;width: 50%;}#sk-container-id-3 div.sk-parallel-item:last-child::after {align-self: flex-start;width: 50%;}#sk-container-id-3 div.sk-parallel-item:only-child::after {width: 0;}#sk-container-id-3 div.sk-dashed-wrapped {border: 1px dashed gray;margin: 0 0.4em 0.5em 0.4em;box-sizing: border-box;padding-bottom: 0.4em;background-color: white;}#sk-container-id-3 div.sk-label label {font-family: monospace;font-weight: bold;display: inline-block;line-height: 1.2em;}#sk-container-id-3 div.sk-label-container {text-align: center;}#sk-container-id-3 div.sk-container {/* jupyter's `normalize.less` sets `[hidden] { display: none; }` but bootstrap.min.css set `[hidden] { display: none !important; }` so we also need the `!important` here to be able to override the default hidden behavior on the sphinx rendered scikit-learn.org. See: https://github.com/scikit-learn/scikit-learn/issues/21755 */display: inline-block !important;position: relative;}#sk-container-id-3 div.sk-text-repr-fallback {display: none;}</style><div id=\"sk-container-id-3\" class=\"sk-top-container\"><div class=\"sk-text-repr-fallback\"><pre>RFE(estimator=GradientBoostingRegressor(), n_features_to_select=10, step=10,\n",
       "    verbose=1)</pre><b>In a Jupyter environment, please rerun this cell to show the HTML representation or trust the notebook. <br />On GitHub, the HTML representation is unable to render, please try loading this page with nbviewer.org.</b></div><div class=\"sk-container\" hidden><div class=\"sk-item sk-dashed-wrapped\"><div class=\"sk-label-container\"><div class=\"sk-label sk-toggleable\"><input class=\"sk-toggleable__control sk-hidden--visually\" id=\"sk-estimator-id-7\" type=\"checkbox\" ><label for=\"sk-estimator-id-7\" class=\"sk-toggleable__label sk-toggleable__label-arrow\">RFE</label><div class=\"sk-toggleable__content\"><pre>RFE(estimator=GradientBoostingRegressor(), n_features_to_select=10, step=10,\n",
       "    verbose=1)</pre></div></div></div><div class=\"sk-parallel\"><div class=\"sk-parallel-item\"><div class=\"sk-item\"><div class=\"sk-label-container\"><div class=\"sk-label sk-toggleable\"><input class=\"sk-toggleable__control sk-hidden--visually\" id=\"sk-estimator-id-8\" type=\"checkbox\" ><label for=\"sk-estimator-id-8\" class=\"sk-toggleable__label sk-toggleable__label-arrow\">estimator: GradientBoostingRegressor</label><div class=\"sk-toggleable__content\"><pre>GradientBoostingRegressor()</pre></div></div></div><div class=\"sk-serial\"><div class=\"sk-item\"><div class=\"sk-estimator sk-toggleable\"><input class=\"sk-toggleable__control sk-hidden--visually\" id=\"sk-estimator-id-9\" type=\"checkbox\" ><label for=\"sk-estimator-id-9\" class=\"sk-toggleable__label sk-toggleable__label-arrow\">GradientBoostingRegressor</label><div class=\"sk-toggleable__content\"><pre>GradientBoostingRegressor()</pre></div></div></div></div></div></div></div></div></div></div>"
      ],
      "text/plain": [
       "RFE(estimator=GradientBoostingRegressor(), n_features_to_select=10, step=10,\n",
       "    verbose=1)"
      ]
     },
     "execution_count": 66,
     "metadata": {},
     "output_type": "execute_result"
    }
   ],
   "source": [
    "# Select 10 features with RFE on a GradientBoostingRegressor, drop 3 features on each step\n",
    "rfe_gb = RFE(estimator=GradientBoostingRegressor(), \n",
    "             n_features_to_select=10, step=10, verbose=1)\n",
    "rfe_gb.fit(X_train, y_train)"
   ]
  },
  {
   "cell_type": "code",
   "execution_count": 67,
   "id": "a9f3e348-989f-4360-b17b-33b583a9d91c",
   "metadata": {},
   "outputs": [
    {
     "name": "stdout",
     "output_type": "stream",
     "text": [
      "The model can explain 81.4% of the variance in the test set\n"
     ]
    }
   ],
   "source": [
    "# Print the features and their ranking (high = dropped early on)\n",
    "#print(dict(zip(X_resample.columns, rfe_gb.ranking_)))\n",
    "\n",
    "# Calculate the R squared on the test set\n",
    "r_squared = rfe_gb.score(X_test, y_test)\n",
    "print(f'The model can explain {r_squared:.1%} of the variance in the test set')\n",
    "\n",
    "# Assign the support array to gb_mask\n",
    "gb_mask = rfe_gb.support_"
   ]
  },
  {
   "cell_type": "code",
   "execution_count": 68,
   "id": "fdd167b6-686c-4cc2-bb53-967721081066",
   "metadata": {},
   "outputs": [
    {
     "name": "stdout",
     "output_type": "stream",
     "text": [
      "Fitting estimator with 95 features.\n",
      "Fitting estimator with 85 features.\n",
      "Fitting estimator with 75 features.\n",
      "Fitting estimator with 65 features.\n",
      "Fitting estimator with 55 features.\n",
      "Fitting estimator with 45 features.\n",
      "Fitting estimator with 35 features.\n",
      "Fitting estimator with 25 features.\n",
      "Fitting estimator with 15 features.\n"
     ]
    },
    {
     "data": {
      "text/html": [
       "<style>#sk-container-id-4 {color: black;background-color: white;}#sk-container-id-4 pre{padding: 0;}#sk-container-id-4 div.sk-toggleable {background-color: white;}#sk-container-id-4 label.sk-toggleable__label {cursor: pointer;display: block;width: 100%;margin-bottom: 0;padding: 0.3em;box-sizing: border-box;text-align: center;}#sk-container-id-4 label.sk-toggleable__label-arrow:before {content: \"▸\";float: left;margin-right: 0.25em;color: #696969;}#sk-container-id-4 label.sk-toggleable__label-arrow:hover:before {color: black;}#sk-container-id-4 div.sk-estimator:hover label.sk-toggleable__label-arrow:before {color: black;}#sk-container-id-4 div.sk-toggleable__content {max-height: 0;max-width: 0;overflow: hidden;text-align: left;background-color: #f0f8ff;}#sk-container-id-4 div.sk-toggleable__content pre {margin: 0.2em;color: black;border-radius: 0.25em;background-color: #f0f8ff;}#sk-container-id-4 input.sk-toggleable__control:checked~div.sk-toggleable__content {max-height: 200px;max-width: 100%;overflow: auto;}#sk-container-id-4 input.sk-toggleable__control:checked~label.sk-toggleable__label-arrow:before {content: \"▾\";}#sk-container-id-4 div.sk-estimator input.sk-toggleable__control:checked~label.sk-toggleable__label {background-color: #d4ebff;}#sk-container-id-4 div.sk-label input.sk-toggleable__control:checked~label.sk-toggleable__label {background-color: #d4ebff;}#sk-container-id-4 input.sk-hidden--visually {border: 0;clip: rect(1px 1px 1px 1px);clip: rect(1px, 1px, 1px, 1px);height: 1px;margin: -1px;overflow: hidden;padding: 0;position: absolute;width: 1px;}#sk-container-id-4 div.sk-estimator {font-family: monospace;background-color: #f0f8ff;border: 1px dotted black;border-radius: 0.25em;box-sizing: border-box;margin-bottom: 0.5em;}#sk-container-id-4 div.sk-estimator:hover {background-color: #d4ebff;}#sk-container-id-4 div.sk-parallel-item::after {content: \"\";width: 100%;border-bottom: 1px solid gray;flex-grow: 1;}#sk-container-id-4 div.sk-label:hover label.sk-toggleable__label {background-color: #d4ebff;}#sk-container-id-4 div.sk-serial::before {content: \"\";position: absolute;border-left: 1px solid gray;box-sizing: border-box;top: 0;bottom: 0;left: 50%;z-index: 0;}#sk-container-id-4 div.sk-serial {display: flex;flex-direction: column;align-items: center;background-color: white;padding-right: 0.2em;padding-left: 0.2em;position: relative;}#sk-container-id-4 div.sk-item {position: relative;z-index: 1;}#sk-container-id-4 div.sk-parallel {display: flex;align-items: stretch;justify-content: center;background-color: white;position: relative;}#sk-container-id-4 div.sk-item::before, #sk-container-id-4 div.sk-parallel-item::before {content: \"\";position: absolute;border-left: 1px solid gray;box-sizing: border-box;top: 0;bottom: 0;left: 50%;z-index: -1;}#sk-container-id-4 div.sk-parallel-item {display: flex;flex-direction: column;z-index: 1;position: relative;background-color: white;}#sk-container-id-4 div.sk-parallel-item:first-child::after {align-self: flex-end;width: 50%;}#sk-container-id-4 div.sk-parallel-item:last-child::after {align-self: flex-start;width: 50%;}#sk-container-id-4 div.sk-parallel-item:only-child::after {width: 0;}#sk-container-id-4 div.sk-dashed-wrapped {border: 1px dashed gray;margin: 0 0.4em 0.5em 0.4em;box-sizing: border-box;padding-bottom: 0.4em;background-color: white;}#sk-container-id-4 div.sk-label label {font-family: monospace;font-weight: bold;display: inline-block;line-height: 1.2em;}#sk-container-id-4 div.sk-label-container {text-align: center;}#sk-container-id-4 div.sk-container {/* jupyter's `normalize.less` sets `[hidden] { display: none; }` but bootstrap.min.css set `[hidden] { display: none !important; }` so we also need the `!important` here to be able to override the default hidden behavior on the sphinx rendered scikit-learn.org. See: https://github.com/scikit-learn/scikit-learn/issues/21755 */display: inline-block !important;position: relative;}#sk-container-id-4 div.sk-text-repr-fallback {display: none;}</style><div id=\"sk-container-id-4\" class=\"sk-top-container\"><div class=\"sk-text-repr-fallback\"><pre>RFE(estimator=RandomForestRegressor(), n_features_to_select=10, step=10,\n",
       "    verbose=1)</pre><b>In a Jupyter environment, please rerun this cell to show the HTML representation or trust the notebook. <br />On GitHub, the HTML representation is unable to render, please try loading this page with nbviewer.org.</b></div><div class=\"sk-container\" hidden><div class=\"sk-item sk-dashed-wrapped\"><div class=\"sk-label-container\"><div class=\"sk-label sk-toggleable\"><input class=\"sk-toggleable__control sk-hidden--visually\" id=\"sk-estimator-id-10\" type=\"checkbox\" ><label for=\"sk-estimator-id-10\" class=\"sk-toggleable__label sk-toggleable__label-arrow\">RFE</label><div class=\"sk-toggleable__content\"><pre>RFE(estimator=RandomForestRegressor(), n_features_to_select=10, step=10,\n",
       "    verbose=1)</pre></div></div></div><div class=\"sk-parallel\"><div class=\"sk-parallel-item\"><div class=\"sk-item\"><div class=\"sk-label-container\"><div class=\"sk-label sk-toggleable\"><input class=\"sk-toggleable__control sk-hidden--visually\" id=\"sk-estimator-id-11\" type=\"checkbox\" ><label for=\"sk-estimator-id-11\" class=\"sk-toggleable__label sk-toggleable__label-arrow\">estimator: RandomForestRegressor</label><div class=\"sk-toggleable__content\"><pre>RandomForestRegressor()</pre></div></div></div><div class=\"sk-serial\"><div class=\"sk-item\"><div class=\"sk-estimator sk-toggleable\"><input class=\"sk-toggleable__control sk-hidden--visually\" id=\"sk-estimator-id-12\" type=\"checkbox\" ><label for=\"sk-estimator-id-12\" class=\"sk-toggleable__label sk-toggleable__label-arrow\">RandomForestRegressor</label><div class=\"sk-toggleable__content\"><pre>RandomForestRegressor()</pre></div></div></div></div></div></div></div></div></div></div>"
      ],
      "text/plain": [
       "RFE(estimator=RandomForestRegressor(), n_features_to_select=10, step=10,\n",
       "    verbose=1)"
      ]
     },
     "execution_count": 68,
     "metadata": {},
     "output_type": "execute_result"
    }
   ],
   "source": [
    "# Select 10 features with RFE on a RandomForestRegressor, drop 3 features on each step\n",
    "rfe_rf = RFE(estimator=RandomForestRegressor(), \n",
    "             n_features_to_select=10, step=10, verbose=1)\n",
    "rfe_rf.fit(X_train, y_train)"
   ]
  },
  {
   "cell_type": "code",
   "execution_count": 69,
   "id": "d92d5843-119b-480b-982b-4bcb803e349b",
   "metadata": {},
   "outputs": [
    {
     "name": "stdout",
     "output_type": "stream",
     "text": [
      "The model can explain 97.0% of the variance in the test set\n"
     ]
    }
   ],
   "source": [
    "# Print the features and their ranking (high = dropped early on)\n",
    "#print(dict(zip(X_resample.columns, rfe_rf.ranking_)))\n",
    "# Calculate the R squared on the test set\n",
    "r_squared = rfe_rf.score(X_test, y_test)\n",
    "print(f'The model can explain {r_squared:.1%} of the variance in the test set')\n",
    "# Assign the support array to rf_mask\n",
    "rf_mask = rfe_rf.support_"
   ]
  },
  {
   "cell_type": "code",
   "execution_count": 87,
   "id": "8f66657f-fddb-42db-a489-97048e843f61",
   "metadata": {},
   "outputs": [
    {
     "name": "stdout",
     "output_type": "stream",
     "text": [
      "votes: [0 0 0 0 0 0 0 0 2 2 1 1 0 1 0 0 0 0 2 0 0 0 0 0 0 0 0 0 1 1 0 0 0 2 2 3 0\n",
      " 0 0 2 0 0 0 0 0 2 1 1 1 0 1 0 2 0 0 0 1 1 1 0 0 0 2 0 0 0 1 1 0 0 1 1 0 2\n",
      " 0 1 0 0 0 0 0 0 0 0 0 1 1 0 0 0 0 0 0 0 0]\n",
      "[False False False False False False False False  True  True False False\n",
      " False False False False False False  True False False False False False\n",
      " False False False False False False False False False  True  True  True\n",
      " False False False  True False False False False False  True False False\n",
      " False False False False  True False False False False False False False\n",
      " False False  True False False False False False False False False False\n",
      " False  True False False False False False False False False False False\n",
      " False False False False False False False False False False False]\n",
      "Index(['Attr9', 'Attr10', 'Attr19', 'Attr34', 'Attr35', 'Attr36', 'Attr40',\n",
      "       'Attr46', 'Attr53', 'Attr63', 'Attr74'],\n",
      "      dtype='object')\n",
      "The model can explain -0.2% of the variance in the test set using 11 features.\n"
     ]
    }
   ],
   "source": [
    "scaler = StandardScaler()\n",
    "lm = Lasso(alpha=248152.858)\n",
    "# Sum the votes of the three models\n",
    "votes = np.sum([lcv_mask, rf_mask, gb_mask], axis=0)\n",
    "print(\"votes:\",votes)\n",
    "# Create a mask for features selected by at least 3 model\n",
    "meta_mask = votes >= 2\n",
    "# Apply the dimensionality reduction on X\n",
    "X_reduced = X_resample.loc[:, meta_mask]\n",
    "# Plug the reduced dataset into a linear regression pipeline\n",
    "X_train_reduced, X_test_reduced, y_train_reduced, y_test_reduced = train_test_split(X_reduced, y_resample, test_size=0.3, random_state=0)\n",
    "lm.fit(scaler.fit_transform(X_train_reduced), y_train_reduced)\n",
    "r_squared = lm.score(scaler.transform(X_test_reduced), y_test_reduced)\n",
    "print(f'The model can explain {r_squared:.1%} of the variance in the test set using {len(lm.coef_)} features.')"
   ]
  },
  {
   "cell_type": "markdown",
   "id": "146d9327-4611-48d1-9152-0f532c2423fd",
   "metadata": {},
   "source": [
    "$\\implies$ the perfoemance is low"
   ]
  },
  {
   "cell_type": "code",
   "execution_count": 71,
   "id": "9e4f02cd-739c-46b5-acba-618914ab57e9",
   "metadata": {},
   "outputs": [
    {
     "data": {
      "text/html": [
       "<div>\n",
       "<style scoped>\n",
       "    .dataframe tbody tr th:only-of-type {\n",
       "        vertical-align: middle;\n",
       "    }\n",
       "\n",
       "    .dataframe tbody tr th {\n",
       "        vertical-align: top;\n",
       "    }\n",
       "\n",
       "    .dataframe thead th {\n",
       "        text-align: right;\n",
       "    }\n",
       "</style>\n",
       "<table border=\"1\" class=\"dataframe\">\n",
       "  <thead>\n",
       "    <tr style=\"text-align: right;\">\n",
       "      <th></th>\n",
       "      <th>RandomForestClassifier</th>\n",
       "      <th>LogisticRegression</th>\n",
       "      <th>AdaBoostClassifier</th>\n",
       "      <th>DecisionTreeClassifier</th>\n",
       "      <th>KNeighborsClassifier</th>\n",
       "    </tr>\n",
       "  </thead>\n",
       "  <tbody>\n",
       "    <tr>\n",
       "      <th>Original</th>\n",
       "      <td>0.604773</td>\n",
       "      <td>0.489011</td>\n",
       "      <td>0.653226</td>\n",
       "      <td>0.637085</td>\n",
       "      <td>0.491424</td>\n",
       "    </tr>\n",
       "    <tr>\n",
       "      <th>underSampling</th>\n",
       "      <td>0.840827</td>\n",
       "      <td>0.556969</td>\n",
       "      <td>0.833295</td>\n",
       "      <td>0.75752</td>\n",
       "      <td>0.58042</td>\n",
       "    </tr>\n",
       "    <tr>\n",
       "      <th>overSampling</th>\n",
       "      <td>0.994697</td>\n",
       "      <td>0.598001</td>\n",
       "      <td>0.948195</td>\n",
       "      <td>0.986614</td>\n",
       "      <td>0.950892</td>\n",
       "    </tr>\n",
       "    <tr>\n",
       "      <th>SMOTE</th>\n",
       "      <td>0.979288</td>\n",
       "      <td>0.607211</td>\n",
       "      <td>0.940151</td>\n",
       "      <td>0.950757</td>\n",
       "      <td>0.915221</td>\n",
       "    </tr>\n",
       "    <tr>\n",
       "      <th>ADASYN</th>\n",
       "      <td>0.977899</td>\n",
       "      <td>0.590111</td>\n",
       "      <td>0.941834</td>\n",
       "      <td>0.948945</td>\n",
       "      <td>0.909183</td>\n",
       "    </tr>\n",
       "    <tr>\n",
       "      <th>removeZeroVairance</th>\n",
       "      <td>0.994192</td>\n",
       "      <td>0.878272</td>\n",
       "      <td>0.934798</td>\n",
       "      <td>0.98535</td>\n",
       "      <td>0.958007</td>\n",
       "    </tr>\n",
       "    <tr>\n",
       "      <th>removeHighCorr</th>\n",
       "      <td>0.995454</td>\n",
       "      <td>0.598001</td>\n",
       "      <td>0.93684</td>\n",
       "      <td>0.987372</td>\n",
       "      <td>0.950892</td>\n",
       "    </tr>\n",
       "    <tr>\n",
       "      <th>StandardScaler</th>\n",
       "      <td>0.995202</td>\n",
       "      <td>0.598001</td>\n",
       "      <td>0.93684</td>\n",
       "      <td>0.987372</td>\n",
       "      <td>0.950892</td>\n",
       "    </tr>\n",
       "    <tr>\n",
       "      <th>modelReduceFeature</th>\n",
       "      <td>0.993182</td>\n",
       "      <td>0.364418</td>\n",
       "      <td>0.923429</td>\n",
       "      <td>0.988382</td>\n",
       "      <td>0.945801</td>\n",
       "    </tr>\n",
       "  </tbody>\n",
       "</table>\n",
       "</div>"
      ],
      "text/plain": [
       "                   RandomForestClassifier LogisticRegression  \\\n",
       "Original                         0.604773           0.489011   \n",
       "underSampling                    0.840827           0.556969   \n",
       "overSampling                     0.994697           0.598001   \n",
       "SMOTE                            0.979288           0.607211   \n",
       "ADASYN                           0.977899           0.590111   \n",
       "removeZeroVairance               0.994192           0.878272   \n",
       "removeHighCorr                   0.995454           0.598001   \n",
       "StandardScaler                   0.995202           0.598001   \n",
       "modelReduceFeature               0.993182           0.364418   \n",
       "\n",
       "                   AdaBoostClassifier DecisionTreeClassifier  \\\n",
       "Original                     0.653226               0.637085   \n",
       "underSampling                0.833295                0.75752   \n",
       "overSampling                 0.948195               0.986614   \n",
       "SMOTE                        0.940151               0.950757   \n",
       "ADASYN                       0.941834               0.948945   \n",
       "removeZeroVairance           0.934798                0.98535   \n",
       "removeHighCorr                0.93684               0.987372   \n",
       "StandardScaler                0.93684               0.987372   \n",
       "modelReduceFeature           0.923429               0.988382   \n",
       "\n",
       "                   KNeighborsClassifier  \n",
       "Original                       0.491424  \n",
       "underSampling                   0.58042  \n",
       "overSampling                   0.950892  \n",
       "SMOTE                          0.915221  \n",
       "ADASYN                         0.909183  \n",
       "removeZeroVairance             0.958007  \n",
       "removeHighCorr                 0.950892  \n",
       "StandardScaler                 0.950892  \n",
       "modelReduceFeature             0.945801  "
      ]
     },
     "execution_count": 71,
     "metadata": {},
     "output_type": "execute_result"
    }
   ],
   "source": [
    "testModels(models , models_name, X_reduced, y_resample,'modelReduceFeature',models_f1Score, models_acurrency)\n",
    "models_f1Score"
   ]
  },
  {
   "cell_type": "markdown",
   "id": "06f32b49-0e4d-42cb-8610-3731c5156e36",
   "metadata": {},
   "source": [
    "### Selecting by Mutual Infromation"
   ]
  },
  {
   "cell_type": "code",
   "execution_count": 72,
   "id": "7291ec67-25fb-44ac-9a54-47de99921c30",
   "metadata": {},
   "outputs": [
    {
     "data": {
      "text/plain": [
       "Text(0, 0.5, 'Mutual Information')"
      ]
     },
     "execution_count": 72,
     "metadata": {},
     "output_type": "execute_result"
    },
    {
     "data": {
      "image/png": "[encoded data removed]",
      "text/plain": [
       "<Figure size 2000x600 with 1 Axes>"
      ]
     },
     "metadata": {},
     "output_type": "display_data"
    }
   ],
   "source": [
    "# the less mi value, the less information we can get from\n",
    "mi = mutual_info_classif(X_resample, y_resample)\n",
    "miseries = pd.Series(mi)\n",
    "miseries.index = X_resample.columns\n",
    "miseries.sort_values(ascending=False).plot.bar(figsize=(20, 6))\n",
    "plt.ylabel('Mutual Information')"
   ]
  },
  {
   "cell_type": "code",
   "execution_count": 73,
   "id": "0553f1be-f9f7-43b5-bd2b-74b31d5b976a",
   "metadata": {},
   "outputs": [],
   "source": [
    "# select features\n",
    "k_best = SelectKBest(mutual_info_classif, k=40).fit(X_resample, y_resample)\n",
    "X_kBest = k_best.transform(X_resample)\n",
    "# display features\n",
    "#X_resample.columns[k_best.get_support()]"
   ]
  },
  {
   "cell_type": "code",
   "execution_count": 74,
   "id": "e29d777c-7d38-43bc-b1b5-59573ca446ab",
   "metadata": {},
   "outputs": [
    {
     "name": "stderr",
     "output_type": "stream",
     "text": [
      "/Users/zoeychiu/.local/lib/python3.9/site-packages/sklearn/linear_model/_logistic.py:458: ConvergenceWarning: lbfgs failed to converge (status=1):\n",
      "STOP: TOTAL NO. of ITERATIONS REACHED LIMIT.\n",
      "\n",
      "Increase the number of iterations (max_iter) or scale the data as shown in:\n",
      "    https://scikit-learn.org/stable/modules/preprocessing.html\n",
      "Please also refer to the documentation for alternative solver options:\n",
      "    https://scikit-learn.org/stable/modules/linear_model.html#logistic-regression\n",
      "  n_iter_i = _check_optimize_result(\n"
     ]
    },
    {
     "data": {
      "text/html": [
       "<div>\n",
       "<style scoped>\n",
       "    .dataframe tbody tr th:only-of-type {\n",
       "        vertical-align: middle;\n",
       "    }\n",
       "\n",
       "    .dataframe tbody tr th {\n",
       "        vertical-align: top;\n",
       "    }\n",
       "\n",
       "    .dataframe thead th {\n",
       "        text-align: right;\n",
       "    }\n",
       "</style>\n",
       "<table border=\"1\" class=\"dataframe\">\n",
       "  <thead>\n",
       "    <tr style=\"text-align: right;\">\n",
       "      <th></th>\n",
       "      <th>RandomForestClassifier</th>\n",
       "      <th>LogisticRegression</th>\n",
       "      <th>AdaBoostClassifier</th>\n",
       "      <th>DecisionTreeClassifier</th>\n",
       "      <th>KNeighborsClassifier</th>\n",
       "    </tr>\n",
       "  </thead>\n",
       "  <tbody>\n",
       "    <tr>\n",
       "      <th>Original</th>\n",
       "      <td>0.604773</td>\n",
       "      <td>0.489011</td>\n",
       "      <td>0.653226</td>\n",
       "      <td>0.637085</td>\n",
       "      <td>0.491424</td>\n",
       "    </tr>\n",
       "    <tr>\n",
       "      <th>underSampling</th>\n",
       "      <td>0.840827</td>\n",
       "      <td>0.556969</td>\n",
       "      <td>0.833295</td>\n",
       "      <td>0.75752</td>\n",
       "      <td>0.58042</td>\n",
       "    </tr>\n",
       "    <tr>\n",
       "      <th>overSampling</th>\n",
       "      <td>0.994697</td>\n",
       "      <td>0.598001</td>\n",
       "      <td>0.948195</td>\n",
       "      <td>0.986614</td>\n",
       "      <td>0.950892</td>\n",
       "    </tr>\n",
       "    <tr>\n",
       "      <th>SMOTE</th>\n",
       "      <td>0.979288</td>\n",
       "      <td>0.607211</td>\n",
       "      <td>0.940151</td>\n",
       "      <td>0.950757</td>\n",
       "      <td>0.915221</td>\n",
       "    </tr>\n",
       "    <tr>\n",
       "      <th>ADASYN</th>\n",
       "      <td>0.977899</td>\n",
       "      <td>0.590111</td>\n",
       "      <td>0.941834</td>\n",
       "      <td>0.948945</td>\n",
       "      <td>0.909183</td>\n",
       "    </tr>\n",
       "    <tr>\n",
       "      <th>removeZeroVairance</th>\n",
       "      <td>0.994192</td>\n",
       "      <td>0.878272</td>\n",
       "      <td>0.934798</td>\n",
       "      <td>0.98535</td>\n",
       "      <td>0.958007</td>\n",
       "    </tr>\n",
       "    <tr>\n",
       "      <th>removeHighCorr</th>\n",
       "      <td>0.995454</td>\n",
       "      <td>0.598001</td>\n",
       "      <td>0.93684</td>\n",
       "      <td>0.987372</td>\n",
       "      <td>0.950892</td>\n",
       "    </tr>\n",
       "    <tr>\n",
       "      <th>StandardScaler</th>\n",
       "      <td>0.995202</td>\n",
       "      <td>0.598001</td>\n",
       "      <td>0.93684</td>\n",
       "      <td>0.987372</td>\n",
       "      <td>0.950892</td>\n",
       "    </tr>\n",
       "    <tr>\n",
       "      <th>modelReduceFeature</th>\n",
       "      <td>0.993182</td>\n",
       "      <td>0.364418</td>\n",
       "      <td>0.923429</td>\n",
       "      <td>0.988382</td>\n",
       "      <td>0.945801</td>\n",
       "    </tr>\n",
       "    <tr>\n",
       "      <th>kBestMutualInfo</th>\n",
       "      <td>0.993434</td>\n",
       "      <td>0.870675</td>\n",
       "      <td>0.936047</td>\n",
       "      <td>0.987119</td>\n",
       "      <td>0.970935</td>\n",
       "    </tr>\n",
       "  </tbody>\n",
       "</table>\n",
       "</div>"
      ],
      "text/plain": [
       "                   RandomForestClassifier LogisticRegression  \\\n",
       "Original                         0.604773           0.489011   \n",
       "underSampling                    0.840827           0.556969   \n",
       "overSampling                     0.994697           0.598001   \n",
       "SMOTE                            0.979288           0.607211   \n",
       "ADASYN                           0.977899           0.590111   \n",
       "removeZeroVairance               0.994192           0.878272   \n",
       "removeHighCorr                   0.995454           0.598001   \n",
       "StandardScaler                   0.995202           0.598001   \n",
       "modelReduceFeature               0.993182           0.364418   \n",
       "kBestMutualInfo                  0.993434           0.870675   \n",
       "\n",
       "                   AdaBoostClassifier DecisionTreeClassifier  \\\n",
       "Original                     0.653226               0.637085   \n",
       "underSampling                0.833295                0.75752   \n",
       "overSampling                 0.948195               0.986614   \n",
       "SMOTE                        0.940151               0.950757   \n",
       "ADASYN                       0.941834               0.948945   \n",
       "removeZeroVairance           0.934798                0.98535   \n",
       "removeHighCorr                0.93684               0.987372   \n",
       "StandardScaler                0.93684               0.987372   \n",
       "modelReduceFeature           0.923429               0.988382   \n",
       "kBestMutualInfo              0.936047               0.987119   \n",
       "\n",
       "                   KNeighborsClassifier  \n",
       "Original                       0.491424  \n",
       "underSampling                   0.58042  \n",
       "overSampling                   0.950892  \n",
       "SMOTE                          0.915221  \n",
       "ADASYN                         0.909183  \n",
       "removeZeroVairance             0.958007  \n",
       "removeHighCorr                 0.950892  \n",
       "StandardScaler                 0.950892  \n",
       "modelReduceFeature             0.945801  \n",
       "kBestMutualInfo                0.970935  "
      ]
     },
     "execution_count": 74,
     "metadata": {},
     "output_type": "execute_result"
    }
   ],
   "source": [
    "testModels(models, models_name, X_kBest, y_resample,'kBestMutualInfo',models_f1Score, models_acurrency)\n",
    "models_f1Score"
   ]
  },
  {
   "cell_type": "code",
   "execution_count": 75,
   "id": "cd5b8bf1-e465-416a-8d19-75cac99c4cee",
   "metadata": {},
   "outputs": [
    {
     "data": {
      "text/html": [
       "<div>\n",
       "<style scoped>\n",
       "    .dataframe tbody tr th:only-of-type {\n",
       "        vertical-align: middle;\n",
       "    }\n",
       "\n",
       "    .dataframe tbody tr th {\n",
       "        vertical-align: top;\n",
       "    }\n",
       "\n",
       "    .dataframe thead th {\n",
       "        text-align: right;\n",
       "    }\n",
       "</style>\n",
       "<table border=\"1\" class=\"dataframe\">\n",
       "  <thead>\n",
       "    <tr style=\"text-align: right;\">\n",
       "      <th></th>\n",
       "      <th>RandomForestClassifier</th>\n",
       "      <th>LogisticRegression</th>\n",
       "      <th>AdaBoostClassifier</th>\n",
       "      <th>DecisionTreeClassifier</th>\n",
       "      <th>KNeighborsClassifier</th>\n",
       "    </tr>\n",
       "  </thead>\n",
       "  <tbody>\n",
       "    <tr>\n",
       "      <th>Original</th>\n",
       "      <td>0.969697</td>\n",
       "      <td>0.956989</td>\n",
       "      <td>0.967253</td>\n",
       "      <td>0.956012</td>\n",
       "      <td>0.966276</td>\n",
       "    </tr>\n",
       "    <tr>\n",
       "      <th>underSampling</th>\n",
       "      <td>0.840909</td>\n",
       "      <td>0.568182</td>\n",
       "      <td>0.833333</td>\n",
       "      <td>0.757576</td>\n",
       "      <td>0.583333</td>\n",
       "    </tr>\n",
       "    <tr>\n",
       "      <th>overSampling</th>\n",
       "      <td>0.994697</td>\n",
       "      <td>0.606566</td>\n",
       "      <td>0.948232</td>\n",
       "      <td>0.986616</td>\n",
       "      <td>0.95101</td>\n",
       "    </tr>\n",
       "    <tr>\n",
       "      <th>SMOTE</th>\n",
       "      <td>0.979293</td>\n",
       "      <td>0.614141</td>\n",
       "      <td>0.940152</td>\n",
       "      <td>0.950758</td>\n",
       "      <td>0.915657</td>\n",
       "    </tr>\n",
       "    <tr>\n",
       "      <th>ADASYN</th>\n",
       "      <td>0.977902</td>\n",
       "      <td>0.599441</td>\n",
       "      <td>0.941834</td>\n",
       "      <td>0.948946</td>\n",
       "      <td>0.909576</td>\n",
       "    </tr>\n",
       "    <tr>\n",
       "      <th>removeZeroVairance</th>\n",
       "      <td>0.994192</td>\n",
       "      <td>0.878283</td>\n",
       "      <td>0.934848</td>\n",
       "      <td>0.985354</td>\n",
       "      <td>0.958081</td>\n",
       "    </tr>\n",
       "    <tr>\n",
       "      <th>removeHighCorr</th>\n",
       "      <td>0.995455</td>\n",
       "      <td>0.606566</td>\n",
       "      <td>0.936869</td>\n",
       "      <td>0.987374</td>\n",
       "      <td>0.95101</td>\n",
       "    </tr>\n",
       "    <tr>\n",
       "      <th>StandardScaler</th>\n",
       "      <td>0.995202</td>\n",
       "      <td>0.606566</td>\n",
       "      <td>0.936869</td>\n",
       "      <td>0.987374</td>\n",
       "      <td>0.95101</td>\n",
       "    </tr>\n",
       "    <tr>\n",
       "      <th>modelReduceFeature</th>\n",
       "      <td>0.993182</td>\n",
       "      <td>0.392677</td>\n",
       "      <td>0.923485</td>\n",
       "      <td>0.988384</td>\n",
       "      <td>0.94596</td>\n",
       "    </tr>\n",
       "    <tr>\n",
       "      <th>kBestMutualInfo</th>\n",
       "      <td>0.993434</td>\n",
       "      <td>0.870707</td>\n",
       "      <td>0.936111</td>\n",
       "      <td>0.987121</td>\n",
       "      <td>0.97096</td>\n",
       "    </tr>\n",
       "  </tbody>\n",
       "</table>\n",
       "</div>"
      ],
      "text/plain": [
       "                   RandomForestClassifier LogisticRegression  \\\n",
       "Original                         0.969697           0.956989   \n",
       "underSampling                    0.840909           0.568182   \n",
       "overSampling                     0.994697           0.606566   \n",
       "SMOTE                            0.979293           0.614141   \n",
       "ADASYN                           0.977902           0.599441   \n",
       "removeZeroVairance               0.994192           0.878283   \n",
       "removeHighCorr                   0.995455           0.606566   \n",
       "StandardScaler                   0.995202           0.606566   \n",
       "modelReduceFeature               0.993182           0.392677   \n",
       "kBestMutualInfo                  0.993434           0.870707   \n",
       "\n",
       "                   AdaBoostClassifier DecisionTreeClassifier  \\\n",
       "Original                     0.967253               0.956012   \n",
       "underSampling                0.833333               0.757576   \n",
       "overSampling                 0.948232               0.986616   \n",
       "SMOTE                        0.940152               0.950758   \n",
       "ADASYN                       0.941834               0.948946   \n",
       "removeZeroVairance           0.934848               0.985354   \n",
       "removeHighCorr               0.936869               0.987374   \n",
       "StandardScaler               0.936869               0.987374   \n",
       "modelReduceFeature           0.923485               0.988384   \n",
       "kBestMutualInfo              0.936111               0.987121   \n",
       "\n",
       "                   KNeighborsClassifier  \n",
       "Original                       0.966276  \n",
       "underSampling                  0.583333  \n",
       "overSampling                    0.95101  \n",
       "SMOTE                          0.915657  \n",
       "ADASYN                         0.909576  \n",
       "removeZeroVairance             0.958081  \n",
       "removeHighCorr                  0.95101  \n",
       "StandardScaler                  0.95101  \n",
       "modelReduceFeature              0.94596  \n",
       "kBestMutualInfo                 0.97096  "
      ]
     },
     "execution_count": 75,
     "metadata": {},
     "output_type": "execute_result"
    }
   ],
   "source": [
    "models_acurrency"
   ]
  },
  {
   "cell_type": "markdown",
   "id": "5509a8e5-9747-46c1-bbc5-2d4a25a31b2d",
   "metadata": {},
   "source": []
  },
  {
   "cell_type": "markdown",
   "id": "59632fde-daa9-4941-8200-d0a212b3ff22",
   "metadata": {},
   "source": [
    "# to-do Diyva: testModels with Hyperparameters and compare with no Hyperparameters"
   ]
  },
  {
   "cell_type": "markdown",
   "id": "3dc3d914-71ab-4282-a178-983e7b1471fc",
   "metadata": {},
   "source": [
    "# to-do Ginny: model evaluation"
   ]
  },
  {
   "cell_type": "code",
   "execution_count": null,
   "id": "4c03423b-72f5-4875-809e-75d0a65ec3a1",
   "metadata": {},
   "outputs": [],
   "source": []
  },
  {
   "cell_type": "markdown",
   "id": "12680278-6646-4fba-9ecb-3a69f73c34ce",
   "metadata": {},
   "source": [
    "# to-do Together: Conclusion"
   ]
  },
  {
   "cell_type": "code",
   "execution_count": null,
   "id": "7bbbe9a8-833c-4344-ab9a-9c57af2876fa",
   "metadata": {},
   "outputs": [],
   "source": []
  }
 ],
 "metadata": {
  "kernelspec": {
   "display_name": "Python 3 (ipykernel)",
   "language": "python",
   "name": "python3"
  },
  "language_info": {
   "codemirror_mode": {
    "name": "ipython",
    "version": 3
   },
   "file_extension": ".py",
   "mimetype": "text/x-python",
   "name": "python",
   "nbconvert_exporter": "python",
   "pygments_lexer": "ipython3",
   "version": "3.9.13"
  }
 },
 "nbformat": 4,
 "nbformat_minor": 5
}
